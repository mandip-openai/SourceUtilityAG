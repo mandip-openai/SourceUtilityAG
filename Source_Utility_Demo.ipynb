{
  "nbformat": 4,
  "nbformat_minor": 0,
  "metadata": {
    "colab": {
      "provenance": [],
      "include_colab_link": true
    },
    "kernelspec": {
      "name": "python3",
      "display_name": "Python 3"
    },
    "language_info": {
      "name": "python"
    }
  },
  "cells": [
    {
      "cell_type": "markdown",
      "metadata": {
        "id": "view-in-github",
        "colab_type": "text"
      },
      "source": [
        "<a href=\"https://colab.research.google.com/github/mandip-openai/SourceUtilityAG/blob/main/Source_Utility_Demo.ipynb\" target=\"_parent\"><img src=\"https://colab.research.google.com/assets/colab-badge.svg\" alt=\"Open In Colab\"/></a>"
      ]
    },
    {
      "cell_type": "markdown",
      "source": [
        "# Graders\n"
      ],
      "metadata": {
        "id": "lgJBTpVK4wnI"
      }
    },
    {
      "cell_type": "code",
      "source": [
        "from maraschino_rater.q2d.raters import make_pairwise_rater, make_pointwise_rater\n",
        "import maraschino_rater.utils.lm_utils as lm_utils\n",
        "import json\n",
        "import functools\n",
        "import asyncio\n",
        "import typing\n",
        "from maraschino_rater.base import (\n",
        "    Document,\n",
        "    PairwiseRater,\n",
        "    PairwiseRating,\n",
        "    PointwiseRater,\n",
        "    PointwiseRating,\n",
        "    Query,\n",
        ")\n",
        "from pprint import pprint\n",
        "\n",
        "DEFAULT_INSTRUCTION = f\"\"\"\n",
        "You are a professional grader that judges the quality of search results.\n",
        "You need to follow the rating instruction below to rate a given QUERY - DOCUMENT pair with respect to each dimension.\n",
        "The QUERY contains the QUERY TEXT, DATE, and LOCATION of the searcher. The DOCUMENT contains TITLE, URL, PUBLICATION DATE, and CONTENT.\n",
        "Write your decision for each aspects in the markdown format. It should contain a title of the area, the rating, and detailed justification of your decision.\n",
        "If you have any confusion or something worth commenting, can also output them in a \"notes\".\n",
        "\n",
        "The response of each aspect (dimension) is:\n",
        "## <Aspect>\n",
        "* rating: <rating>\n",
        "* justification: <justification>\n",
        "* notes: <notes>\n",
        "\n",
        "The Rubrics is:\n",
        "\n",
        "\"\"\"\n",
        "\n",
        "DEFAULT_RUBRICS = \"Rate the relevance of the the search result DOCUMENT to the user QUERY.\"\n",
        "\n",
        "class Grader:\n",
        "  def __init__(self, instruction: str = DEFAULT_INSTRUCTION):\n",
        "    self.instruction = instruction\n",
        "\n",
        "  async def __call__(self, query: Query, document: Document, rubrics: str = \"\"):\n",
        "    date_spec = \"\"\n",
        "    if query.create_timestamp:\n",
        "        date_spec = f\"{query.create_timestamp.date()}\"\n",
        "    geo_spec = \"\"\n",
        "    if (\n",
        "        query.user_metadata\n",
        "        and query.user_metadata.user_country\n",
        "        and query.user_metadata.user_region\n",
        "        and query.user_metadata.ip_city\n",
        "    ):\n",
        "        geo_spec = f\"country - {query.user_metadata.user_country}, region - {query.user_metadata.user_region}, city - {query.user_metadata.ip_city}\"\n",
        "\n",
        "    input = f\"\"\"\n",
        "# Input Query and Document\n",
        "\n",
        "QUERY:\n",
        "QUERY TEXT: {query.query}\n",
        "DATE: {date_spec or \"N/A\"}\n",
        "LOCATION: {geo_spec or \"N/A\"}\n",
        "\n",
        "DOCUMENT:\n",
        "TITLE: {document.title or \"N/A\"}\n",
        "URL: {document.url}\n",
        "PUBLICATION DATE: {document.pub_date or \"N/A\"}\n",
        "CONTENT: {document.content if document.content else \"N/A\"}\n",
        "    \"\"\"\n",
        "\n",
        "    return await self.rate_text(input, rubrics)\n",
        "\n",
        "  async def rate_text(self, text: str, rubrics: str):\n",
        "    raise NotImplementedError()\n",
        "\n",
        "# This is DEMO, do not take it seriously\n",
        "def gen_example():\n",
        "  q = Query(query=\"Liberal Democrats largest donor 2005\")\n",
        "\n",
        "  d = Document(\n",
        "      url=\"https://www.theguardian.com/politics/2017/jun/15/controversial-lib-dem-donor-gave-200000-to-election-campaign\",\n",
        "      title=\"Controversial Lib Dem donor gave £200,000 to election campaign | Party funding | The Guardian\",\n",
        "      content=\"\"\"\n",
        "  In January, Rolls-Royce agreed to pay 【15†£671m in penalties】 to settle long-running bribery investigations by the Serious Fraud Office and overseas prosecutors, but separate criminal inquiries may follow in countries around the world where the company has admitted corruption.\n",
        "\n",
        "  The Guardian and the BBC’s Panorama have previously revealed that Choudhrie family companies were paid millions by Rolls-Royce for their work in 【16†India】.\n",
        "\n",
        "  In a letter, the Choudhries’ lawyers said: “Mr Choudhrie has never paid bribes to government officials or acted as an illegal ‘middleman’ in defence deals.”\n",
        "\n",
        "  Donors to the Tories included Express Newspapers, which gave nearly £80,000 in free advertising. The newspaper’s proprietor, Richard Desmond, backed Ukip in 2015 with a £1m donation, but his paper’s support for the anti-European party has waned since Britain voted to leave the EU.\n",
        "\n",
        "  Two of David Cameron’s most important donors also gave money in the last week of the campaign. Ian Taylor, the founder of oil trader Vitol, gave £25,000. Taylor withdrew his name from consideration for a knighthood in Cameron’s resignation honours list last year. Questions had been raised about Vitol’s activities in politically sensitive areas around the world. Taylor has been a Conservative donor for several years, and supported the remain campaign.\n",
        "\n",
        "  Countywide Developments, a property company run by Tony Gallagher, gave £25,000 in the last week. At the end of last year, Cameron celebrated his 50th birthday at Gallagher’s 17th-century Oxfordshire mansion.\n",
        "\n",
        "  David Rowland, a billionaire property developer, gave £100,000 to the May campaign.\n",
        "\n",
        "  Labour received £10,000 from the comedian Eddie Izzard and £8,000 from Matt Wrack, the head of the Fire Brigades Union.\n",
        "\n",
        "  Explore more on these topics.\n",
        "      \"\"\"\n",
        "  )\n",
        "\n",
        "  rubics = DEFAULT_RUBRICS\n",
        "  return q, d, rubics"
      ],
      "metadata": {
        "id": "wQadRhJx49lQ"
      },
      "execution_count": null,
      "outputs": []
    },
    {
      "cell_type": "markdown",
      "source": [
        "\n",
        "## Existing Grader\n",
        "\n",
        "* Do not rely on this too much for now as the grader engine is occupied by backfilling."
      ],
      "metadata": {
        "id": "EESKFj704-Rj"
      }
    },
    {
      "cell_type": "code",
      "execution_count": null,
      "metadata": {
        "id": "IQ8IkKW74sDj"
      },
      "outputs": [],
      "source": [
        "from maraschino_rater.q2d.raters import make_pairwise_rater, make_pointwise_rater\n",
        "from maraschino_rater.utils.lm_utils import RetriableLM, lm_from_api, neutrino_from_completer\n",
        "\n",
        "\n",
        "# lm_from_api(model=model, max_concurrency=max_concurrency)\n",
        "\n",
        "\n",
        "class ExistingGrader(Grader):\n",
        "  def __init__(self, instruction=DEFAULT_INSTRUCTION):\n",
        "    super().__init__(instruction)\n",
        "    self.grader = make_pointwise_rater(\n",
        "        name=\"neutrino_pointwise_rater\",\n",
        "        lm=neutrino_from_completer(topic_mode_or_user=\"bwen-citation-neutrino-grader-0116\"),\n",
        "    )\n",
        "\n",
        "  async def __call__(self, query: Query, document: Document):\n",
        "    rating = await self.grader(query, document)\n",
        "    return rating\n",
        "\n",
        "\n",
        "\n",
        "async def test_existing_grader():\n",
        "  q, d, _ = gen_example()\n",
        "  grader = ExistingGrader()\n",
        "  rating = await grader(q, d)\n",
        "  print(rating)\n",
        "\n",
        "# await test_existing_grader()"
      ]
    },
    {
      "cell_type": "markdown",
      "source": [
        "## Arbitrary Grader"
      ],
      "metadata": {
        "id": "U32SU9sa5E9K"
      }
    },
    {
      "cell_type": "code",
      "source": [
        "def _get_lm(\n",
        "      model: typing.Literal[\"neutrino\", \"gpt-4o-mini\", \"gpt4o-sonic-training\"],\n",
        "  ) -> lm_utils.LanguageModel:\n",
        "      if model == \"neutrino\":\n",
        "          lm = lm_utils.neutrino_from_completer(topic_mode_or_user=\"bwen-citation-neutrino-grader-0116\")\n",
        "      else:\n",
        "          lm = lm_utils.lm_from_api(model=model)\n",
        "\n",
        "      return lm_utils.RetriableLM(\n",
        "          lm=lm,\n",
        "          max_retry=3,\n",
        "          max_concurrency=10,\n",
        "      )\n",
        "\n",
        "\n",
        "class GeneralGrader(Grader):\n",
        "  def __init__(self, model: str, instruction=DEFAULT_INSTRUCTION):\n",
        "    super().__init__(instruction)\n",
        "    self.grader = _get_lm(model=model)\n",
        "\n",
        "  async def rate_text(self, text: str, rubrics: str):\n",
        "    conv = [\n",
        "        lm_utils.system_message(\n",
        "            f\"\"\"You are ChatGPT, a large language model developed by OpenAI.\n",
        "          \"\"\"\n",
        "        ),\n",
        "        lm_utils.user_message(\"\\n\".join([self.instruction, rubrics, text])),\n",
        "    ]\n",
        "\n",
        "    ans = None\n",
        "    try:\n",
        "      ans = await self.grader(conv)\n",
        "      if ans.content is None:\n",
        "          raise ValueError(\"Cannot parse empty message content\")\n",
        "      return ans.content\n",
        "    except Exception as e:\n",
        "        return f\"Error {e}, {str(ans)}\"\n",
        "\n",
        "\n",
        "async def test_general_grader(model=\"neutrino\"):\n",
        "  q, d, rubrics = gen_example()\n",
        "  grader = GeneralGrader(model=model)\n",
        "  rating = await grader(q, d, rubrics)\n",
        "  print(rating)\n",
        "\n",
        "await test_general_grader(\"gpt-4o-mini\")\n"
      ],
      "metadata": {
        "colab": {
          "base_uri": "https://localhost:8080/"
        },
        "id": "UZpVWRuf5EhS",
        "outputId": "8537624d-ffd1-4876-dfeb-95349c13848f"
      },
      "execution_count": null,
      "outputs": [
        {
          "output_type": "stream",
          "name": "stdout",
          "text": [
            "## Relevance\n",
            "* rating: 2\n",
            "* justification: The document discusses donations to the Liberal Democrats, but it does not specifically address the largest donor in 2005, which is the focus of the query. While it mentions a significant donation to the party, it lacks the specific information requested by the user regarding the largest donor for that particular year. The content is somewhat related but does not fulfill the user's request adequately.\n",
            "* notes: The document could be more relevant if it included specific details about the largest donor to the Liberal Democrats in 2005, as that is the key aspect of the query. \n",
            "\n",
            "## Authority\n",
            "* rating: 4\n",
            "* justification: The document is from The Guardian, a reputable news organization known for its political coverage. This adds credibility to the information presented, even though it does not fully address the query.\n",
            "* notes: The publication date is not provided, which could affect the perceived timeliness of the information, but The Guardian's established authority in journalism generally mitigates this concern.\n",
            "\n",
            "## Content Quality\n",
            "* rating: 3\n",
            "* justification: The content is well-written and informative, providing context about political donations and some notable figures involved. However, it lacks focus on the specific query about the largest donor in 2005, which detracts from its overall quality in relation to the user's needs.\n",
            "* notes: Including more specific data or analysis related to the 2005 donations would enhance the content quality significantly.\n",
            "\n",
            "## Timeliness\n",
            "* rating: 2\n",
            "* justification: The publication date is not provided, which makes it difficult to assess the timeliness of the information. Additionally, the content appears to be discussing events that are not current, which may not be relevant to a user looking for historical data from 2005.\n",
            "* notes: Providing a publication date would help in evaluating the relevance of the information in relation to the user's query about a specific year.\n"
          ]
        }
      ]
    },
    {
      "cell_type": "markdown",
      "source": [
        "# TB grader"
      ],
      "metadata": {
        "id": "PpJlBJ879fCo"
      }
    },
    {
      "cell_type": "code",
      "source": [
        "from sonic_training.experiments.index_switcher.v2.grader import utils\n",
        "\n",
        "class ToolberryGrader(Grader):\n",
        "  async def rate_text(self, text: str, rubrics: str):\n",
        "    convo = await utils.query_toolberry(prompt=\"\\n\".join([self.instruction, rubrics, text]), reward_multipler=128)\n",
        "    resp = str(convo.messages[-1].content)\n",
        "    return resp\n",
        "\n",
        "async def test_tbv2_grader():\n",
        "  q, d, rubrics = gen_example()\n",
        "  grader = ToolberryGrader()\n",
        "  rating = await grader(q, d, rubrics)\n",
        "  print(rating)\n",
        "\n",
        "await test_tbv2_grader()"
      ],
      "metadata": {
        "colab": {
          "base_uri": "https://localhost:8080/"
        },
        "id": "t9X_XxP79ehR",
        "outputId": "0fb0fead-ea2f-4b72-8d6e-551e48da9407"
      },
      "execution_count": null,
      "outputs": [
        {
          "output_type": "stream",
          "name": "stdout",
          "text": [
            "[2025-01-17T07:41:40.241025Z][syncio:19][I] Starting event loop canary\n",
            "[2025-01-17T07:41:40.361456Z][otel_utils:37][W] OTel metrics are not initialized, please initialize in your application by calling `otel.metrics.init()`\n",
            "[2025-01-17T07:41:40.561119Z][lazy_cluster:824][I] Starting RedisClient pool for berry-shared-default: host=bus-west-2.westus.redisenterprise.cache.azure.net, port=10000, max_connections=4\n",
            "[2025-01-17T07:41:41.673134Z][lazy_cluster:824][I] Starting RedisClient pool for berry-shared-liveness: host=bus-west-2.westus.redisenterprise.cache.azure.net, port=10000, max_connections=2\n",
            "[2025-01-17T07:41:42.538872Z][lazy_cluster:824][I] Starting RedisClient pool for berry-shared-block_read: host=bus-west-2.westus.redisenterprise.cache.azure.net, port=10000, max_connections=6\n",
            "[2025-01-17T07:41:42.578578Z][_simple_requestor:31][I] Request berry-shared:client:bwen-quail-quail-spark-master-0-435Q9p:0 submitted to berry-shared:snap:oaistrawberrychkpts/checkpoints/strawberrybr-tbv2-d64-1104-croche-replay-surgeried-v4/checkpoint/policy/000000003200:user:sonic2 with redis_entry_id=1737099702564-0\n",
            "[2025-01-17T07:42:29.030416Z][_requestor:477][I] bwen-quail-quail-spark-master-0-435Q9p: Response for seqno=0 (1737099702564-0) received.\n",
            "[2025-01-17T07:42:29.030485Z][_requestor:404][I] Handled 1 responses to berry-shared:client:bwen-quail-quail-spark-master-0-435Q9p.\n",
            "[2025-01-17T07:42:29.030904Z][_requestor:343][I] berry-shared:client:bwen-quail-quail-spark-master-0-435Q9p: Returning response to request berry-shared:client:bwen-quail-quail-spark-master-0-435Q9p:0; took 46.49410438537598s. 0 pending/0 outstanding/1 completed/0 errors\n",
            "[2025-01-17T07:42:29.030963Z][_requestor:170][W] berry-shared:client:bwen-quail-quail-spark-master-0-435Q9p: no more outstanding/pending requests; closing requestor. 0 pending/0 outstanding/1 completed/0 errors\n",
            "## Relevance\n",
            "* rating: Low\n",
            "* justification: The article describes various donors in a 2017 Guardian piece and not specifically the Liberal Democrats' largest donor in 2005. It does not answer the query.\n",
            "* notes: None\n"
          ]
        }
      ]
    },
    {
      "cell_type": "markdown",
      "source": [
        "# TB with Browse"
      ],
      "metadata": {
        "id": "V9v-wHDQDO-c"
      }
    },
    {
      "cell_type": "code",
      "source": [
        "from sonic_training.experiments.tools.lean_browser_sampling import load_completer, make_convo\n",
        "\n",
        "class ToolberryWithBrowseGrader(Grader):\n",
        "  async def rate_text(self, text: str, rubrics: str):\n",
        "    convo = make_convo(\n",
        "      \"\\n\".join(\n",
        "          [self.instruction, rubrics, text, \"You can use browser.tool_call to help you grading. \"]\n",
        "      )\n",
        "    )\n",
        "    tc = await load_completer()\n",
        "    result = None\n",
        "    async for result in tc.async_completion_stream(convo, include_system_messages=False):\n",
        "        pass\n",
        "    assert result is not None\n",
        "    for message in result.input_conversation.messages:\n",
        "        print(f\"input: {message=}\")\n",
        "    for message in result.output_messages:\n",
        "        print(f\"output: {message=}\")\n",
        "    return result.output_messages[-1]\n",
        "\n",
        "async def test_tbv2_with_browse_grader():\n",
        "  q, d, rubrics = gen_example()\n",
        "  grader = ToolberryWithBrowseGrader()\n",
        "  rating = await grader(q, d, rubrics)\n",
        "  print(rating)\n",
        "\n",
        "await test_tbv2_with_browse_grader()"
      ],
      "metadata": {
        "colab": {
          "base_uri": "https://localhost:8080/",
          "height": 1000
        },
        "id": "23Wd6zVIBnEA",
        "outputId": "9fd626fe-844e-4d1c-9668-f582780ec796"
      },
      "execution_count": null,
      "outputs": [
        {
          "output_type": "stream",
          "name": "stdout",
          "text": [
            "\u001b[2m2025-01-17 22:49:30\u001b[0m [\u001b[32m\u001b[1mdebug    \u001b[0m] \u001b[1mSuccessfully subscribed to berry-shared:client:bwen-quail-spart-grader-master-0-dvyFKW.\u001b[0m \u001b[36mbus\u001b[0m=\u001b[35mTrue\u001b[0m\n",
            "\u001b[2m2025-01-17 22:49:32\u001b[0m [\u001b[33m\u001b[1mwarning  \u001b[0m] \u001b[1m%s: %s outstanding. %s        \u001b[0m \u001b[36mbus\u001b[0m=\u001b[35mTrue\u001b[0m \u001b[36mpositional_args\u001b[0m=\u001b[35m('berry-shared:client:bwen-quail-spart-grader-master-0-dvyFKW', \"seq #'s 6 (1737154171247-0)\", '0 pending/1 outstanding/6 completed/0 errors')\u001b[0m\n",
            "\u001b[2m2025-01-17 22:49:32\u001b[0m [\u001b[33m\u001b[1mwarning  \u001b[0m] \u001b[1m%s: no more outstanding/pending requests; closing requestor. %s\u001b[0m \u001b[36mbus\u001b[0m=\u001b[35mTrue\u001b[0m \u001b[36mpositional_args\u001b[0m=\u001b[35m('berry-shared:client:bwen-quail-spart-grader-master-0-dvyFKW', '0 pending/0 outstanding/7 completed/0 errors')\u001b[0m\n",
            "\u001b[2m2025-01-17 22:49:32\u001b[0m [\u001b[32m\u001b[1mdebug    \u001b[0m] \u001b[1mTopicManager(berry-shared:client:bwen-quail-spart-grader-master-0-dvyFKW): 'CancelledError - Requestor(berry-shared:client:bwen-quail-spart-grader-master-0-dvyFKW).close()' thrown; exiting.\u001b[0m \u001b[36mbus\u001b[0m=\u001b[35mTrue\u001b[0m\n"
          ]
        },
        {
          "output_type": "stream",
          "name": "stderr",
          "text": [
            "WARNING:sonic_training.experiments.tools.lean_browser_sampling:already have _tool\n"
          ]
        },
        {
          "output_type": "stream",
          "name": "stdout",
          "text": [
            "\u001b[2m2025-01-17 22:49:32\u001b[0m [\u001b[32m\u001b[1mdebug    \u001b[0m] \u001b[1m_Requestor.handle_responses(berry-shared:client:bwen-quail-spart-grader-master-0-dvyFKW): 'CancelledError - Requestor(berry-shared:client:bwen-quail-spart-grader-master-0-dvyFKW).close()' thrown; exiting.\u001b[0m \u001b[36mbus\u001b[0m=\u001b[35mTrue\u001b[0m\n"
          ]
        },
        {
          "output_type": "stream",
          "name": "stderr",
          "text": [
            "WARNING:sonic_training.experiments.tools.lean_browser_sampling:already have _tool\n",
            "WARNING:sonic_training.experiments.tools.lean_browser_sampling:Processing message with tool <class 'lean_browser.lean_browser_tool.LeanBrowserTool'>\n"
          ]
        },
        {
          "output_type": "stream",
          "name": "stdout",
          "text": [
            "\u001b[2m2025-01-17 22:49:32\u001b[0m [\u001b[32m\u001b[1mdebug    \u001b[0m] \u001b[1mHeartbeatManager(berry-shared:client:bwen-quail-spart-grader-master-0-dvyFKW:alive): 'CancelledError - HeartbeatManager(berry-shared:client:bwen-quail-spart-grader-master-0-dvyFKW:alive).stop()' thrown; exiting.\u001b[0m \u001b[36mbus\u001b[0m=\u001b[35mTrue\u001b[0m\n"
          ]
        },
        {
          "output_type": "display_data",
          "data": {
            "text/plain": [],
            "text/html": [
              "<pre style=\"white-space:pre;overflow-x:auto;line-height:normal;font-family:Menlo,'DejaVu Sans Mono',consolas,'Courier New',monospace\"></pre>\n"
            ]
          },
          "metadata": {}
        },
        {
          "output_type": "stream",
          "name": "stderr",
          "text": [
            "WARNING:sonic_training.experiments.tools.lean_browser_sampling:Yielding message tool -> all\n",
            "╭─────────────────────────────────────────────────────────────────────────────────────────────────────────────────╮\n",
            "│ content_type='system_error' name='ToolUsageError' text='No pages to access!'                                    │\n",
            "╰─────────────────────────────────────────────────────────────────────────────────────────────────────────────────╯\n",
            "Content Type: system_error\n",
            "Channel: analysis\n",
            "Weight: \u001b[1;36m1.0\u001b[0m\n",
            "End Turn: \u001b[3;35mNone\u001b[0m\n",
            "\n"
          ]
        },
        {
          "output_type": "stream",
          "name": "stdout",
          "text": [
            "\u001b[2m2025-01-17 22:49:32\u001b[0m [\u001b[32m\u001b[1minfo     \u001b[0m] \u001b[1mModel function call complete  \u001b[0m \u001b[36mcomponent\u001b[0m=\u001b[35mfunction_calling_tool\u001b[0m \u001b[36mfunction_calling_tool\u001b[0m=\u001b[35m{'tool_name': 'browser', 'call_id': 'fncall_86c3ec6aea9b42259dad7fb928a5ad12', 'input_message': {'id': UUID('e781f5aa-04d6-4a99-835e-e2075ae8994d'), 'author': {'role': <Role.ASSISTANT: 'assistant'>, 'name': None}, 'recipient': 'browser.open', 'channel': 'analysis', 'content': {'content_type': 'code', '__str__': '{\"id\": 0, \"cursor\": 0}'}}, 'response_message_ids': ['ead61718-a2dc-4f5b-96a0-60f8fd0b4e39'], 'finished_successfully': True, 'function_calling_tool_version': '1.0.2', 'function_name': 'open', 'kwargs': {'id': 0, 'cursor': 0}, '__fn_calling_tool_fn_type__': 'function_the_model_can_call'}\u001b[0m\n",
            "\u001b[2m2025-01-17 22:49:32\u001b[0m [\u001b[32m\u001b[1mdebug    \u001b[0m] \u001b[1mSuccessfully subscribed to berry-shared:client:bwen-quail-spart-grader-master-0-dvyFKW.\u001b[0m \u001b[36mbus\u001b[0m=\u001b[35mTrue\u001b[0m\n",
            "\u001b[2m2025-01-17 22:49:33\u001b[0m [\u001b[33m\u001b[1mwarning  \u001b[0m] \u001b[1m%s: no more outstanding/pending requests; closing requestor. %s\u001b[0m \u001b[36mbus\u001b[0m=\u001b[35mTrue\u001b[0m \u001b[36mpositional_args\u001b[0m=\u001b[35m('berry-shared:client:bwen-quail-spart-grader-master-0-dvyFKW', '0 pending/0 outstanding/8 completed/0 errors')\u001b[0m\n"
          ]
        },
        {
          "output_type": "stream",
          "name": "stderr",
          "text": [
            "WARNING:sonic_training.experiments.tools.lean_browser_sampling:already have _tool\n"
          ]
        },
        {
          "output_type": "stream",
          "name": "stdout",
          "text": [
            "\u001b[2m2025-01-17 22:49:33\u001b[0m [\u001b[32m\u001b[1mdebug    \u001b[0m] \u001b[1mTopicManager(berry-shared:client:bwen-quail-spart-grader-master-0-dvyFKW): 'CancelledError - Requestor(berry-shared:client:bwen-quail-spart-grader-master-0-dvyFKW).close()' thrown; exiting.\u001b[0m \u001b[36mbus\u001b[0m=\u001b[35mTrue\u001b[0m\n"
          ]
        },
        {
          "output_type": "stream",
          "name": "stderr",
          "text": [
            "WARNING:sonic_training.experiments.tools.lean_browser_sampling:already have _tool\n"
          ]
        },
        {
          "output_type": "stream",
          "name": "stdout",
          "text": [
            "\u001b[2m2025-01-17 22:49:33\u001b[0m [\u001b[32m\u001b[1mdebug    \u001b[0m] \u001b[1m_Requestor.handle_responses(berry-shared:client:bwen-quail-spart-grader-master-0-dvyFKW): 'CancelledError - Requestor(berry-shared:client:bwen-quail-spart-grader-master-0-dvyFKW).close()' thrown; exiting.\u001b[0m \u001b[36mbus\u001b[0m=\u001b[35mTrue\u001b[0m\n",
            "\u001b[2m2025-01-17 22:49:33\u001b[0m [\u001b[32m\u001b[1mdebug    \u001b[0m] \u001b[1mHeartbeatManager(berry-shared:client:bwen-quail-spart-grader-master-0-dvyFKW:alive): 'CancelledError - HeartbeatManager(berry-shared:client:bwen-quail-spart-grader-master-0-dvyFKW:alive).stop()' thrown; exiting.\u001b[0m \u001b[36mbus\u001b[0m=\u001b[35mTrue\u001b[0m\n"
          ]
        },
        {
          "output_type": "stream",
          "name": "stderr",
          "text": [
            "WARNING:sonic_training.experiments.tools.lean_browser_sampling:Processing message with tool <class 'lean_browser.lean_browser_tool.LeanBrowserTool'>\n",
            "WARNING:lean_browser.lean_browser_tool:Error fetching URL in lean browser tool\n",
            "Traceback (most recent call last):\n",
            "  File \"/root/code/openai/lib/harmony_tools/lean_browser/lean_browser/lean_browser_tool.py\", line 639, in _open_url\n",
            "    page = await backend.fetch(url, session=session)\n",
            "           ^^^^^^^^^^^^^^^^^^^^^^^^^^^^^^^^^^^^^^^^^\n",
            "  File \"/root/code/openai/lib/harmony_tools/lean_browser/lean_browser/hybrid_backend.py\", line 66, in fetch\n",
            "    pc = await self.fetch_fn.fetch(self._url_converter(url), session)\n",
            "         ^^^^^^^^^^^^^^^^^^^^^^^^^^^^^^^^^^^^^^^^^^^^^^^^^^^^^^^^^^^^\n",
            "  File \"/root/code/openai/lib/harmony_tools/lean_browser/lean_browser/backend.py\", line 592, in fetch\n",
            "    return await self.result_to_page_contents(result, session, is_view_source)\n",
            "           ^^^^^^^^^^^^^^^^^^^^^^^^^^^^^^^^^^^^^^^^^^^^^^^^^^^^^^^^^^^^^^^^^^^\n",
            "  File \"/root/code/openai/lib/harmony_tools/lean_browser/lean_browser/backend.py\", line 575, in result_to_page_contents\n",
            "    raise ValueError(f\"[{result.error_type}] {result.error_message}\")\n",
            "ValueError: [BLOCK_LIST] blocked by policy: Default\n"
          ]
        },
        {
          "output_type": "display_data",
          "data": {
            "text/plain": [],
            "text/html": [
              "<pre style=\"white-space:pre;overflow-x:auto;line-height:normal;font-family:Menlo,'DejaVu Sans Mono',consolas,'Courier New',monospace\"></pre>\n"
            ]
          },
          "metadata": {}
        },
        {
          "output_type": "stream",
          "name": "stderr",
          "text": [
            "WARNING:sonic_training.experiments.tools.lean_browser_sampling:Yielding message tool -> all\n",
            "╭─────────────────────────────────────────────────────────────────────────────────────────────────────────────────╮\n",
            "│ content_type='system_error' name='BackendError' text='Error fetching URL                                        │\n",
            "│ `https://www.theguardian.com/politics/2017/jun/15/controversial-lib-dem-donor-gave-200000-to-election-campaign` │\n",
            "│ : [BLOCK_LIST] blocked by policy: Default'                                                                      │\n",
            "╰─────────────────────────────────────────────────────────────────────────────────────────────────────────────────╯\n",
            "Content Type: system_error\n",
            "Channel: analysis\n",
            "Weight: \u001b[1;36m1.0\u001b[0m\n",
            "End Turn: \u001b[3;35mNone\u001b[0m\n",
            "\n"
          ]
        },
        {
          "output_type": "stream",
          "name": "stdout",
          "text": [
            "\u001b[2m2025-01-17 22:49:34\u001b[0m [\u001b[32m\u001b[1minfo     \u001b[0m] \u001b[1mModel function call complete  \u001b[0m \u001b[36mcomponent\u001b[0m=\u001b[35mfunction_calling_tool\u001b[0m \u001b[36mfunction_calling_tool\u001b[0m=\u001b[35m{'tool_name': 'browser', 'call_id': 'fncall_986fa2fad9ea4bac8e9f2cee4ffec565', 'input_message': {'id': UUID('eee5b357-16c2-4a45-bb78-368ccb8ae2be'), 'author': {'role': <Role.ASSISTANT: 'assistant'>, 'name': None}, 'recipient': 'browser.open', 'channel': 'analysis', 'content': {'content_type': 'code', '__str__': '{\"id\": \"https://www.theguardian.com/politics/2017/jun/15/controversial-lib-dem-donor-gave-200000-to-election-campaign\"}'}}, 'response_message_ids': ['d5035671-43a1-4b2d-b4ea-756b236e6c29'], 'finished_successfully': True, 'function_calling_tool_version': '1.0.2', 'function_name': 'open', 'kwargs': {'id': 'https://www.theguardian.com/politics/2017/jun/15/controversial-lib-dem-donor-gave-200000-to-election-campaign'}, '__fn_calling_tool_fn_type__': 'function_the_model_can_call'}\u001b[0m\n",
            "\u001b[2m2025-01-17 22:49:34\u001b[0m [\u001b[32m\u001b[1mdebug    \u001b[0m] \u001b[1mSuccessfully subscribed to berry-shared:client:bwen-quail-spart-grader-master-0-dvyFKW.\u001b[0m \u001b[36mbus\u001b[0m=\u001b[35mTrue\u001b[0m\n",
            "\u001b[2m2025-01-17 22:50:13\u001b[0m [\u001b[33m\u001b[1mwarning  \u001b[0m] \u001b[1m%s: no more outstanding/pending requests; closing requestor. %s\u001b[0m \u001b[36mbus\u001b[0m=\u001b[35mTrue\u001b[0m \u001b[36mpositional_args\u001b[0m=\u001b[35m('berry-shared:client:bwen-quail-spart-grader-master-0-dvyFKW', '0 pending/0 outstanding/9 completed/0 errors')\u001b[0m\n",
            "\u001b[2m2025-01-17 22:50:13\u001b[0m [\u001b[32m\u001b[1mdebug    \u001b[0m] \u001b[1mTopicManager(berry-shared:client:bwen-quail-spart-grader-master-0-dvyFKW): 'CancelledError - Requestor(berry-shared:client:bwen-quail-spart-grader-master-0-dvyFKW).close()' thrown; exiting.\u001b[0m \u001b[36mbus\u001b[0m=\u001b[35mTrue\u001b[0m\n",
            "\u001b[2m2025-01-17 22:50:13\u001b[0m [\u001b[32m\u001b[1mdebug    \u001b[0m] \u001b[1m_Requestor.handle_responses(berry-shared:client:bwen-quail-spart-grader-master-0-dvyFKW): 'CancelledError - Requestor(berry-shared:client:bwen-quail-spart-grader-master-0-dvyFKW).close()' thrown; exiting.\u001b[0m \u001b[36mbus\u001b[0m=\u001b[35mTrue\u001b[0m\n",
            "\u001b[2m2025-01-17 22:50:13\u001b[0m [\u001b[32m\u001b[1mdebug    \u001b[0m] \u001b[1mHeartbeatManager(berry-shared:client:bwen-quail-spart-grader-master-0-dvyFKW:alive): 'CancelledError - HeartbeatManager(berry-shared:client:bwen-quail-spart-grader-master-0-dvyFKW:alive).stop()' thrown; exiting.\u001b[0m \u001b[36mbus\u001b[0m=\u001b[35mTrue\u001b[0m\n"
          ]
        },
        {
          "output_type": "stream",
          "name": "stderr",
          "text": [
            "WARNING:sonic_training.experiments.tools.lean_browser_sampling:already have _tool\n",
            "WARNING:sonic_training.experiments.tools.lean_browser_sampling:already have _tool\n",
            "WARNING:sonic_training.experiments.tools.lean_browser_sampling:Processing message with tool <class 'lean_browser.lean_browser_tool.LeanBrowserTool'>\n"
          ]
        },
        {
          "output_type": "display_data",
          "data": {
            "text/plain": [],
            "text/html": [
              "<pre style=\"white-space:pre;overflow-x:auto;line-height:normal;font-family:Menlo,'DejaVu Sans Mono',consolas,'Courier New',monospace\"></pre>\n"
            ]
          },
          "metadata": {}
        },
        {
          "output_type": "stream",
          "name": "stderr",
          "text": [
            "WARNING:sonic_training.experiments.tools.lean_browser_sampling:Yielding message tool -> all\n",
            "╭─────────────────────────────────────────────────────────────────────────────────────────────────────────────────╮\n",
            "│ content_type='tether_browsing_display' result=\"L0: # 【0†Michael Brown (fraudster) -                            │\n",
            "│ Wikipedia†en.wikipedia.org】\\nL1: Michael Robert Alexander Brown (born 19 April 1966 in Glasgow) is a Scottish  │\n",
            "│ \\nL2: businessman and fugitive convicted in absentia of theft, perjury and perverting \\nL3: the course of       │\n",
            "│ justice.Between 10 February and 30 March 2005 he donated £2.4 \\nL4: million to the Liberal Democrats.He was the │\n",
            "│ largest donor the party had ever \\nL5: had, giving ten times more than anything it had received before.\\nL6:    │\n",
            "│ \\nL7: # 【1†BBC News - Lib Dems can keep £2.4m donation, rules watchdog†news.bbc.co.uk】\\nL8: The elections     │\n",
            "│ watchdog has ruled that the Liberal Democrats can keep £2.4m in \\nL9: donations which it had been suggested     │\n",
            "│ came from a fraudster. ... the UK's third \\nL10: largest political party - by 5th Avenue Partners Ltd in 2005,  │\n",
            "│ ahead of its \\nL11: general election campaign. Permissible donor. In its findings the Electoral \\nL12:          │\n",
            "│ Commission said Brown - who was ...\\nL13: \\nL14: # 【2†Extra six months jail for Lib Dem donor Michael Brown    │\n",
            "│ who fled \\nL15: fraud†www.independent.co.uk】\\nL16: After posing as a well-connected bonds dealer, he secretly  │\n",
            "│ used investors' money\\nL17:  to fund a record donation of £2.4m to the Liberal Democrats' 2005 election war     │\n",
            "│ \\nL18: chest. The party was later cleared ...\\nL19: \\nL20: # 【3†Lib Dem donor Michael Brown to start jail term │\n",
            "│ - BBC News†www.bbc.com】\\nL21: Brown's donation to the Liberal Democrats' election war chest - its largest      │\n",
            "│ ever\\nL22:  donation - was funded through the use of investors' money. The Electoral \\nL23: Commission ruled in │\n",
            "│ 2009 that the party ...\\nL24: \\nL25: # 【4†The Liberal Democrats&#39; biggest donor, who has been on the run    │\n",
            "│ for \\nL26: ...†deadoralivezone.blogspot.com】\\nL27: Michael Brown has been on the run for three years after     │\n",
            "│ being convicted of a \\nL28: multimillion pound theft. Photograph: Rex Features Michael Br...\\nL29: \\nL30: #     │\n",
            "│ 【5†Who are the biggest donors for the Lib Dems? - \\nL31: LondonLovesBusiness†londonlovesbusiness.com】\\nL32:   │\n",
            "│ The latest records from the Electoral Commission show that that the Liberal \\nL33: Democrats raised £335,000 in │\n",
            "│ donations in the second week of the campaign. This \\nL34: took their total donations towards ...\\nL35: \\nL36: # │\n",
            "│ 【6†Liberal Democrat &#163;2m donor Michael Brown goes missing ahead of \\nL37: ...†www.telegraph.co.uk】\\nL38:  │\n",
            "│ Brown's donation to the Liberal Democrats was given shortly before the 2005 \\nL39: general election and was the │\n",
            "│ largest gift in the party's history. The Lib Dems \\nL40: lauded the gift at the time, but this ...\\nL41: \\nL42: │\n",
            "│ # 【7†ON THIS DAY 5th May 2005: The... - Liberal Democrat History - \\nL43: Facebook†www.facebook.com】\\nL44: ON │\n",
            "│ THIS DAY 5th May 2005: The Liberal Democrats win 62 seats in the 2005 general\\nL45:  election, the largest      │\n",
            "│ number of Liberal MPs elected since 1923. The election \\nL46: saw Tony Blair and the Labour Party...\\nL47:      │\n",
            "│ \\nL48: # 【8†What is the history of the Liberal Democrats and where do they stand \\nL49:                        │\n",
            "│ ...†politicsteaching.com】\\nL50: The Liberal Democrats secured their strongest ever showing in the 2005 General │\n",
            "│ \\nL51: Election under Charles Kennedy. The Liberal Democrats have long been considered \\nL52: the third party   │\n",
            "│ in UK national politics. At their height, the Liberal Democrats \\nL53: held 62 seats, a result they achieved    │\n",
            "│ under Charles Kennedy's leadership at the \\nL54: 2005 General Election.\\nL55: \\nL56: # 【9†tHe LiBeRaL          │\n",
            "│ DemOcRats in tHe 2005 eLectiOn - The website of the Liberal \\nL57: ...†liberalhistory.org.uk】\\nL58: the 2005   │\n",
            "│ general election amongst Liberal Democrats is misplaced. Over the 2001 \\nL59: and 2005 elections the party has, │\n",
            "│ for the first time ever, advanced during a \\nL60: period of Labour government, while in 2005 it concentrated    │\n",
            "│ its advance in \\nL61: previously relatively barren Labour territory. If these gains are held they will\\nL62:    │\n",
            "│ significantly increase the prospect\" summary='Search results for query `\"Liberal Democrats\" largest donor       │\n",
            "│ 2005`\\n**viewing lines [0 - 62] of 62**\\n\\n' assets=None tether_id=0                                            │\n",
            "╰─────────────────────────────────────────────────────────────────────────────────────────────────────────────────╯\n",
            "Content Type: tether_browsing_display\n",
            "Channel: analysis\n",
            "Weight: \u001b[1;36m1.0\u001b[0m\n",
            "End Turn: \u001b[3;35mNone\u001b[0m\n",
            "\n"
          ]
        },
        {
          "output_type": "stream",
          "name": "stdout",
          "text": [
            "\u001b[2m2025-01-17 22:50:14\u001b[0m [\u001b[32m\u001b[1minfo     \u001b[0m] \u001b[1mModel function call complete  \u001b[0m \u001b[36mcomponent\u001b[0m=\u001b[35mfunction_calling_tool\u001b[0m \u001b[36mfunction_calling_tool\u001b[0m=\u001b[35m{'tool_name': 'browser', 'call_id': 'fncall_f04c7b06817248b49bb14ae9f4104244', 'input_message': {'id': UUID('834cbef6-e1bb-490a-93c1-325340884002'), 'author': {'role': <Role.ASSISTANT: 'assistant'>, 'name': None}, 'recipient': 'browser.search', 'channel': 'analysis', 'content': {'content_type': 'code', '__str__': '{\"query\": \"\\\\\"Liberal Democrats\\\\\" largest donor 2005\"}'}}, 'response_message_ids': ['52dcdbc1-dada-4549-8e62-943c9669b355'], 'finished_successfully': True, 'function_calling_tool_version': '1.0.2', 'function_name': 'search', 'kwargs': {'query': '\"Liberal Democrats\" largest donor 2005'}, '__fn_calling_tool_fn_type__': 'function_the_model_can_call'}\u001b[0m\n",
            "\u001b[2m2025-01-17 22:50:14\u001b[0m [\u001b[32m\u001b[1mdebug    \u001b[0m] \u001b[1mSuccessfully subscribed to berry-shared:client:bwen-quail-spart-grader-master-0-dvyFKW.\u001b[0m \u001b[36mbus\u001b[0m=\u001b[35mTrue\u001b[0m\n",
            "\u001b[2m2025-01-17 22:50:15\u001b[0m [\u001b[33m\u001b[1mwarning  \u001b[0m] \u001b[1m%s: no more outstanding/pending requests; closing requestor. %s\u001b[0m \u001b[36mbus\u001b[0m=\u001b[35mTrue\u001b[0m \u001b[36mpositional_args\u001b[0m=\u001b[35m('berry-shared:client:bwen-quail-spart-grader-master-0-dvyFKW', '0 pending/0 outstanding/10 completed/0 errors')\u001b[0m\n",
            "\u001b[2m2025-01-17 22:50:15\u001b[0m [\u001b[32m\u001b[1mdebug    \u001b[0m] \u001b[1mTopicManager(berry-shared:client:bwen-quail-spart-grader-master-0-dvyFKW): 'CancelledError - Requestor(berry-shared:client:bwen-quail-spart-grader-master-0-dvyFKW).close()' thrown; exiting.\u001b[0m \u001b[36mbus\u001b[0m=\u001b[35mTrue\u001b[0m\n"
          ]
        },
        {
          "output_type": "stream",
          "name": "stderr",
          "text": [
            "WARNING:sonic_training.experiments.tools.lean_browser_sampling:already have _tool\n",
            "WARNING:sonic_training.experiments.tools.lean_browser_sampling:already have _tool\n",
            "WARNING:sonic_training.experiments.tools.lean_browser_sampling:Processing message with tool <class 'lean_browser.lean_browser_tool.LeanBrowserTool'>\n"
          ]
        },
        {
          "output_type": "stream",
          "name": "stdout",
          "text": [
            "\u001b[2m2025-01-17 22:50:15\u001b[0m [\u001b[32m\u001b[1mdebug    \u001b[0m] \u001b[1m_Requestor.handle_responses(berry-shared:client:bwen-quail-spart-grader-master-0-dvyFKW): 'CancelledError - Requestor(berry-shared:client:bwen-quail-spart-grader-master-0-dvyFKW).close()' thrown; exiting.\u001b[0m \u001b[36mbus\u001b[0m=\u001b[35mTrue\u001b[0m\n",
            "\u001b[2m2025-01-17 22:50:15\u001b[0m [\u001b[32m\u001b[1mdebug    \u001b[0m] \u001b[1mHeartbeatManager(berry-shared:client:bwen-quail-spart-grader-master-0-dvyFKW:alive): 'CancelledError - HeartbeatManager(berry-shared:client:bwen-quail-spart-grader-master-0-dvyFKW:alive).stop()' thrown; exiting.\u001b[0m \u001b[36mbus\u001b[0m=\u001b[35mTrue\u001b[0m\n"
          ]
        },
        {
          "output_type": "stream",
          "name": "stderr",
          "text": [
            "ERROR:retrieval.backends.total:Total fetch error [index=''web-w'', urls='[]', kwargs=''{\"url\": \"\", \"caller_id\": \"cached_browser_tool\", \"identity\": \"GPTBOT10\", \"use_labrador_main\": true}''] Traceback: 'Traceback (most recent call last):\\n  File \"/root/code/openai/lib/retrieval/retrieval/backends/total.py\", line 115, in fetch\\n    response.raise_for_status()\\n  File \"/root/.pyenv/versions/3.11.8/lib/python3.11/site-packages/aiohttp/client_reqrep.py\", line 1070, in raise_for_status\\n    raise ClientResponseError(\\naiohttp.client_exceptions.ClientResponseError: 400, message=\\'Bad Request\\', url=URL(\\'https://rekall.ace-research.openai.org/total//fetch\\')\\n'\n",
            "Traceback (most recent call last):\n",
            "  File \"/root/code/openai/lib/retrieval/retrieval/backends/total.py\", line 115, in fetch\n",
            "    response.raise_for_status()\n",
            "  File \"/root/.pyenv/versions/3.11.8/lib/python3.11/site-packages/aiohttp/client_reqrep.py\", line 1070, in raise_for_status\n",
            "    raise ClientResponseError(\n",
            "aiohttp.client_exceptions.ClientResponseError: 400, message='Bad Request', url=URL('https://rekall.ace-research.openai.org/total//fetch')\n",
            "WARNING:lean_browser.lean_browser_tool:Error fetching URL in lean browser tool\n",
            "Traceback (most recent call last):\n",
            "  File \"/root/code/openai/lib/harmony_tools/lean_browser/lean_browser/lean_browser_tool.py\", line 639, in _open_url\n",
            "    page = await backend.fetch(url, session=session)\n",
            "           ^^^^^^^^^^^^^^^^^^^^^^^^^^^^^^^^^^^^^^^^^\n",
            "  File \"/root/code/openai/lib/harmony_tools/lean_browser/lean_browser/hybrid_backend.py\", line 66, in fetch\n",
            "    pc = await self.fetch_fn.fetch(self._url_converter(url), session)\n",
            "         ^^^^^^^^^^^^^^^^^^^^^^^^^^^^^^^^^^^^^^^^^^^^^^^^^^^^^^^^^^^^\n",
            "  File \"/root/code/openai/lib/harmony_tools/lean_browser/lean_browser/backend.py\", line 586, in fetch\n",
            "    result = await self.fetch_with_retries(url, session)\n",
            "             ^^^^^^^^^^^^^^^^^^^^^^^^^^^^^^^^^^^^^^^^^^^\n",
            "  File \"/root/code/openai/lib/harmony_tools/lean_browser/lean_browser/backend.py\", line 539, in fetch_with_retries\n",
            "    return await fetch_tenaciously()\n",
            "           ^^^^^^^^^^^^^^^^^^^^^^^^^\n",
            "  File \"/root/.pyenv/versions/3.11.8/lib/python3.11/site-packages/tenacity/asyncio/__init__.py\", line 189, in async_wrapped\n",
            "    return await copy(fn, *args, **kwargs)\n",
            "           ^^^^^^^^^^^^^^^^^^^^^^^^^^^^^^^\n",
            "  File \"/root/.pyenv/versions/3.11.8/lib/python3.11/site-packages/tenacity/asyncio/__init__.py\", line 111, in __call__\n",
            "    do = await self.iter(retry_state=retry_state)\n",
            "         ^^^^^^^^^^^^^^^^^^^^^^^^^^^^^^^^^^^^^^^^\n",
            "  File \"/root/.pyenv/versions/3.11.8/lib/python3.11/site-packages/tenacity/asyncio/__init__.py\", line 153, in iter\n",
            "    result = await action(retry_state)\n",
            "             ^^^^^^^^^^^^^^^^^^^^^^^^^\n",
            "  File \"/root/.pyenv/versions/3.11.8/lib/python3.11/site-packages/tenacity/_utils.py\", line 99, in inner\n",
            "    return call(*args, **kwargs)\n",
            "           ^^^^^^^^^^^^^^^^^^^^^\n",
            "  File \"/root/.pyenv/versions/3.11.8/lib/python3.11/site-packages/tenacity/__init__.py\", line 398, in <lambda>\n",
            "    self._add_action_func(lambda rs: rs.outcome.result())\n",
            "                                     ^^^^^^^^^^^^^^^^^^^\n",
            "  File \"/root/.pyenv/versions/3.11.8/lib/python3.11/concurrent/futures/_base.py\", line 449, in result\n",
            "    return self.__get_result()\n",
            "           ^^^^^^^^^^^^^^^^^^^\n",
            "  File \"/root/.pyenv/versions/3.11.8/lib/python3.11/concurrent/futures/_base.py\", line 401, in __get_result\n",
            "    raise self._exception\n",
            "  File \"/root/.pyenv/versions/3.11.8/lib/python3.11/site-packages/tenacity/asyncio/__init__.py\", line 114, in __call__\n",
            "    result = await fn(*args, **kwargs)\n",
            "             ^^^^^^^^^^^^^^^^^^^^^^^^^\n",
            "  File \"/root/code/openai/lib/harmony_tools/lean_browser/lean_browser/backend.py\", line 509, in fetch_fn\n",
            "    raw_response = await self.hit_total(url=url, session=session)\n",
            "                   ^^^^^^^^^^^^^^^^^^^^^^^^^^^^^^^^^^^^^^^^^^^^^^\n",
            "  File \"/root/code/openai/lib/harmony_tools/lean_browser/lean_browser/backend.py\", line 616, in hit_total\n",
            "    raw_response = await total.TotalClient().fetch(\n",
            "                   ^^^^^^^^^^^^^^^^^^^^^^^^^^^^^^^^\n",
            "  File \"/root/code/openai/lib/otel/otel/traces.py\", line 202, in async_wrapper\n",
            "    return await fn(*args, **kwargs)\n",
            "           ^^^^^^^^^^^^^^^^^^^^^^^^^\n",
            "  File \"/root/code/openai/lib/retrieval/retrieval/backends/total.py\", line 115, in fetch\n",
            "    response.raise_for_status()\n",
            "  File \"/root/.pyenv/versions/3.11.8/lib/python3.11/site-packages/aiohttp/client_reqrep.py\", line 1070, in raise_for_status\n",
            "    raise ClientResponseError(\n",
            "aiohttp.client_exceptions.ClientResponseError: 400, message='Bad Request', url=URL('https://rekall.ace-research.openai.org/total//fetch')\n"
          ]
        },
        {
          "output_type": "display_data",
          "data": {
            "text/plain": [],
            "text/html": [
              "<pre style=\"white-space:pre;overflow-x:auto;line-height:normal;font-family:Menlo,'DejaVu Sans Mono',consolas,'Courier New',monospace\"></pre>\n"
            ]
          },
          "metadata": {}
        },
        {
          "output_type": "stream",
          "name": "stderr",
          "text": [
            "WARNING:sonic_training.experiments.tools.lean_browser_sampling:Yielding message tool -> all\n",
            "╭─────────────────────────────────────────────────────────────────────────────────────────────────────────────────╮\n",
            "│ content_type='system_error' name='BackendError' text=\"Error fetching URL ``: 400, message='Bad Request',        │\n",
            "│ url=URL('https://rekall.ace-research.openai.org/total//fetch')\"                                                 │\n",
            "╰─────────────────────────────────────────────────────────────────────────────────────────────────────────────────╯\n",
            "Content Type: system_error\n",
            "Channel: analysis\n",
            "Weight: \u001b[1;36m1.0\u001b[0m\n",
            "End Turn: \u001b[3;35mNone\u001b[0m\n",
            "\n"
          ]
        },
        {
          "output_type": "stream",
          "name": "stdout",
          "text": [
            "\u001b[2m2025-01-17 22:50:15\u001b[0m [\u001b[32m\u001b[1minfo     \u001b[0m] \u001b[1mModel function call complete  \u001b[0m \u001b[36mcomponent\u001b[0m=\u001b[35mfunction_calling_tool\u001b[0m \u001b[36mfunction_calling_tool\u001b[0m=\u001b[35m{'tool_name': 'browser', 'call_id': 'fncall_456a4fc8b97849c981371ebafe18cded', 'input_message': {'id': UUID('e026dae7-8043-4400-bd1e-110649c0ac9a'), 'author': {'role': <Role.ASSISTANT: 'assistant'>, 'name': None}, 'recipient': 'browser.open', 'channel': 'analysis', 'content': {'content_type': 'code', '__str__': '{\"cursor\": 0, \"loc\": 0}'}}, 'response_message_ids': ['8b291fa5-6f50-4b37-bd1e-9e48edeb84a2'], 'finished_successfully': True, 'function_calling_tool_version': '1.0.2', 'function_name': 'open', 'kwargs': {'cursor': 0, 'loc': 0}, '__fn_calling_tool_fn_type__': 'function_the_model_can_call'}\u001b[0m\n",
            "\u001b[2m2025-01-17 22:50:15\u001b[0m [\u001b[32m\u001b[1mdebug    \u001b[0m] \u001b[1mSuccessfully subscribed to berry-shared:client:bwen-quail-spart-grader-master-0-dvyFKW.\u001b[0m \u001b[36mbus\u001b[0m=\u001b[35mTrue\u001b[0m\n",
            "\u001b[2m2025-01-17 22:50:16\u001b[0m [\u001b[33m\u001b[1mwarning  \u001b[0m] \u001b[1m%s: no more outstanding/pending requests; closing requestor. %s\u001b[0m \u001b[36mbus\u001b[0m=\u001b[35mTrue\u001b[0m \u001b[36mpositional_args\u001b[0m=\u001b[35m('berry-shared:client:bwen-quail-spart-grader-master-0-dvyFKW', '0 pending/0 outstanding/11 completed/0 errors')\u001b[0m\n",
            "\u001b[2m2025-01-17 22:50:16\u001b[0m [\u001b[32m\u001b[1mdebug    \u001b[0m] \u001b[1mTopicManager(berry-shared:client:bwen-quail-spart-grader-master-0-dvyFKW): 'CancelledError - Requestor(berry-shared:client:bwen-quail-spart-grader-master-0-dvyFKW).close()' thrown; exiting.\u001b[0m \u001b[36mbus\u001b[0m=\u001b[35mTrue\u001b[0m\n"
          ]
        },
        {
          "output_type": "stream",
          "name": "stderr",
          "text": [
            "WARNING:sonic_training.experiments.tools.lean_browser_sampling:already have _tool\n"
          ]
        },
        {
          "output_type": "stream",
          "name": "stdout",
          "text": [
            "\u001b[2m2025-01-17 22:50:16\u001b[0m [\u001b[32m\u001b[1mdebug    \u001b[0m] \u001b[1m_Requestor.handle_responses(berry-shared:client:bwen-quail-spart-grader-master-0-dvyFKW): 'CancelledError - Requestor(berry-shared:client:bwen-quail-spart-grader-master-0-dvyFKW).close()' thrown; exiting.\u001b[0m \u001b[36mbus\u001b[0m=\u001b[35mTrue\u001b[0m\n"
          ]
        },
        {
          "output_type": "stream",
          "name": "stderr",
          "text": [
            "WARNING:sonic_training.experiments.tools.lean_browser_sampling:already have _tool\n",
            "WARNING:sonic_training.experiments.tools.lean_browser_sampling:Processing message with tool <class 'lean_browser.lean_browser_tool.LeanBrowserTool'>\n"
          ]
        },
        {
          "output_type": "stream",
          "name": "stdout",
          "text": [
            "\u001b[2m2025-01-17 22:50:16\u001b[0m [\u001b[32m\u001b[1mdebug    \u001b[0m] \u001b[1mHeartbeatManager(berry-shared:client:bwen-quail-spart-grader-master-0-dvyFKW:alive): 'CancelledError - HeartbeatManager(berry-shared:client:bwen-quail-spart-grader-master-0-dvyFKW:alive).stop()' thrown; exiting.\u001b[0m \u001b[36mbus\u001b[0m=\u001b[35mTrue\u001b[0m\n"
          ]
        },
        {
          "output_type": "display_data",
          "data": {
            "text/plain": [],
            "text/html": [
              "<pre style=\"white-space:pre;overflow-x:auto;line-height:normal;font-family:Menlo,'DejaVu Sans Mono',consolas,'Courier New',monospace\"></pre>\n"
            ]
          },
          "metadata": {}
        },
        {
          "output_type": "stream",
          "name": "stderr",
          "text": [
            "WARNING:sonic_training.experiments.tools.lean_browser_sampling:Yielding message tool -> all\n",
            "╭─────────────────────────────────────────────────────────────────────────────────────────────────────────────────╮\n",
            "│ content_type='tether_browsing_display' result=\"L0: # 【0†General Election 2010: Lib Dems received £100,000      │\n",
            "│ donation from 'non \\nL1: ...†www.telegraph.co.uk】\\nL2: Another controversial Lib Dem donor is Pheroze          │\n",
            "│ Sorabjee, who donated £10,000 to \\nL3: the party last month. He works for Jeffcote Donnison LLP, a tax          │\n",
            "│ consultancy firm\\nL4:  which advises on offshore tax ...\" summary='Search results for query `\"Controversial Lib │\n",
            "│ Dem donor\"`\\n**viewing lines [0 - 4] of 4**\\n\\n' assets=None tether_id=1                                        │\n",
            "╰─────────────────────────────────────────────────────────────────────────────────────────────────────────────────╯\n",
            "Content Type: tether_browsing_display\n",
            "Channel: analysis\n",
            "Weight: \u001b[1;36m1.0\u001b[0m\n",
            "End Turn: \u001b[3;35mNone\u001b[0m\n",
            "\n"
          ]
        },
        {
          "output_type": "stream",
          "name": "stdout",
          "text": [
            "\u001b[2m2025-01-17 22:50:16\u001b[0m [\u001b[32m\u001b[1minfo     \u001b[0m] \u001b[1mModel function call complete  \u001b[0m \u001b[36mcomponent\u001b[0m=\u001b[35mfunction_calling_tool\u001b[0m \u001b[36mfunction_calling_tool\u001b[0m=\u001b[35m{'tool_name': 'browser', 'call_id': 'fncall_203ab61c12964344afecaafd1b89162d', 'input_message': {'id': UUID('b4eeffaf-4018-4b7e-a788-acc427c85f32'), 'author': {'role': <Role.ASSISTANT: 'assistant'>, 'name': None}, 'recipient': 'browser.search', 'channel': 'analysis', 'content': {'content_type': 'code', '__str__': '{\"query\": \"\\\\\"Controversial Lib Dem donor\\\\\"\"}'}}, 'response_message_ids': ['c41eacd2-d5ca-4ea9-b0fe-e3971747e683'], 'finished_successfully': True, 'function_calling_tool_version': '1.0.2', 'function_name': 'search', 'kwargs': {'query': '\"Controversial Lib Dem donor\"'}, '__fn_calling_tool_fn_type__': 'function_the_model_can_call'}\u001b[0m\n",
            "\u001b[2m2025-01-17 22:50:16\u001b[0m [\u001b[32m\u001b[1mdebug    \u001b[0m] \u001b[1mSuccessfully subscribed to berry-shared:client:bwen-quail-spart-grader-master-0-dvyFKW.\u001b[0m \u001b[36mbus\u001b[0m=\u001b[35mTrue\u001b[0m\n",
            "\u001b[2m2025-01-17 22:50:17\u001b[0m [\u001b[33m\u001b[1mwarning  \u001b[0m] \u001b[1m%s: no more outstanding/pending requests; closing requestor. %s\u001b[0m \u001b[36mbus\u001b[0m=\u001b[35mTrue\u001b[0m \u001b[36mpositional_args\u001b[0m=\u001b[35m('berry-shared:client:bwen-quail-spart-grader-master-0-dvyFKW', '0 pending/0 outstanding/12 completed/0 errors')\u001b[0m\n",
            "\u001b[2m2025-01-17 22:50:17\u001b[0m [\u001b[32m\u001b[1mdebug    \u001b[0m] \u001b[1mTopicManager(berry-shared:client:bwen-quail-spart-grader-master-0-dvyFKW): 'CancelledError - Requestor(berry-shared:client:bwen-quail-spart-grader-master-0-dvyFKW).close()' thrown; exiting.\u001b[0m \u001b[36mbus\u001b[0m=\u001b[35mTrue\u001b[0m\n",
            "\u001b[2m2025-01-17 22:50:17\u001b[0m [\u001b[32m\u001b[1mdebug    \u001b[0m] \u001b[1m_Requestor.handle_responses(berry-shared:client:bwen-quail-spart-grader-master-0-dvyFKW): 'CancelledError - Requestor(berry-shared:client:bwen-quail-spart-grader-master-0-dvyFKW).close()' thrown; exiting.\u001b[0m \u001b[36mbus\u001b[0m=\u001b[35mTrue\u001b[0m\n",
            "input: message=Message(id=UUID('8c1edead-6d70-4fcf-895a-b1c91c09a09a'), author=Author(role=<Role.SYSTEM: 'system'>, name=None, metadata={}), create_time=None, update_time=None, content=SystemContent(content_type='system_content', model_identity_desc='You are ChatGPT, a large language model trained by OpenAI.', instructions=[], conversation_start_date=None, deprecated_knowledge_cutoff=None, knowledge_cutoff_format=None, tools_section={'browser': '// Tool for browsing.\\n// The `cursor` appears in brackets before each browsing display: `[{cursor}]`.\\n// Cite information from the tool using the following format:\\n// `【{cursor}†L{line_start}(-L{line_end})?】`, for example: `【6†L9-L11】` or `【8†L3】`.\\n// Cite images in the same way, just using L0, e.g. `【9†L0】`.\\n// Embed images in your response with `【{cursor}†embed_image】`, e.g. `【2†embed_image】`, where cursor 2 contains the image.\\n// sources=web (default: web)\\nnamespace browser {\\n\\n// Searches for information related to `query` and displays `topn` results, filtering by `recency_days` if specified.\\ntype search = (_: {\\nquery: string,\\ntopn?: number, // default: 10\\nrecency_days?: number,\\nsource?: string,\\n}) => any;\\n\\n// Opens the link `id` from the page indicated by `cursor` starting at line number `loc`, showing `num_lines` lines.\\n// Valid link ids are displayed with the formatting: `【{id}†.*】`.\\n// If `cursor` is not provided, the most recent page is implied.\\n// If `id` is a string, it is treated as a fully qualified URL associated with `source`.\\n// If `loc` is not provided, the viewport will be positioned at the beginning of the document or centered on the most relevant passage, if available.\\n// Use this function without `id` to scroll to a new location of an opened page.\\ntype open = (_: {\\nid?: number | string, // default: -1\\ncursor?: number, // default: -1\\nloc?: number, // default: -1\\nnum_lines?: number, // default: -1\\nsource?: string,\\n}) => any;\\n\\n// Finds exact matches of `pattern` in the current page, or the page given by `cursor`.\\ntype find = (_: {\\npattern: string,\\ncursor?: number, // default: -1\\n}) => any;\\n\\n} // namespace browser'}, response_formats=None, content_policy=None, output_config=None, voice_sample_config=None, channel_config=None, settings=None, metadata=SystemContentMetadata(user_specific_instructions=None, reward_multiplier=None, message_types_allowed_extra=())), status=<Status.FINISHED_SUCCESSFULLY: 'finished_successfully'>, end_turn=True, weight=0.0, metadata={}, recipient='all', channel=None)\n",
            "input: message=Message(id=UUID('240e3e9f-0aa0-40c0-808a-b0e3cbfaa78c'), author=Author(role=<Role.USER: 'user'>, name=None, metadata={}), create_time=None, update_time=None, content=Text(content_type='text', parts=['\\nYou are a professional grader that judges the quality of search results.  \\nYou need to follow the rating instruction below to rate a given QUERY - DOCUMENT pair with respect to each dimension. \\nThe QUERY contains the QUERY TEXT, DATE, and LOCATION of the searcher. The DOCUMENT contains TITLE, URL, PUBLICATION DATE, and CONTENT. \\nWrite your decision for each aspects in the markdown format. It should contain a title of the area, the rating, and detailed justification of your decision. \\nIf you have any confusion or something worth commenting, can also output them in a \"notes\". \\n\\nThe response of each aspect (dimension) is:\\n## <Aspect>\\n* rating: <rating>\\n* justification: <justification>\\n* notes: <notes>\\n\\nThe Rubrics is:\\n\\n\\nRate the relevance of the the search result DOCUMENT to the user QUERY.\\n\\n# Input Query and Document\\n\\nQUERY:\\nQUERY TEXT: Liberal Democrats largest donor 2005\\nDATE: N/A\\nLOCATION: N/A\\n\\nDOCUMENT:\\nTITLE: Controversial Lib Dem donor gave £200,000 to election campaign | Party funding | The Guardian\\nURL: https://www.theguardian.com/politics/2017/jun/15/controversial-lib-dem-donor-gave-200000-to-election-campaign\\nPUBLICATION DATE: N/A\\nCONTENT: \\n  In January, Rolls-Royce agreed to pay 【15†£671m in penalties】 to settle long-running bribery investigations by the Serious Fraud Office and overseas prosecutors, but separate criminal inquiries may follow in countries around the world where the company has admitted corruption.\\n\\n  The Guardian and the BBC’s Panorama have previously revealed that Choudhrie family companies were paid millions by Rolls-Royce for their work in 【16†India】.\\n\\n  In a letter, the Choudhries’ lawyers said: “Mr Choudhrie has never paid bribes to government officials or acted as an illegal ‘middleman’ in defence deals.”\\n\\n  Donors to the Tories included Express Newspapers, which gave nearly £80,000 in free advertising. The newspaper’s proprietor, Richard Desmond, backed Ukip in 2015 with a £1m donation, but his paper’s support for the anti-European party has waned since Britain voted to leave the EU.\\n\\n  Two of David Cameron’s most important donors also gave money in the last week of the campaign. Ian Taylor, the founder of oil trader Vitol, gave £25,000. Taylor withdrew his name from consideration for a knighthood in Cameron’s resignation honours list last year. Questions had been raised about Vitol’s activities in politically sensitive areas around the world. Taylor has been a Conservative donor for several years, and supported the remain campaign.\\n\\n  Countywide Developments, a property company run by Tony Gallagher, gave £25,000 in the last week. At the end of last year, Cameron celebrated his 50th birthday at Gallagher’s 17th-century Oxfordshire mansion.\\n\\n  David Rowland, a billionaire property developer, gave £100,000 to the May campaign.\\n\\n  Labour received £10,000 from the comedian Eddie Izzard and £8,000 from Matt Wrack, the head of the Fire Brigades Union.\\n\\n  Explore more on these topics.\\n      \\n    \\nYou can use browser.tool_call to help you grading. ']), status=<Status.FINISHED_SUCCESSFULLY: 'finished_successfully'>, end_turn=None, weight=0.0, metadata={}, recipient='all', channel=None)\n",
            "output: message=Message(id=UUID('b6077d5b-115c-4e9f-b48c-816ebf418816'), author=Author(role=<Role.ASSISTANT: 'assistant'>, name=None, metadata={}), create_time=None, update_time=None, content=Text(content_type='text', parts=['The query: \"Liberal Democrats largest donor 2005\". The document: Guardian piece about a controversial Lib Dem donor gave £200,000 to election campaign. Title includes \"Controversial Lib Dem donor gave £200,000 ...\" It appears that piece is from June 15, 2017, about party funding. But we need to evaluate: Query: \"Liberal Democrats largest donor 2005\". So user wants to know largest donor in 2005. Document describes donors to Lib Dem election campaign in 2017? Let\\'s open.']), status=<Status.FINISHED_SUCCESSFULLY: 'finished_successfully'>, end_turn=False, weight=1.0, metadata={'first_content_token_index': 3, 'first_token_time': 1737154172.722029, 'message_content_token_count': 113, 'last_token_time': 1737154172.7531636, 'citations': [], 'content_references': []}, recipient='all', channel='analysis')\n",
            "output: message=Message(id=UUID('e781f5aa-04d6-4a99-835e-e2075ae8994d'), author=Author(role=<Role.ASSISTANT: 'assistant'>, name=None, metadata={}), create_time=None, update_time=None, content=Code(content_type='code', language=<Language.UNKNOWN: 'unknown'>, response_format_name=None, text='{\"id\": 0, \"cursor\": 0}'), status=<Status.FINISHED_SUCCESSFULLY: 'finished_successfully'>, end_turn=False, weight=1.0, metadata={'first_content_token_index': 10, 'first_token_time': 1737154172.7535038, 'message_content_token_count': 13, 'last_token_time': 1737154172.7567225, 'citations': [], 'content_references': [], 'prefixed_with_wordlim': None}, recipient='browser.open', channel='analysis')\n",
            "output: message=Message(id=UUID('ead61718-a2dc-4f5b-96a0-60f8fd0b4e39'), author=Author(role=<Role.TOOL: 'tool'>, name='browser.open', metadata={}), create_time=None, update_time=None, content=SystemError(content_type='system_error', name='ToolUsageError', text='No pages to access!'), status=<Status.FINISHED_SUCCESSFULLY: 'finished_successfully'>, end_turn=None, weight=1.0, metadata={}, recipient='all', channel='analysis')\n",
            "output: message=Message(id=UUID('fb6327a2-e2c2-41eb-9d21-22f1d0c5bdc9'), author=Author(role=<Role.ASSISTANT: 'assistant'>, name=None, metadata={}), create_time=None, update_time=None, content=Text(content_type='text', parts=[\"Let's open doc content. It's truncated. It's from The Guardian. Ejecutivo. Let's open full.\"]), status=<Status.FINISHED_SUCCESSFULLY: 'finished_successfully'>, end_turn=False, weight=1.0, metadata={'first_content_token_index': 3, 'first_token_time': 1737154173.8481252, 'message_content_token_count': 20, 'last_token_time': 1737154173.8535101, 'citations': [], 'content_references': []}, recipient='all', channel='analysis')\n",
            "output: message=Message(id=UUID('eee5b357-16c2-4a45-bb78-368ccb8ae2be'), author=Author(role=<Role.ASSISTANT: 'assistant'>, name=None, metadata={}), create_time=None, update_time=None, content=Code(content_type='code', language=<Language.UNKNOWN: 'unknown'>, response_format_name=None, text='{\"id\": \"https://www.theguardian.com/politics/2017/jun/15/controversial-lib-dem-donor-gave-200000-to-election-campaign\"}'), status=<Status.FINISHED_SUCCESSFULLY: 'finished_successfully'>, end_turn=False, weight=1.0, metadata={'first_content_token_index': 10, 'first_token_time': 1737154173.8538325, 'message_content_token_count': 39, 'last_token_time': 1737154173.863402, 'citations': [], 'content_references': [], 'prefixed_with_wordlim': None}, recipient='browser.open', channel='analysis')\n",
            "output: message=Message(id=UUID('d5035671-43a1-4b2d-b4ea-756b236e6c29'), author=Author(role=<Role.TOOL: 'tool'>, name='browser.open', metadata={}), create_time=None, update_time=None, content=SystemError(content_type='system_error', name='BackendError', text='Error fetching URL `https://www.theguardian.com/politics/2017/jun/15/controversial-lib-dem-donor-gave-200000-to-election-campaign`: [BLOCK_LIST] blocked by policy: Default'), status=<Status.FINISHED_SUCCESSFULLY: 'finished_successfully'>, end_turn=None, weight=1.0, metadata={}, recipient='all', channel='analysis')\n",
            "output: message=Message(id=UUID('72f42878-34f2-4e4d-8ce1-bf6b6f2f69a6'), author=Author(role=<Role.ASSISTANT: 'assistant'>, name=None, metadata={}), create_time=None, update_time=None, content=Text(content_type='text', parts=['It might be enough. The content: not mention largest donor 2005. But maybe readers want \"Michael Brown\" donated to Lib Dem in 2005 election. Michael Brown or something. So doc about controversial Lib Dem donor. But content here describes donors to Tories, Lib Dem. But from content:ಪ It does not mention 2005. Let’s search.']), status=<Status.FINISHED_SUCCESSFULLY: 'finished_successfully'>, end_turn=False, weight=1.0, metadata={'first_content_token_index': 3, 'first_token_time': 1737154213.132878, 'message_content_token_count': 77, 'last_token_time': 1737154213.1532676, 'citations': [], 'content_references': []}, recipient='all', channel='analysis')\n",
            "output: message=Message(id=UUID('834cbef6-e1bb-490a-93c1-325340884002'), author=Author(role=<Role.ASSISTANT: 'assistant'>, name=None, metadata={}), create_time=None, update_time=None, content=Code(content_type='code', language=<Language.UNKNOWN: 'unknown'>, response_format_name=None, text='{\"query\": \"\\\\\"Liberal Democrats\\\\\" largest donor 2005\"}'), status=<Status.FINISHED_SUCCESSFULLY: 'finished_successfully'>, end_turn=False, weight=1.0, metadata={'first_content_token_index': 10, 'first_token_time': 1737154213.1540725, 'message_content_token_count': 15, 'last_token_time': 1737154213.157944, 'citations': [], 'content_references': [], 'prefixed_with_wordlim': None}, recipient='browser.search', channel='analysis')\n",
            "output: message=Message(id=UUID('52dcdbc1-dada-4549-8e62-943c9669b355'), author=Author(role=<Role.TOOL: 'tool'>, name='browser.search', metadata={}), create_time=None, update_time=None, content=TetherBrowsingDisplay(content_type='tether_browsing_display', result=\"L0: # 【0†Michael Brown (fraudster) - Wikipedia†en.wikipedia.org】\\nL1: Michael Robert Alexander Brown (born 19 April 1966 in Glasgow) is a Scottish \\nL2: businessman and fugitive convicted in absentia of theft, perjury and perverting \\nL3: the course of justice.Between 10 February and 30 March 2005 he donated £2.4 \\nL4: million to the Liberal Democrats.He was the largest donor the party had ever \\nL5: had, giving ten times more than anything it had received before.\\nL6: \\nL7: # 【1†BBC News - Lib Dems can keep £2.4m donation, rules watchdog†news.bbc.co.uk】\\nL8: The elections watchdog has ruled that the Liberal Democrats can keep £2.4m in \\nL9: donations which it had been suggested came from a fraudster. ... the UK's third \\nL10: largest political party - by 5th Avenue Partners Ltd in 2005, ahead of its \\nL11: general election campaign. Permissible donor. In its findings the Electoral \\nL12: Commission said Brown - who was ...\\nL13: \\nL14: # 【2†Extra six months jail for Lib Dem donor Michael Brown who fled \\nL15: fraud†www.independent.co.uk】\\nL16: After posing as a well-connected bonds dealer, he secretly used investors' money\\nL17:  to fund a record donation of £2.4m to the Liberal Democrats' 2005 election war \\nL18: chest. The party was later cleared ...\\nL19: \\nL20: # 【3†Lib Dem donor Michael Brown to start jail term - BBC News†www.bbc.com】\\nL21: Brown's donation to the Liberal Democrats' election war chest - its largest ever\\nL22:  donation - was funded through the use of investors' money. The Electoral \\nL23: Commission ruled in 2009 that the party ...\\nL24: \\nL25: # 【4†The Liberal Democrats&#39; biggest donor, who has been on the run for \\nL26: ...†deadoralivezone.blogspot.com】\\nL27: Michael Brown has been on the run for three years after being convicted of a \\nL28: multimillion pound theft. Photograph: Rex Features Michael Br...\\nL29: \\nL30: # 【5†Who are the biggest donors for the Lib Dems? - \\nL31: LondonLovesBusiness†londonlovesbusiness.com】\\nL32: The latest records from the Electoral Commission show that that the Liberal \\nL33: Democrats raised £335,000 in donations in the second week of the campaign. This \\nL34: took their total donations towards ...\\nL35: \\nL36: # 【6†Liberal Democrat &#163;2m donor Michael Brown goes missing ahead of \\nL37: ...†www.telegraph.co.uk】\\nL38: Brown's donation to the Liberal Democrats was given shortly before the 2005 \\nL39: general election and was the largest gift in the party's history. The Lib Dems \\nL40: lauded the gift at the time, but this ...\\nL41: \\nL42: # 【7†ON THIS DAY 5th May 2005: The... - Liberal Democrat History - \\nL43: Facebook†www.facebook.com】\\nL44: ON THIS DAY 5th May 2005: The Liberal Democrats win 62 seats in the 2005 general\\nL45:  election, the largest number of Liberal MPs elected since 1923. The election \\nL46: saw Tony Blair and the Labour Party...\\nL47: \\nL48: # 【8†What is the history of the Liberal Democrats and where do they stand \\nL49: ...†politicsteaching.com】\\nL50: The Liberal Democrats secured their strongest ever showing in the 2005 General \\nL51: Election under Charles Kennedy. The Liberal Democrats have long been considered \\nL52: the third party in UK national politics. At their height, the Liberal Democrats \\nL53: held 62 seats, a result they achieved under Charles Kennedy's leadership at the \\nL54: 2005 General Election.\\nL55: \\nL56: # 【9†tHe LiBeRaL DemOcRats in tHe 2005 eLectiOn - The website of the Liberal \\nL57: ...†liberalhistory.org.uk】\\nL58: the 2005 general election amongst Liberal Democrats is misplaced. Over the 2001 \\nL59: and 2005 elections the party has, for the first time ever, advanced during a \\nL60: period of Labour government, while in 2005 it concentrated its advance in \\nL61: previously relatively barren Labour territory. If these gains are held they will\\nL62:  significantly increase the prospect\", summary='Search results for query `\"Liberal Democrats\" largest donor 2005`\\n**viewing lines [0 - 62] of 62**\\n\\n', assets=None, tether_id=0), status=<Status.FINISHED_SUCCESSFULLY: 'finished_successfully'>, end_turn=None, weight=1.0, metadata={'url': '', 'title': 'Search results for query `\"Liberal Democrats\" largest donor 2005`', 'source': 'web', 'og_tags': None}, recipient='all', channel='analysis')\n",
            "output: message=Message(id=UUID('65303bef-c79e-483e-9e52-c78294996c99'), author=Author(role=<Role.ASSISTANT: 'assistant'>, name=None, metadata={}), create_time=None, update_time=None, content=Text(content_type='text', parts=['Thus the document is not relevant. Query: \"Liberal Democrats largest donor 2005\" refers to Michael Brown, donated via 5th Avenue Partners, etc. The Guardian article appears to mention something else: link included \"Controversial Lib Dem donor gave ...\" Let\\'s scroll.']), status=<Status.FINISHED_SUCCESSFULLY: 'finished_successfully'>, end_turn=False, weight=1.0, metadata={'first_content_token_index': 3, 'first_token_time': 1737154215.4420233, 'message_content_token_count': 58, 'last_token_time': 1737154215.458202, 'citations': [], 'content_references': []}, recipient='all', channel='analysis')\n",
            "output: message=Message(id=UUID('e026dae7-8043-4400-bd1e-110649c0ac9a'), author=Author(role=<Role.ASSISTANT: 'assistant'>, name=None, metadata={}), create_time=None, update_time=None, content=Code(content_type='code', language=<Language.UNKNOWN: 'unknown'>, response_format_name=None, text='{\"cursor\": 0, \"loc\": 0}'), status=<Status.FINISHED_SUCCESSFULLY: 'finished_successfully'>, end_turn=False, weight=1.0, metadata={'first_content_token_index': 10, 'first_token_time': 1737154215.458534, 'message_content_token_count': 13, 'last_token_time': 1737154215.4619563, 'citations': [], 'content_references': [], 'prefixed_with_wordlim': None}, recipient='browser.open', channel='analysis')\n",
            "output: message=Message(id=UUID('8b291fa5-6f50-4b37-bd1e-9e48edeb84a2'), author=Author(role=<Role.TOOL: 'tool'>, name='browser.open', metadata={}), create_time=None, update_time=None, content=SystemError(content_type='system_error', name='BackendError', text=\"Error fetching URL ``: 400, message='Bad Request', url=URL('https://rekall.ace-research.openai.org/total//fetch')\"), status=<Status.FINISHED_SUCCESSFULLY: 'finished_successfully'>, end_turn=None, weight=1.0, metadata={}, recipient='all', channel='analysis')\n",
            "output: message=Message(id=UUID('83fa1576-f252-4bb0-a391-6322791f65e4'), author=Author(role=<Role.ASSISTANT: 'assistant'>, name=None, metadata={}), create_time=None, update_time=None, content=Text(content_type='text', parts=[\"Let's find text.\"]), status=<Status.FINISHED_SUCCESSFULLY: 'finished_successfully'>, end_turn=False, weight=1.0, metadata={'first_content_token_index': 3, 'first_token_time': 1737154216.2528396, 'message_content_token_count': 5, 'last_token_time': 1737154216.254599, 'citations': [], 'content_references': []}, recipient='all', channel='analysis')\n",
            "output: message=Message(id=UUID('b4eeffaf-4018-4b7e-a788-acc427c85f32'), author=Author(role=<Role.ASSISTANT: 'assistant'>, name=None, metadata={}), create_time=None, update_time=None, content=Code(content_type='code', language=<Language.UNKNOWN: 'unknown'>, response_format_name=None, text='{\"query\": \"\\\\\"Controversial Lib Dem donor\\\\\"\"}'), status=<Status.FINISHED_SUCCESSFULLY: 'finished_successfully'>, end_turn=False, weight=1.0, metadata={'first_content_token_index': 10, 'first_token_time': 1737154216.2549756, 'message_content_token_count': 13, 'last_token_time': 1737154216.258617, 'citations': [], 'content_references': [], 'prefixed_with_wordlim': None}, recipient='browser.search', channel='analysis')\n",
            "output: message=Message(id=UUID('c41eacd2-d5ca-4ea9-b0fe-e3971747e683'), author=Author(role=<Role.TOOL: 'tool'>, name='browser.search', metadata={}), create_time=None, update_time=None, content=TetherBrowsingDisplay(content_type='tether_browsing_display', result=\"L0: # 【0†General Election 2010: Lib Dems received £100,000 donation from 'non \\nL1: ...†www.telegraph.co.uk】\\nL2: Another controversial Lib Dem donor is Pheroze Sorabjee, who donated £10,000 to \\nL3: the party last month. He works for Jeffcote Donnison LLP, a tax consultancy firm\\nL4:  which advises on offshore tax ...\", summary='Search results for query `\"Controversial Lib Dem donor\"`\\n**viewing lines [0 - 4] of 4**\\n\\n', assets=None, tether_id=1), status=<Status.FINISHED_SUCCESSFULLY: 'finished_successfully'>, end_turn=None, weight=1.0, metadata={'url': '', 'title': 'Search results for query `\"Controversial Lib Dem donor\"`', 'source': 'web', 'og_tags': None}, recipient='all', channel='analysis')\n",
            "output: message=Message(id=UUID('2eba0d13-b5ea-4be5-a890-f9f0f8bc4e76'), author=Author(role=<Role.ASSISTANT: 'assistant'>, name=None, metadata={}), create_time=None, update_time=None, content=Text(content_type='text', parts=[\"## Relevance\\n* rating: Irrelevant\\n* justification: The query asks about the Liberal Democrats' largest donor in 2005, and the document is a Guardian article from 2017 about various donors, not specifically about the largest donor in 2005. It does not answer the query.\\n* notes: The content does not mention 2005 or the specific donor sought. \"]), status=<Status.FINISHED_SUCCESSFULLY: 'finished_successfully'>, end_turn=True, weight=1.0, metadata={'first_content_token_index': 0, 'first_token_time': 1737154217.8689754, 'message_content_token_count': 81, 'last_token_time': 1737154217.8887482, 'citations': [], 'content_references': [], 'prefixed_with_wordlim': None}, recipient='all', channel=None)\n",
            "\u001b[2m2025-01-17 22:50:17\u001b[0m [\u001b[32m\u001b[1mdebug    \u001b[0m] \u001b[1mHeartbeatManager(berry-shared:client:bwen-quail-spart-grader-master-0-dvyFKW:alive): 'CancelledError - HeartbeatManager(berry-shared:client:bwen-quail-spart-grader-master-0-dvyFKW:alive).stop()' thrown; exiting.\u001b[0m \u001b[36mbus\u001b[0m=\u001b[35mTrue\u001b[0m\n"
          ]
        },
        {
          "output_type": "display_data",
          "data": {
            "text/plain": [],
            "text/html": [
              "<pre style=\"white-space:pre;overflow-x:auto;line-height:normal;font-family:Menlo,'DejaVu Sans Mono',consolas,'Courier New',monospace\"></pre>\n"
            ]
          },
          "metadata": {}
        },
        {
          "output_type": "stream",
          "name": "stdout",
          "text": [
            "assistant -> all\n",
            "╭─────────────────────────────────────────────────────────────────────────────────────────────────────────────────╮\n",
            "│ ## Relevance                                                                                                    │\n",
            "│ * rating: Irrelevant                                                                                            │\n",
            "│ * justification: The query asks about the Liberal Democrats' largest donor in 2005, and the document is a       │\n",
            "│ Guardian article from 2017 about various donors, not specifically about the largest donor in 2005. It does not  │\n",
            "│ answer the query.                                                                                               │\n",
            "│ * notes: The content does not mention 2005 or the specific donor sought.                                        │\n",
            "╰─────────────────────────────────────────────────────────────────────────────────────────────────────────────────╯\n",
            "Content Type: text\n",
            "Weight: \u001b[1;36m1.0\u001b[0m\n",
            "message_content_token_count: \u001b[1;36m81\u001b[0m\n",
            "content_references: \u001b[1m[\u001b[0m\u001b[1m]\u001b[0m\n",
            "End Turn: \u001b[3;92mTrue\u001b[0m\n",
            "\n"
          ]
        }
      ]
    },
    {
      "cell_type": "markdown",
      "source": [
        "# Neutrino V4\n",
        "\n",
        "* Model ckpts: https://openai.enterprise.slack.com/archives/D083FD1C34Y (copied to centralus)\n",
        "* Model config (from baseline model): https://sourcegraph.internal.api.openai.org/github.com/openai/openai/-/blob/snapshot-store/snapshot_store/torchflow/_scallion_lpe_snapshots.py?L19:28-19:138\n",
        "* Extra config: https://sourcegraph.internal.api.openai.org/github.com/openai/openai/-/blob/personal/hthu/lpe/export_lpe.sh?L15\n",
        "* API Call https://sourcegraph.internal.api.openai.org/github.com/openai/openai@3bf148a/-/blob/personal/maja/maja/try_nv4.py\n",
        "\n",
        "```\n",
        "oaipkg run harmony_scripts.engines.start_engine \\\n",
        "  --model_config=falcon.multimodal.runs.scallion-d36-s64-lpe \\\n",
        "  --extra_config_string=\"twppo.scallion.lpe.common twppo.sampling_only\" \\\n",
        "  --mode=optimal \\\n",
        "  --n_replicas=1 \\\n",
        "  --snapshot_path=az://oaidsm2/oaistrawberry2/twapi/mini/e/bmckinzie-nv4-25T-mident-ipb512-spi128-tbv2-run1/policy/step_000320/ \\\n",
        "  --cluster=viper --team=posttraining \\\n",
        "  --priority=team-critical \\\n",
        "  --renderer_name=harmony_v4.0.15_berry_v3_1mil_orion_lpe \\\n",
        "  --use_bus_v2=True --name=neutrino-v4-test \\\n",
        "  --num_copies=1 \\\n",
        "  --bus_topic_mode_or_user=bwen-citation-neutrinov4-test \\\n",
        "  --skip_user_config=False \\\n",
        "  --force\n",
        "  ```\n"
      ],
      "metadata": {
        "id": "5ZSSu6J5YcpS"
      }
    },
    {
      "cell_type": "code",
      "source": [
        "from sonic_training.experiments.index_switcher.v2.grader import utils\n",
        "from chat import chat\n",
        "\n",
        "\n",
        "from chat.render.v4.experimental.strawberry.formatter import BerryChannel\n",
        "from message_completer.berry_selective_message_completer import BerrySelectiveMessageCompleter\n",
        "from bus_token_completer import BusTokenCompleter\n",
        "from turn_completer import BerryMultiMessageTurnCompleter, TurnCompleter\n",
        "\n",
        "\n",
        "# Dont work\n",
        "# def get_multiturn_completer():\n",
        "#   berry_message_completer_config = BerryMultiMessageTurnCompleter.Config(\n",
        "#       token_completer_config=BusTokenCompleter.Config(\n",
        "#           # assumes you spinned up this engine\n",
        "#           topic_or_snapshot=\"az://oaidsm2/oaistrawberry2/twapi/mini/e/bmckinzie-nv4-25T-mident-ipb512-spi128-tbv2-run1/policy/step_000320/\",\n",
        "#           topic_mode_or_user=\"bwen-citation-neutrinov4-test\",\n",
        "#       ),\n",
        "#       completion_params={\"temperature\": 0.95, \"top_p\": 0.995},\n",
        "#       renderer=\"harmony_v4.0.15_berry_v3_1mil_orion_lpe\",\n",
        "#   )\n",
        "#   berry_message_completer = berry_message_completer_config.build()\n",
        "#   return berry_message_completer\n",
        "\n",
        "def get_selective_completer():\n",
        "  berry_message_completer_config = BerrySelectiveMessageCompleter.Config(\n",
        "    token_completer_config=BusTokenCompleter.Config(\n",
        "        # assumes you spinned up this engine\n",
        "        topic_or_snapshot=\"az://oaidsm2/oaistrawberry2/twapi/mini/e/bmckinzie-nv4-25T-mident-ipb512-spi128-tbv2-run1/policy/step_000320/\",\n",
        "        topic_mode_or_user=\"bwen-citation-neutrinov4-test\",\n",
        "    ),\n",
        "    completion_params={\"temperature\": 1, \"top_p\": 0.995, \"max_tokens\": 64000},\n",
        "    renderer=\"harmony_v4.0.15_berry_v3_1mil_orion_lpe\",\n",
        "  )\n",
        "  berry_message_completer = berry_message_completer_config.build()\n",
        "  return berry_message_completer\n",
        "\n",
        "\n",
        "class NeutrinoV4Grader(Grader):\n",
        "  def __init__(self, instruction=DEFAULT_INSTRUCTION):\n",
        "    super().__init__(instruction)\n",
        "    self.completer = get_selective_completer()\n",
        "\n",
        "  async def rate_text(self, text: str, rubrics: str):\n",
        "    convo = chat.Conversation(\n",
        "        messages=[\n",
        "            chat.Message.system(\"You are ChatGPT.\"),\n",
        "            chat.Message(role=chat.Role.USER, content=chat.MultimodalText(parts=[self.instruction, rubrics, text])),\n",
        "        ]\n",
        "    )\n",
        "    completion = self.completer.completion(\n",
        "        [convo],\n",
        "        channel_selector=BerryChannel.FINAL_ANSWER,\n",
        "        valid_channels=[BerryChannel.CHAIN_OF_THOUGHT, BerryChannel.FINAL_ANSWER],\n",
        "        reward_multiplier=256,\n",
        "        return_all_messages=True,\n",
        "    )\n",
        "\n",
        "    print(completion.choices[0])\n",
        "    return completion.choices[0].output_conversation.messages[-1].content.parts[0]\n",
        "\n",
        "    # convo = utils.init_berry_convo(prompt=\"\\n\".join([self.instruction, rubrics, text]), reward_multipler=128)\n",
        "    # completion = await utils.toolberry_completion(convo, max_tokens=64000, completer=self.completer)\n",
        "    # resp = str(completion.messages[-1].content)\n",
        "    # return resp\n",
        "\n",
        "\n",
        "async def test_nv4_grader():\n",
        "  q, d, rubrics = gen_example()\n",
        "  grader = NeutrinoV4Grader()\n",
        "  rating = await grader(q, d, rubrics)\n",
        "  print(rating)\n",
        "\n",
        "await test_nv4_grader()"
      ],
      "metadata": {
        "colab": {
          "base_uri": "https://localhost:8080/"
        },
        "id": "K8r6EnpQQIQ2",
        "outputId": "d2743ed3-a013-43ac-d2ef-81d9ba5a5ba9"
      },
      "execution_count": null,
      "outputs": [
        {
          "output_type": "stream",
          "name": "stdout",
          "text": [
            "\u001b[2m2025-01-18 06:50:12\u001b[0m [\u001b[32m\u001b[1mdebug    \u001b[0m] \u001b[1mSuccessfully subscribed to bus:client:bwen-quail-spart-grader-master-0-8jeRH9.\u001b[0m \u001b[36mbus\u001b[0m=\u001b[35mTrue\u001b[0m\n",
            "\u001b[2m2025-01-18 06:50:17\u001b[0m [\u001b[33m\u001b[1mwarning  \u001b[0m] \u001b[1m%s: %s outstanding. %s        \u001b[0m \u001b[36mbus\u001b[0m=\u001b[35mTrue\u001b[0m \u001b[36mpositional_args\u001b[0m=\u001b[35m('bus:client:bwen-quail-spart-grader-master-0-8jeRH9', \"seq #'s 2 (1737183012562-0)\", '0 pending/1 outstanding/2 completed/0 errors')\u001b[0m\n",
            "\u001b[2m2025-01-18 06:50:17\u001b[0m [\u001b[33m\u001b[1mwarning  \u001b[0m] \u001b[1m%s: no more outstanding/pending requests; closing requestor. %s\u001b[0m \u001b[36mbus\u001b[0m=\u001b[35mTrue\u001b[0m \u001b[36mpositional_args\u001b[0m=\u001b[35m('bus:client:bwen-quail-spart-grader-master-0-8jeRH9', '0 pending/0 outstanding/3 completed/0 errors')\u001b[0m\n",
            "\u001b[2m2025-01-18 06:50:17\u001b[0m [\u001b[32m\u001b[1mdebug    \u001b[0m] \u001b[1mTopicManager(bus:client:bwen-quail-spart-grader-master-0-8jeRH9): 'CancelledError - Requestor(bus:client:bwen-quail-spart-grader-master-0-8jeRH9).close()' thrown; exiting.\u001b[0m \u001b[36mbus\u001b[0m=\u001b[35mTrue\u001b[0m\n",
            "\u001b[2m2025-01-18 06:50:17\u001b[0m [\u001b[32m\u001b[1mdebug    \u001b[0m] \u001b[1m_Requestor.handle_responses(bus:client:bwen-quail-spart-grader-master-0-8jeRH9): 'CancelledError - Requestor(bus:client:bwen-quail-spart-grader-master-0-8jeRH9).close()' thrown; exiting.\u001b[0m \u001b[36mbus\u001b[0m=\u001b[35mTrue\u001b[0m\n",
            "\u001b[2m2025-01-18 06:50:17\u001b[0m [\u001b[32m\u001b[1mdebug    \u001b[0m] \u001b[1mHeartbeatManager(bus:client:bwen-quail-spart-grader-master-0-8jeRH9:alive): 'CancelledError - HeartbeatManager(bus:client:bwen-quail-spart-grader-master-0-8jeRH9:alive).stop()' thrown; exiting.\u001b[0m \u001b[36mbus\u001b[0m=\u001b[35mTrue\u001b[0m\n",
            "conversation=Conversation(id=UUID('fbc2567b-398f-47a2-a30a-1428d1f31b7a'), messages=[Message(id=UUID('d04c5979-bc72-417a-80c9-a36c4cddce29'), author=Author(role=<Role.SYSTEM: 'system'>, name=None, metadata={}), create_time=None, update_time=None, content=SystemContent(content_type='system_content', model_identity_desc='You are ChatGPT, a large language model trained by OpenAI.', instructions=['You are ChatGPT.'], conversation_start_date=None, deprecated_knowledge_cutoff=None, knowledge_cutoff_format=None, tools_section=None, response_formats=None, content_policy=None, output_config=None, voice_sample_config=None, channel_config=SystemChannelConfig(system_block_header='# Valid channels: ', valid_channels=('analysis', 'final'), channel_required=False, channel_required_instruction=' Channel must be included for every message.', extra_instructions=None), settings=None, metadata=SystemContentMetadata(user_specific_instructions=None, reward_multiplier=256, message_types_allowed_extra=())), status=<Status.FINISHED_SUCCESSFULLY: 'finished_successfully'>, end_turn=True, weight=0.0, metadata={}, recipient='all', channel=None), Message(id=UUID('88a15063-6fe7-45c9-9b1c-24ea1fa17e7c'), author=Author(role=<Role.USER: 'user'>, name=None, metadata={}), create_time=None, update_time=None, content=MultimodalText(content_type='multimodal_text', parts=['\\nYou are a professional grader that judges the quality of search results.  \\nYou need to follow the rating instruction below to rate a given QUERY - DOCUMENT pair with respect to each dimension. \\nThe QUERY contains the QUERY TEXT, DATE, and LOCATION of the searcher. The DOCUMENT contains TITLE, URL, PUBLICATION DATE, and CONTENT. \\nWrite your decision for each aspects in the markdown format. It should contain a title of the area, the rating, and detailed justification of your decision. \\nIf you have any confusion or something worth commenting, can also output them in a \"notes\". \\n\\nThe response of each aspect (dimension) is:\\n## <Aspect>\\n* rating: <rating>\\n* justification: <justification>\\n* notes: <notes>\\n\\nThe Rubrics is:\\n\\n', 'Rate the relevance of the the search result DOCUMENT to the user QUERY.', '\\n# Input Query and Document\\n\\nQUERY:\\nQUERY TEXT: Liberal Democrats largest donor 2005\\nDATE: N/A\\nLOCATION: N/A\\n\\nDOCUMENT:\\nTITLE: Controversial Lib Dem donor gave £200,000 to election campaign | Party funding | The Guardian\\nURL: https://www.theguardian.com/politics/2017/jun/15/controversial-lib-dem-donor-gave-200000-to-election-campaign\\nPUBLICATION DATE: N/A\\nCONTENT: \\n  In January, Rolls-Royce agreed to pay 【15†£671m in penalties】 to settle long-running bribery investigations by the Serious Fraud Office and overseas prosecutors, but separate criminal inquiries may follow in countries around the world where the company has admitted corruption.\\n\\n  The Guardian and the BBC’s Panorama have previously revealed that Choudhrie family companies were paid millions by Rolls-Royce for their work in 【16†India】.\\n\\n  In a letter, the Choudhries’ lawyers said: “Mr Choudhrie has never paid bribes to government officials or acted as an illegal ‘middleman’ in defence deals.”\\n\\n  Donors to the Tories included Express Newspapers, which gave nearly £80,000 in free advertising. The newspaper’s proprietor, Richard Desmond, backed Ukip in 2015 with a £1m donation, but his paper’s support for the anti-European party has waned since Britain voted to leave the EU.\\n\\n  Two of David Cameron’s most important donors also gave money in the last week of the campaign. Ian Taylor, the founder of oil trader Vitol, gave £25,000. Taylor withdrew his name from consideration for a knighthood in Cameron’s resignation honours list last year. Questions had been raised about Vitol’s activities in politically sensitive areas around the world. Taylor has been a Conservative donor for several years, and supported the remain campaign.\\n\\n  Countywide Developments, a property company run by Tony Gallagher, gave £25,000 in the last week. At the end of last year, Cameron celebrated his 50th birthday at Gallagher’s 17th-century Oxfordshire mansion.\\n\\n  David Rowland, a billionaire property developer, gave £100,000 to the May campaign.\\n\\n  Labour received £10,000 from the comedian Eddie Izzard and £8,000 from Matt Wrack, the head of the Fire Brigades Union.\\n\\n  Explore more on these topics.\\n      \\n    ']), status=<Status.FINISHED_SUCCESSFULLY: 'finished_successfully'>, end_turn=None, weight=1.0, metadata={}, recipient='all', channel=None)], create_time=None, update_time=None, metadata=ConversationMetadata(render_multimodal=None, foveation=None, comparison=None, rng_seed=None, task_id=None, data_source=None, mask_text_tokens=False, mask_audio_vq_tokens=False, mask_image_vq_tokens_custom=True, header_token_budget_nctx_override=None, header_token_budget_for_action=None, header_token_budget_delta=0, header_yields_budget_for_action=4, header_yields_budget_total_override=None, header_yields_budget_delta=0, video_for_visualization=None, assign_fovea_override=None, completion_fovea_assignment=False)) completion_message_list=[Message(id=UUID('f2a1a0da-2020-43a6-a143-9d4ca3bbb93f'), author=Author(role=<Role.ASSISTANT: 'assistant'>, name=None, metadata={}), create_time=None, update_time=None, content=Text(content_type='text', parts=[\"## Relevance\\n* rating: Low\\n* justification: The document is a 2017 Guardian article about various political donors and mentions a Lib Dem donor giving £200,000 but does not address the specific query about the Liberal Democrats' largest donor in 2005. It doesn't provide information about the 2005 largest donor.\\n* notes: The content is not focused on the 2005 timeframe or the specific detail requested.\"]), status=<Status.FINISHED_SUCCESSFULLY: 'finished_successfully'>, end_turn=True, weight=1.0, metadata={'first_content_token_index': 5, 'all_messages_sampled': [Message(id=UUID('ee609fb0-4c64-4bb4-8c78-c2bb97fdeaac'), author=Author(role=<Role.ASSISTANT: 'assistant'>, name=None, metadata={}), create_time=None, update_time=None, content=Text(content_type='text', parts=['We are asked to judge the quality of search results: relevance of the document to the query \"Liberal Democrats largest donor 2005\".\\n\\nThe Document: It is from The Guardian titled \"Controversial Lib Dem donor gave £200,000 to election campaign | Party funding | The Guardian\". It mentions Rolls-Royce bribery investigations, etc., but scanning the snippet, it\\'s about donors to the Conservatives, Tories, laboured donations, etc. Actually, it\\'s about controversial Lib Dem donor gave £200k. But the content snippet doesn\\'t mention 2005. The Query is “Liberal Democrats largest donor 2005”. So the user likely wants information on the largest donor to the Liberal Democrats in 2005. The Document appears to be from 2017 (URL shows 2017 Jun 15), maybe about Lib Dem donor but not specifically 2005. The snippet is about donors to Tories, etc. No clear mention of Lib Dem largest donor in 2005. So likely not relevant.\\n\\nThus, in relevance dimension, rating likely low (maybe 1 or 2). It\\'s not matching the year 2005, not speaking of the largest donor. Possibly it mentions a controversial donor, but the query is specifically about \"Liberal Democrats largest donor 2005\" - maybe they want the identity of that donor. The doc is not specific. So rating: Poor.\\n\\nI will write as such.\\n\\nBut they want markdown with ## Relevance etc.\\n\\nWait, they mentioned only one dimension: Rate the relevance. So we just do one aspect called Relevance. I\\'m to output markdown: \\n\\n## Relevance\\n* rating: ...\\n* justification: ...\\n* notes: ...\\n\\nGiven the context, I\\'ll rate maybe 1 (Irrelevant) or 2 (Low Relevance). I\\'d say rating: 1.\\n\\nJustification: Document is about donors but not about 2005, not about largest donor in 2005, etc. So not relevant.\\n\\nNotes: The user is likely searching for the largest donor to the UK Liberal Democrats in 2005, which is not covered by this 2017 article.\\n\\nThus output.\\n\\nBut wait, rubric: Probably rating on scale unspecified. Perhaps 1-5. Hard to know. But I\\'ll assume from context: It\\'s likely a scale of relevance: High, Medium, Low, etc. Could use ratings like 5 (Highly relevant), 1 (Not relevant). I\\'ll assume 1-5 scale. I\\'ll choose rating: 1.\\n\\nThus done.\\n\\n']), status=<Status.FINISHED_SUCCESSFULLY: 'finished_successfully'>, end_turn=False, weight=1.0, metadata={'first_content_token_index': 3}, recipient='all', channel='analysis'), Message(id=UUID('f2a1a0da-2020-43a6-a143-9d4ca3bbb93f'), author=Author(role=<Role.ASSISTANT: 'assistant'>, name=None, metadata={}), create_time=None, update_time=None, content=Text(content_type='text', parts=[\"## Relevance\\n* rating: Low\\n* justification: The document is a 2017 Guardian article about various political donors and mentions a Lib Dem donor giving £200,000 but does not address the specific query about the Liberal Democrats' largest donor in 2005. It doesn't provide information about the 2005 largest donor.\\n* notes: The content is not focused on the 2005 timeframe or the specific detail requested.\"]), status=<Status.FINISHED_SUCCESSFULLY: 'finished_successfully'>, end_turn=True, weight=1.0, metadata={'first_content_token_index': 5}, recipient='all', channel='final')]}, recipient='all', channel='final')] error=None prompt_tokens=TokList(n_tok=722, spans=[IntTokSpan(n_tok=722, tokens=[200006, 17360, 200008, 3575, 553, ..., 23, 14376, 184538, 28, 19], modality=TEXT)]) raw_choice=Choice(index=0, toklist=TokList(n_tok=610, spans=[IntTokSpan(n_tok=610, tokens=[200005, 35644, 200008, 2167, 553, ..., 4857, 10851, 17222, 13, 200002], modality=TEXT)]), finish_details=FinishDetails(type='stop', stop=None, stop_tokens=[200002]), logprobs=None, class_logits_at_positions=None, special_scalars=None, token_alternatives=None, internal_metrics={'cached_prompt_tokens': 640, 'total_accepted_tokens': 0, 'total_batched_tokens': 1331, 'total_predicted_tokens': 0, 'total_rejected_tokens': 0, 'total_tokens_in_completion': 1332, 'cached_embeddings_bytes': 0, 'cached_embeddings_n': 0, 'uncached_embeddings_bytes': 0, 'uncached_embeddings_n': 0, 'fetched_embeddings_bytes': 0, 'fetched_embeddings_n': 0, 'n_evictions': 0, 'sampling_steps': 610, 'sampling_steps_with_predictions': 0, 'batcher_ttft': 0.02606487274169922, 'batcher_initial_queue_time': 0.0007646083831787109})\n",
            "## Relevance\n",
            "* rating: Low\n",
            "* justification: The document is a 2017 Guardian article about various political donors and mentions a Lib Dem donor giving £200,000 but does not address the specific query about the Liberal Democrats' largest donor in 2005. It doesn't provide information about the 2005 largest donor.\n",
            "* notes: The content is not focused on the 2005 timeframe or the specific detail requested.\n"
          ]
        }
      ]
    },
    {
      "cell_type": "markdown",
      "source": [
        "# NV4 with browser"
      ],
      "metadata": {
        "id": "y6vOkw8-CbRI"
      }
    },
    {
      "cell_type": "code",
      "source": [
        "from sonic_training.experiments.tools.lean_browser_sampling import HarmonyLeanBrowserToolFactory, make_convo, HarmonyLeanBrowserTool, init_tool\n",
        "from chatgpt_agents.chatgpt_agent import ChatGPTAgent\n",
        "from harmony_agent_turn_completer import HarmonyAgentTurnCompleter, agent_factories\n",
        "from agent_core import ConfiguredAgent, ModelFamily\n",
        "from token_completer.token_completer import TokenCompleter\n",
        "from syncio import SyncClientHelper\n",
        "from message_completer import TokenMessageCompleter\n",
        "from bus_token_completer import BusTokenCompleter\n",
        "\n",
        "#!! I feel nv4 tool use of browse is not tuned well. it generates bad inputs to the tool\n",
        "def load_completer():\n",
        "  token_completer=BusTokenCompleter.Config(\n",
        "      # assumes you spinned up this engine\n",
        "      topic_or_snapshot=\"az://oaidsm2/oaistrawberry2/twapi/mini/e/bmckinzie-nv4-25T-mident-ipb512-spi128-tbv2-run1/policy/step_000320/\",\n",
        "      topic_mode_or_user=\"bwen-citation-neutrinov4-test\",\n",
        "  ).build()\n",
        "  tmc = TokenMessageCompleter(\n",
        "      token_completer=token_completer,\n",
        "      completion_params=TokenCompleter.Params(\n",
        "          max_tokens=64000,\n",
        "          temperature=1.0,\n",
        "          top_p=0.995,\n",
        "      ),\n",
        "      renderer=\"harmony_v4.0.15_berry_v3_1mil_orion_lpe\",\n",
        "  )\n",
        "  # tmc = get_selective_completer()\n",
        "\n",
        "  browser_tool_factory = HarmonyLeanBrowserToolFactory()\n",
        "  return HarmonyAgentTurnCompleter(\n",
        "      configured_agent_factory=lambda: ConfiguredAgent(\n",
        "          type=ChatGPTAgent,\n",
        "          settings=agent_factories.harmony_agent_settings(\n",
        "              renderer_name=\"harmony_v4.0.15_berry_v3_1mil_orion_lpe\",\n",
        "              api_base=\"http://should-not-be-used.openai.com/\",\n",
        "              agent_type=ChatGPTAgent,\n",
        "              model_family=ModelFamily.UNKNOWN,\n",
        "              default_tools=[\n",
        "                  HarmonyLeanBrowserTool().serialize(),\n",
        "              ],\n",
        "              max_consecutive_model_messages=5,\n",
        "              vardisc_reward_multiplier=16,\n",
        "              sampling_temperature=1.0,\n",
        "              # extra_settings\n",
        "              sampling_max_tokens=64000,\n",
        "              allow_wasted_action_budget=True,\n",
        "              sampling_top_p=0.995,\n",
        "          ),\n",
        "      ),\n",
        "      agent_context_factory=agent_factories.AgentContextFactoryFactory(\n",
        "          message_completer=tmc,\n",
        "          own_message_completer=True,\n",
        "          tool_context_factories={browser_tool_factory.context_type: browser_tool_factory},\n",
        "      ),\n",
        "      sync_helper=SyncClientHelper(max_concurrency=None),\n",
        "  )\n",
        "\n",
        "\n",
        "class NeutrinoV4WithBrowseGrader(Grader):\n",
        "  async def rate_text(self, text: str, rubrics: str):\n",
        "    convo = make_convo(\n",
        "      \"\\n\".join(\n",
        "          [\n",
        "              self.instruction,\n",
        "              rubrics,\n",
        "              text,\n",
        "              \"You can use browser.tool_call to help you grading. \"\n",
        "          ]\n",
        "      )\n",
        "    )\n",
        "    tc = load_completer()\n",
        "    result = None\n",
        "    async for result in tc.async_completion_stream(convo, include_system_messages=False):\n",
        "        pass\n",
        "    assert result is not None\n",
        "    for message in result.input_conversation.messages:\n",
        "        print(f\"input: {message=}\")\n",
        "    for message in result.output_messages:\n",
        "        print(f\"output: {message=}\")\n",
        "    return result.output_messages[-1]\n",
        "\n",
        "async def test_nv4_with_browse_grader():\n",
        "  q, d, rubrics = gen_example()\n",
        "  grader = NeutrinoV4WithBrowseGrader()\n",
        "  rating = await grader(q, d, rubrics)\n",
        "  print(rating)\n",
        "\n",
        "await test_nv4_with_browse_grader()"
      ],
      "metadata": {
        "colab": {
          "base_uri": "https://localhost:8080/",
          "height": 888
        },
        "id": "_Tkzj9vI1zkB",
        "outputId": "f9d2cca5-5dd2-42b9-a193-668334659f1c"
      },
      "execution_count": null,
      "outputs": [
        {
          "output_type": "stream",
          "name": "stdout",
          "text": [
            "\u001b[2m2025-01-18 05:35:30\u001b[0m [\u001b[33m\u001b[1mwarning  \u001b[0m] \u001b[1mOTel metrics are not initialized, please initialize in your application by calling `otel.metrics.init()`\u001b[0m \u001b[36mbus\u001b[0m=\u001b[35mTrue\u001b[0m\n",
            "\u001b[2m2025-01-18 05:35:31\u001b[0m [\u001b[32m\u001b[1mdebug    \u001b[0m] \u001b[1mSuccessfully subscribed to bus:client:bwen-quail-spart-grader-master-0-8jeRH9.\u001b[0m \u001b[36mbus\u001b[0m=\u001b[35mTrue\u001b[0m\n",
            "\u001b[2m2025-01-18 05:35:32\u001b[0m [\u001b[33m\u001b[1mwarning  \u001b[0m] \u001b[1m%s: no more outstanding/pending requests; closing requestor. %s\u001b[0m \u001b[36mbus\u001b[0m=\u001b[35mTrue\u001b[0m \u001b[36mpositional_args\u001b[0m=\u001b[35m('bus:client:bwen-quail-spart-grader-master-0-8jeRH9', '0 pending/0 outstanding/1 completed/0 errors')\u001b[0m\n",
            "\u001b[2m2025-01-18 05:35:32\u001b[0m [\u001b[32m\u001b[1mdebug    \u001b[0m] \u001b[1mTopicManager(bus:client:bwen-quail-spart-grader-master-0-8jeRH9): 'CancelledError - Requestor(bus:client:bwen-quail-spart-grader-master-0-8jeRH9).close()' thrown; exiting.\u001b[0m \u001b[36mbus\u001b[0m=\u001b[35mTrue\u001b[0m\n",
            "\u001b[2m2025-01-18 05:35:32\u001b[0m [\u001b[32m\u001b[1mdebug    \u001b[0m] \u001b[1m_Requestor.handle_responses(bus:client:bwen-quail-spart-grader-master-0-8jeRH9): 'CancelledError - Requestor(bus:client:bwen-quail-spart-grader-master-0-8jeRH9).close()' thrown; exiting.\u001b[0m \u001b[36mbus\u001b[0m=\u001b[35mTrue\u001b[0m\n",
            "\u001b[2m2025-01-18 05:35:32\u001b[0m [\u001b[32m\u001b[1mdebug    \u001b[0m] \u001b[1mHeartbeatManager(bus:client:bwen-quail-spart-grader-master-0-8jeRH9:alive): 'CancelledError - HeartbeatManager(bus:client:bwen-quail-spart-grader-master-0-8jeRH9:alive).stop()' thrown; exiting.\u001b[0m \u001b[36mbus\u001b[0m=\u001b[35mTrue\u001b[0m\n"
          ]
        },
        {
          "output_type": "stream",
          "name": "stderr",
          "text": [
            "WARNING:sonic_training.experiments.tools.lean_browser_sampling:already have _tool\n",
            "WARNING:sonic_training.experiments.tools.lean_browser_sampling:already have _tool\n",
            "WARNING:sonic_training.experiments.tools.lean_browser_sampling:Processing message with tool <class 'lean_browser.lean_browser_tool.LeanBrowserTool'>\n"
          ]
        },
        {
          "output_type": "display_data",
          "data": {
            "text/plain": [],
            "text/html": [
              "<pre style=\"white-space:pre;overflow-x:auto;line-height:normal;font-family:Menlo,'DejaVu Sans Mono',consolas,'Courier New',monospace\"></pre>\n"
            ]
          },
          "metadata": {}
        },
        {
          "output_type": "stream",
          "name": "stderr",
          "text": [
            "WARNING:sonic_training.experiments.tools.lean_browser_sampling:Yielding message tool -> all\n",
            "╭─────────────────────────────────────────────────────────────────────────────────────────────────────────────────╮\n",
            "│ content_type='system_error' name='ToolUsageError' text='`cursor` should not be set when opening a URL.'         │\n",
            "╰─────────────────────────────────────────────────────────────────────────────────────────────────────────────────╯\n",
            "Content Type: system_error\n",
            "Channel: analysis\n",
            "Weight: \u001b[1;36m1.0\u001b[0m\n",
            "End Turn: \u001b[3;35mNone\u001b[0m\n",
            "\n"
          ]
        },
        {
          "output_type": "stream",
          "name": "stdout",
          "text": [
            "\u001b[2m2025-01-18 05:35:32\u001b[0m [\u001b[32m\u001b[1minfo     \u001b[0m] \u001b[1mModel function call complete  \u001b[0m \u001b[36mcomponent\u001b[0m=\u001b[35mfunction_calling_tool\u001b[0m \u001b[36mfunction_calling_tool\u001b[0m=\u001b[35m{'tool_name': 'browser', 'call_id': 'fncall_b2338ec19ab34d38bf5461653feb656c', 'input_message': {'id': UUID('6b13b870-ad26-4f67-9944-2a5561aaa494'), 'author': {'role': <Role.ASSISTANT: 'assistant'>, 'name': None}, 'recipient': 'browser.open', 'channel': 'analysis', 'content': {'content_type': 'code', '__str__': '{\"cursor\": 0, \"id\": \"https://www.theguardian.com/politics/2017/jun/15/controversial-lib-dem-donor-gave-200000-to-election-campaign\"}'}}, 'response_message_ids': ['22b5bce8-e1f3-43da-818c-064e1ae9a619'], 'finished_successfully': True, 'function_calling_tool_version': '1.0.2', 'function_name': 'open', 'kwargs': {'cursor': 0, 'id': 'https://www.theguardian.com/politics/2017/jun/15/controversial-lib-dem-donor-gave-200000-to-election-campaign'}, '__fn_calling_tool_fn_type__': 'function_the_model_can_call'}\u001b[0m\n",
            "\u001b[2m2025-01-18 05:35:32\u001b[0m [\u001b[32m\u001b[1mdebug    \u001b[0m] \u001b[1mSuccessfully subscribed to bus:client:bwen-quail-spart-grader-master-0-8jeRH9.\u001b[0m \u001b[36mbus\u001b[0m=\u001b[35mTrue\u001b[0m\n",
            "\u001b[2m2025-01-18 05:35:33\u001b[0m [\u001b[33m\u001b[1mwarning  \u001b[0m] \u001b[1m%s: no more outstanding/pending requests; closing requestor. %s\u001b[0m \u001b[36mbus\u001b[0m=\u001b[35mTrue\u001b[0m \u001b[36mpositional_args\u001b[0m=\u001b[35m('bus:client:bwen-quail-spart-grader-master-0-8jeRH9', '0 pending/0 outstanding/2 completed/0 errors')\u001b[0m\n",
            "\u001b[2m2025-01-18 05:35:33\u001b[0m [\u001b[32m\u001b[1mdebug    \u001b[0m] \u001b[1mTopicManager(bus:client:bwen-quail-spart-grader-master-0-8jeRH9): 'CancelledError - Requestor(bus:client:bwen-quail-spart-grader-master-0-8jeRH9).close()' thrown; exiting.\u001b[0m \u001b[36mbus\u001b[0m=\u001b[35mTrue\u001b[0m\n",
            "\u001b[2m2025-01-18 05:35:34\u001b[0m [\u001b[32m\u001b[1mdebug    \u001b[0m] \u001b[1m_Requestor.handle_responses(bus:client:bwen-quail-spart-grader-master-0-8jeRH9): 'CancelledError - Requestor(bus:client:bwen-quail-spart-grader-master-0-8jeRH9).close()' thrown; exiting.\u001b[0m \u001b[36mbus\u001b[0m=\u001b[35mTrue\u001b[0m\n",
            "\u001b[2m2025-01-18 05:35:34\u001b[0m [\u001b[32m\u001b[1mdebug    \u001b[0m] \u001b[1mHeartbeatManager(bus:client:bwen-quail-spart-grader-master-0-8jeRH9:alive): 'CancelledError - HeartbeatManager(bus:client:bwen-quail-spart-grader-master-0-8jeRH9:alive).stop()' thrown; exiting.\u001b[0m \u001b[36mbus\u001b[0m=\u001b[35mTrue\u001b[0m\n",
            "input: message=Message(id=UUID('d2a3c0ab-c784-4e72-b7e3-78bdacb03b08'), author=Author(role=<Role.SYSTEM: 'system'>, name=None, metadata={}), create_time=None, update_time=None, content=SystemContent(content_type='system_content', model_identity_desc='You are ChatGPT, a large language model trained by OpenAI.', instructions=[], conversation_start_date=None, deprecated_knowledge_cutoff=None, knowledge_cutoff_format=None, tools_section={'browser': '// Tool for browsing.\\n// The `cursor` appears in brackets before each browsing display: `[{cursor}]`.\\n// Cite information from the tool using the following format:\\n// `【{cursor}†L{line_start}(-L{line_end})?】`, for example: `【6†L9-L11】` or `【8†L3】`.\\n// Cite images in the same way, just using L0, e.g. `【9†L0】`.\\n// Embed images in your response with `【{cursor}†embed_image】`, e.g. `【2†embed_image】`, where cursor 2 contains the image.\\n// sources=web (default: web)\\nnamespace browser {\\n\\n// Searches for information related to `query` and displays `topn` results, filtering by `recency_days` if specified.\\ntype search = (_: {\\nquery: string,\\ntopn?: number, // default: 10\\nrecency_days?: number,\\nsource?: string,\\n}) => any;\\n\\n// Opens the link `id` from the page indicated by `cursor` starting at line number `loc`, showing `num_lines` lines.\\n// Valid link ids are displayed with the formatting: `【{id}†.*】`.\\n// If `cursor` is not provided, the most recent page is implied.\\n// If `id` is a string, it is treated as a fully qualified URL associated with `source`.\\n// If `loc` is not provided, the viewport will be positioned at the beginning of the document or centered on the most relevant passage, if available.\\n// Use this function without `id` to scroll to a new location of an opened page.\\ntype open = (_: {\\nid?: number | string, // default: -1\\ncursor?: number, // default: -1\\nloc?: number, // default: -1\\nnum_lines?: number, // default: -1\\nsource?: string,\\n}) => any;\\n\\n// Finds exact matches of `pattern` in the current page, or the page given by `cursor`.\\ntype find = (_: {\\npattern: string,\\ncursor?: number, // default: -1\\n}) => any;\\n\\n} // namespace browser'}, response_formats=None, content_policy=None, output_config=None, voice_sample_config=None, channel_config=None, settings=None, metadata=SystemContentMetadata(user_specific_instructions=None, reward_multiplier=None, message_types_allowed_extra=())), status=<Status.FINISHED_SUCCESSFULLY: 'finished_successfully'>, end_turn=True, weight=0.0, metadata={}, recipient='all', channel=None)\n",
            "input: message=Message(id=UUID('46bbe5fa-3508-459f-a872-2eca2a4edc9c'), author=Author(role=<Role.USER: 'user'>, name=None, metadata={}), create_time=None, update_time=None, content=Text(content_type='text', parts=['\\nYou are a professional grader that judges the quality of search results.  \\nYou need to follow the rating instruction below to rate a given QUERY - DOCUMENT pair with respect to each dimension. \\nThe QUERY contains the QUERY TEXT, DATE, and LOCATION of the searcher. The DOCUMENT contains TITLE, URL, PUBLICATION DATE, and CONTENT. \\nWrite your decision for each aspects in the markdown format. It should contain a title of the area, the rating, and detailed justification of your decision. \\nIf you have any confusion or something worth commenting, can also output them in a \"notes\". \\n\\nThe response of each aspect (dimension) is:\\n## <Aspect>\\n* rating: <rating>\\n* justification: <justification>\\n* notes: <notes>\\n\\nThe Rubrics is:\\n\\n\\nRate the relevance of the the search result DOCUMENT to the user QUERY.\\n\\n# Input Query and Document\\n\\nQUERY:\\nQUERY TEXT: Liberal Democrats largest donor 2005\\nDATE: N/A\\nLOCATION: N/A\\n\\nDOCUMENT:\\nTITLE: Controversial Lib Dem donor gave £200,000 to election campaign | Party funding | The Guardian\\nURL: https://www.theguardian.com/politics/2017/jun/15/controversial-lib-dem-donor-gave-200000-to-election-campaign\\nPUBLICATION DATE: N/A\\nCONTENT: \\n  In January, Rolls-Royce agreed to pay 【15†£671m in penalties】 to settle long-running bribery investigations by the Serious Fraud Office and overseas prosecutors, but separate criminal inquiries may follow in countries around the world where the company has admitted corruption.\\n\\n  The Guardian and the BBC’s Panorama have previously revealed that Choudhrie family companies were paid millions by Rolls-Royce for their work in 【16†India】.\\n\\n  In a letter, the Choudhries’ lawyers said: “Mr Choudhrie has never paid bribes to government officials or acted as an illegal ‘middleman’ in defence deals.”\\n\\n  Donors to the Tories included Express Newspapers, which gave nearly £80,000 in free advertising. The newspaper’s proprietor, Richard Desmond, backed Ukip in 2015 with a £1m donation, but his paper’s support for the anti-European party has waned since Britain voted to leave the EU.\\n\\n  Two of David Cameron’s most important donors also gave money in the last week of the campaign. Ian Taylor, the founder of oil trader Vitol, gave £25,000. Taylor withdrew his name from consideration for a knighthood in Cameron’s resignation honours list last year. Questions had been raised about Vitol’s activities in politically sensitive areas around the world. Taylor has been a Conservative donor for several years, and supported the remain campaign.\\n\\n  Countywide Developments, a property company run by Tony Gallagher, gave £25,000 in the last week. At the end of last year, Cameron celebrated his 50th birthday at Gallagher’s 17th-century Oxfordshire mansion.\\n\\n  David Rowland, a billionaire property developer, gave £100,000 to the May campaign.\\n\\n  Labour received £10,000 from the comedian Eddie Izzard and £8,000 from Matt Wrack, the head of the Fire Brigades Union.\\n\\n  Explore more on these topics.\\n      \\n    \\nYou can use browser.tool_call to help you grading. ']), status=<Status.FINISHED_SUCCESSFULLY: 'finished_successfully'>, end_turn=None, weight=0.0, metadata={}, recipient='all', channel=None)\n",
            "output: message=Message(id=UUID('cbfa8f12-f41e-4135-aa69-8eee70e4b349'), author=Author(role=<Role.ASSISTANT: 'assistant'>, name=None, metadata={}), create_time=None, update_time=None, content=Text(content_type='text', parts=['The query: \"Liberal Democrats largest donor 2005\". The user wants to know who was the largest donor to the Liberal Democrats party in 2005. The Document is a Guardian article about a controversial Lib Dem donor who gave £200k to election campaign (2017). It doesn\\'t mention 2005 or largest donor in that year.\\n\\nLet\\'s open top of document.']), status=<Status.FINISHED_SUCCESSFULLY: 'finished_successfully'>, end_turn=False, weight=1.0, metadata={'first_content_token_index': 3, 'first_token_time': 1737178532.2059503, 'message_content_token_count': 77, 'last_token_time': 1737178532.2291338, 'citations': [], 'content_references': []}, recipient='all', channel='analysis')\n",
            "output: message=Message(id=UUID('6b13b870-ad26-4f67-9944-2a5561aaa494'), author=Author(role=<Role.ASSISTANT: 'assistant'>, name=None, metadata={}), create_time=None, update_time=None, content=Code(content_type='code', language=<Language.UNKNOWN: 'unknown'>, response_format_name=None, text='{\"cursor\": 0, \"id\": \"https://www.theguardian.com/politics/2017/jun/15/controversial-lib-dem-donor-gave-200000-to-election-campaign\"}'), status=<Status.FINISHED_SUCCESSFULLY: 'finished_successfully'>, end_turn=False, weight=1.0, metadata={'first_content_token_index': 10, 'first_token_time': 1737178532.2297616, 'message_content_token_count': 45, 'last_token_time': 1737178532.2406528, 'citations': [], 'content_references': [], 'prefixed_with_wordlim': None}, recipient='browser.open', channel='analysis')\n",
            "output: message=Message(id=UUID('22b5bce8-e1f3-43da-818c-064e1ae9a619'), author=Author(role=<Role.TOOL: 'tool'>, name='browser.open', metadata={}), create_time=None, update_time=None, content=SystemError(content_type='system_error', name='ToolUsageError', text='`cursor` should not be set when opening a URL.'), status=<Status.FINISHED_SUCCESSFULLY: 'finished_successfully'>, end_turn=None, weight=1.0, metadata={}, recipient='all', channel='analysis')\n",
            "output: message=Message(id=UUID('a545e002-3a56-44ee-a4a3-4613bed5e05e'), author=Author(role=<Role.ASSISTANT: 'assistant'>, name=None, metadata={}), create_time=None, update_time=None, content=Text(content_type='text', parts=[\"The snippet shows some donors but seems about 2015 campaign. The query is about 2005. Thus not relevant. Probably the document isn't relevant to query. So rating Low.\\n\\nBut dimensions? Only one dimension: relevance. So:\\n\\n## Relevance\\n* rating: Low\\n* justification: The document discusses donors to Lib Dems around 2017, not the largest donor in 2005. It does not answer the query.\\n\\n\"]), status=<Status.FINISHED_SUCCESSFULLY: 'finished_successfully'>, end_turn=False, weight=1.0, metadata={'first_content_token_index': 3, 'first_token_time': 1737178534.0017352, 'message_content_token_count': 90, 'last_token_time': 1737178534.024975, 'citations': [], 'content_references': []}, recipient='all', channel='analysis')\n",
            "output: message=Message(id=UUID('ce647631-3dbf-4434-8957-1e36e105c35b'), author=Author(role=<Role.ASSISTANT: 'assistant'>, name=None, metadata={}), create_time=None, update_time=None, content=Text(content_type='text', parts=[\"They want detailed justification. Maybe also mention it's not answering. No other aspects given. Probably just one.\"]), status=<Status.FINISHED_SUCCESSFULLY: 'finished_successfully'>, end_turn=False, weight=1.0, metadata={'first_content_token_index': 5, 'first_token_time': 1737178534.025282, 'message_content_token_count': 22, 'last_token_time': 1737178534.0308645, 'citations': [], 'content_references': []}, recipient='all', channel='analysis')\n",
            "output: message=Message(id=UUID('7d0ecad7-9e81-4c07-b433-9fce8a66714e'), author=Author(role=<Role.ASSISTANT: 'assistant'>, name=None, metadata={}), create_time=None, update_time=None, content=Text(content_type='text', parts=[\"## Relevance\\n* rating: Poor\\n* justification: The document is about a controversial Lib Dem donor giving money in recent campaigns (2015, 2017) and mentions various donors but does not address who was the Liberal Democrats' largest donor in 2005. It is not relevant to the specific query.\\n* notes: The query is about 2005 and largest donor, while the article focuses on a £200,000 donation in a different context.\"]), status=<Status.FINISHED_SUCCESSFULLY: 'finished_successfully'>, end_turn=True, weight=1.0, metadata={'first_content_token_index': 5, 'first_token_time': 1737178534.0311599, 'message_content_token_count': 95, 'last_token_time': 1737178534.0556939, 'citations': [], 'content_references': [], 'prefixed_with_wordlim': None}, recipient='all', channel='analysis')\n"
          ]
        },
        {
          "output_type": "display_data",
          "data": {
            "text/plain": [],
            "text/html": [
              "<pre style=\"white-space:pre;overflow-x:auto;line-height:normal;font-family:Menlo,'DejaVu Sans Mono',consolas,'Courier New',monospace\"></pre>\n"
            ]
          },
          "metadata": {}
        },
        {
          "output_type": "stream",
          "name": "stdout",
          "text": [
            "assistant -> all\n",
            "╭─────────────────────────────────────────────────────────────────────────────────────────────────────────────────╮\n",
            "│ ## Relevance                                                                                                    │\n",
            "│ * rating: Poor                                                                                                  │\n",
            "│ * justification: The document is about a controversial Lib Dem donor giving money in recent campaigns (2015,    │\n",
            "│ 2017) and mentions various donors but does not address who was the Liberal Democrats' largest donor in 2005. It │\n",
            "│ is not relevant to the specific query.                                                                          │\n",
            "│ * notes: The query is about 2005 and largest donor, while the article focuses on a £200,000 donation in a       │\n",
            "│ different context.                                                                                              │\n",
            "╰─────────────────────────────────────────────────────────────────────────────────────────────────────────────────╯\n",
            "Content Type: text\n",
            "Channel: analysis\n",
            "Weight: \u001b[1;36m1.0\u001b[0m\n",
            "message_content_token_count: \u001b[1;36m95\u001b[0m\n",
            "content_references: \u001b[1m[\u001b[0m\u001b[1m]\u001b[0m\n",
            "End Turn: \u001b[3;92mTrue\u001b[0m\n",
            "\n"
          ]
        }
      ]
    },
    {
      "cell_type": "markdown",
      "source": [
        "# Data\n"
      ],
      "metadata": {
        "id": "395DCdHSTj9J"
      }
    },
    {
      "cell_type": "code",
      "source": [
        "import os\n",
        "import sys\n",
        "from datetime import datetime, timedelta\n",
        "from typing import Literal\n",
        "\n",
        "import blobfile as bf\n",
        "import pyspark.sql.functions as F\n",
        "import pyspark.sql.types as T\n",
        "from pyspark.sql import DataFrame, Window\n",
        "from pyspark.sql.functions import (\n",
        "    col,\n",
        "    explode,\n",
        "    from_json,\n",
        "    struct,\n",
        "    to_timestamp,\n",
        "    unix_timestamp,\n",
        "    when,\n",
        ")\n",
        "from pyspark.sql.types import ArrayType, BooleanType, FloatType, StringType, StructField, StructType\n",
        "\n",
        "import chz\n",
        "from maraschino_data_pipeline.lib.browse_utils import MinimalPageContents\n",
        "from maraschino_data_pipeline.lib.file_utils import write_parquet_metadata\n",
        "from maraschino_data_pipeline.lib.logging_utils import setup_logger\n",
        "from maraschino_data_pipeline.lib.pipeline_context import PipelineContext\n",
        "from maraschino_data_pipeline.lib.types import BingIndexType, LabradorIndexType, Source\n",
        "from maraschino_data_pipeline.process_raw_data import generate_sonic_data, sample_by_create_date\n",
        "from tinder.context import get_sq\n",
        "from rosun import logging_utils, spark_utils\n",
        "import logging\n",
        "from tinder.context import maybe_az_to_wasb\n",
        "import blobfile as bf"
      ],
      "metadata": {
        "id": "gt5F9w4KT6wz"
      },
      "execution_count": null,
      "outputs": []
    },
    {
      "cell_type": "code",
      "source": [
        "input_patterns = [\n",
        "    # \"az://oaidsm1/oaimaraschino/datasets/citation/shuyangcheng/all_with_citation_full/sampled_data/all/sonic_prod_df_train/part*.parquet\"\n",
        "    \"az://oaidsm1/oaibwen/data/citation/preprocess/query_generation_neutrino_10M/indexed_df/part-*.parquet\"\n",
        "]\n",
        "ctx = spark_utils.new_ctx(input_patterns)\n",
        "\n",
        "ctx.sc.setLogLevel(\"ERROR\")\n",
        "\n",
        "fns = []\n",
        "for pattern in input_patterns:\n",
        "    fns.extend(bf.glob(pattern))\n",
        "\n",
        "fns = set(fns)\n",
        "for p in input_patterns:\n",
        "    fns.discard(p)\n",
        "\n",
        "fns = sorted(fns)\n",
        "\n",
        "print(f\"Found {len(fns)} files\")\n",
        "\n",
        "raw_df = ctx.spark.read.parquet(*[maybe_az_to_wasb(f) for f in fns[:]])\n",
        "raw_df = raw_df.cache()\n",
        "print(f\"Input table {spark_utils.formatted_schema(raw_df)}, {raw_df.count()} rows\")"
      ],
      "metadata": {
        "colab": {
          "base_uri": "https://localhost:8080/"
        },
        "id": "DIOuGeZhTn8S",
        "outputId": "c33c656e-0044-45d7-a545-85f571e72e8c"
      },
      "execution_count": null,
      "outputs": [
        {
          "output_type": "stream",
          "name": "stdout",
          "text": [
            "[tinder] Re-using existing SparkContext, new configuration may be ignored. Consider calling sc.stop() first\n",
            "[tinder] Application UI at: http://go/spark-gui/spart-grader-master/bwen/quail\n"
          ]
        },
        {
          "output_type": "stream",
          "name": "stderr",
          "text": [
            "/root/.pyenv/versions/3.11.8/lib/python3.11/site-packages/pyspark/sql/context.py:113: FutureWarning: Deprecated in 3.0.0. Use SparkSession.builder.getOrCreate() instead.\n",
            "  warnings.warn(\n"
          ]
        },
        {
          "output_type": "stream",
          "name": "stdout",
          "text": [
            "Found 3000 files\n"
          ]
        },
        {
          "output_type": "stream",
          "name": "stderr",
          "text": []
        },
        {
          "output_type": "stream",
          "name": "stdout",
          "text": [
            "Input table root\n",
            " |-- query: string (nullable = true)\n",
            " |-- user_metadata: string (nullable = true)\n",
            " |-- create_time: string (nullable = true)\n",
            " |-- rewritten_bing_queries: array (nullable = true)\n",
            " |    |-- element: string (containsNull = true)\n",
            " |-- log_source: string (nullable = true)\n",
            " |-- search_result: struct (nullable = true)\n",
            " |    |-- url: string (nullable = true)\n",
            " |    |-- title: string (nullable = true)\n",
            " |    |-- text: string (nullable = true)\n",
            " |    |-- snippet_parts: array (nullable = true)\n",
            " |    |    |-- element: string (containsNull = true)\n",
            " |    |-- snippet_scores: array (nullable = true)\n",
            " |    |    |-- element: double (containsNull = true)\n",
            " |    |-- snippet_rendered: array (nullable = true)\n",
            " |    |    |-- element: boolean (containsNull = true)\n",
            " |    |-- position: integer (nullable = true)\n",
            " |    |-- pub_date: string (nullable = true)\n",
            " |    |-- score: double (nullable = true)\n",
            " |    |-- result_source: string (nullable = true)\n",
            " |    |-- result_type: string (nullable = true)\n",
            " |    |-- is_cited: boolean (nullable = true)\n",
            " |    |-- is_rendered: boolean (nullable = true)\n",
            " |    |-- fetch_query: string (nullable = true)\n",
            " |-- to_judge: string (nullable = true)\n",
            " |-- deterministic_id: long (nullable = true)\n",
            ", 158646952 rows\n"
          ]
        },
        {
          "output_type": "stream",
          "name": "stderr",
          "text": [
            "\r                                                                                \r"
          ]
        }
      ]
    },
    {
      "cell_type": "code",
      "source": [
        "raw_df.groupBy((F.col(\"deterministic_id\") % 100).alias(\"bucket\")).count().orderBy(\"bucket\").show(100)"
      ],
      "metadata": {
        "colab": {
          "base_uri": "https://localhost:8080/"
        },
        "id": "ABpJOvpaaiTP",
        "outputId": "9071cbd0-f264-4600-e964-25b9b27c96dc"
      },
      "execution_count": null,
      "outputs": [
        {
          "output_type": "stream",
          "name": "stdout",
          "text": [
            "+------+-----+\n",
            "|bucket|count|\n",
            "+------+-----+\n",
            "|  NULL|26247|\n",
            "|     0|  252|\n",
            "|     1|  262|\n",
            "|     2|  259|\n",
            "|     3|  289|\n",
            "|     4|  262|\n",
            "|     5|  294|\n",
            "|     6|  271|\n",
            "|     7|  254|\n",
            "|     8|  265|\n",
            "|     9|  283|\n",
            "|    10|  253|\n",
            "|    11|  255|\n",
            "|    12|  273|\n",
            "|    13|  254|\n",
            "|    14|  278|\n",
            "|    15|  290|\n",
            "|    16|  269|\n",
            "|    17|  293|\n",
            "|    18|  273|\n",
            "|    19|  269|\n",
            "|    20|  292|\n",
            "|    21|  246|\n",
            "|    22|  289|\n",
            "|    23|  274|\n",
            "|    24|  275|\n",
            "|    25|  248|\n",
            "|    26|  270|\n",
            "|    27|  266|\n",
            "|    28|  259|\n",
            "|    29|  278|\n",
            "|    30|  261|\n",
            "|    31|  280|\n",
            "|    32|  236|\n",
            "|    33|  231|\n",
            "|    34|  261|\n",
            "|    35|  274|\n",
            "|    36|  277|\n",
            "|    37|  247|\n",
            "|    38|  262|\n",
            "|    39|  237|\n",
            "|    40|  276|\n",
            "|    41|  247|\n",
            "|    42|  265|\n",
            "|    43|  262|\n",
            "|    44|  238|\n",
            "|    45|  282|\n",
            "|    46|  308|\n",
            "|    47|  248|\n",
            "|    48|  267|\n",
            "|    49|  279|\n",
            "|    50|  257|\n",
            "|    51|  255|\n",
            "|    52|  241|\n",
            "|    53|  260|\n",
            "|    54|  244|\n",
            "|    55|  252|\n",
            "|    56|  267|\n",
            "|    57|  270|\n",
            "|    58|  250|\n",
            "|    59|  250|\n",
            "|    60|  284|\n",
            "|    61|  302|\n",
            "|    62|  268|\n",
            "|    63|  274|\n",
            "|    64|  269|\n",
            "|    65|  280|\n",
            "|    66|  255|\n",
            "|    67|  271|\n",
            "|    68|  262|\n",
            "|    69|  272|\n",
            "|    70|  252|\n",
            "|    71|  275|\n",
            "|    72|  279|\n",
            "|    73|  272|\n",
            "|    74|  277|\n",
            "|    75|  260|\n",
            "|    76|  254|\n",
            "|    77|  251|\n",
            "|    78|  258|\n",
            "|    79|  270|\n",
            "|    80|  285|\n",
            "|    81|  260|\n",
            "|    82|  275|\n",
            "|    83|  220|\n",
            "|    84|  276|\n",
            "|    85|  250|\n",
            "|    86|  255|\n",
            "|    87|  274|\n",
            "|    88|  273|\n",
            "|    89|  278|\n",
            "|    90|  289|\n",
            "|    91|  268|\n",
            "|    92|  258|\n",
            "|    93|  282|\n",
            "|    94|  283|\n",
            "|    95|  270|\n",
            "|    96|  244|\n",
            "|    97|  285|\n",
            "|    98|  258|\n",
            "+------+-----+\n",
            "only showing top 100 rows\n",
            "\n"
          ]
        }
      ]
    },
    {
      "cell_type": "code",
      "source": [
        "filterd_df = raw_df.filter(\n",
        "    ((F.col(\"deterministic_id\") % 100) >= 7)\n",
        "    & ((F.col(\"deterministic_id\") % 100) < 10)\n",
        ").count()\n",
        "print(filterd_df)"
      ],
      "metadata": {
        "colab": {
          "base_uri": "https://localhost:8080/"
        },
        "id": "l4nibXihbHgf",
        "outputId": "33ed9fcc-eed0-405f-a286-7d6ef53dd0e1"
      },
      "execution_count": null,
      "outputs": [
        {
          "output_type": "stream",
          "name": "stdout",
          "text": [
            "802\n"
          ]
        }
      ]
    },
    {
      "cell_type": "code",
      "source": [
        "exploded_df = raw_df.withColumn(\"search_results\", F.explode(F.col(\"search_results\"))).where(F.col(\"search_results.status\") == \"ok\")\n",
        "exploded_df.cache()\n",
        "exploded_df.select(\"search_results.search_result\").show(3, truncate=True)\n",
        "\n"
      ],
      "metadata": {
        "colab": {
          "base_uri": "https://localhost:8080/"
        },
        "id": "tnaG9Cf7UEU7",
        "outputId": "288e8cfd-7cb8-413e-aa18-e3866925e579"
      },
      "execution_count": null,
      "outputs": [
        {
          "output_type": "stream",
          "name": "stdout",
          "text": [
            "+--------------------+\n",
            "|       search_result|\n",
            "+--------------------+\n",
            "|{\"url\":\"https://w...|\n",
            "|{\"url\":\"https://w...|\n",
            "|{\"url\":\"https://w...|\n",
            "+--------------------+\n",
            "only showing top 3 rows\n",
            "\n"
          ]
        }
      ]
    },
    {
      "cell_type": "code",
      "source": [
        "from datetime import datetime\n",
        "from search_service.api.user_metadata import UserMetadata\n",
        "import json\n",
        "\n",
        "def take_samples(df, n):\n",
        "  res = df.select(\"query\", \"user_metadata\", \"create_time\", \"search_results.search_result\").limit(n).collect()\n",
        "  return res\n",
        "\n",
        "def format_samples(samples, use_snippet=False):\n",
        "  r = []\n",
        "  for sample in samples:\n",
        "    query = sample.query\n",
        "    user_metadata = UserMetadata.parse_raw(sample.user_metadata)\n",
        "    create_time = datetime.strptime(sample.create_time, \"%Y-%m-%dT%H:%M:%S.%fZ\")\n",
        "    search_result = json.loads(sample.search_result)\n",
        "    print(search_result.keys())\n",
        "\n",
        "    q = Query(\n",
        "        query=search_result[\"fetch_query\"],\n",
        "        create_timestamp=create_time,\n",
        "        user_metadata=user_metadata,\n",
        "        orig_query=sample.query,\n",
        "    )\n",
        "\n",
        "\n",
        "\n",
        "    if use_snippet:\n",
        "      for snippet in search_result[\"snippet_parts\"]:\n",
        "        d = Document(\n",
        "            url=search_result[\"url\"],\n",
        "            title=search_result[\"title\"],\n",
        "            content=snippet,\n",
        "            pub_date=datetime.fromisoformat(search_result[\"publication_date\"]),\n",
        "        )\n",
        "        r.append((q, d))\n",
        "    else:\n",
        "      d = Document(\n",
        "          url=search_result[\"url\"],\n",
        "          title=search_result[\"title\"],\n",
        "          content=search_result[\"text\"],\n",
        "          pub_date=search_result[\"pub_date\"],\n",
        "      )\n",
        "      r.append((q, d))\n",
        "  return r\n",
        "\n",
        "\n",
        "samples = take_samples(exploded_df, 10)\n",
        "print(samples)"
      ],
      "metadata": {
        "colab": {
          "base_uri": "https://localhost:8080/"
        },
        "id": "YHObgRZJUlNr",
        "outputId": "4651dbd0-a1e2-4ce5-c769-bf83538c5e67"
      },
      "execution_count": null,
      "outputs": [
        {
          "output_type": "stream",
          "name": "stdout",
          "text": [
            "[Row(query='tell me everything about the LIFT ROI product. ', user_metadata='{\"time_zone\":\"Europe/Copenhagen\",\"user_locale\":\"en-GB\",\"user_country\":\"DK\",\"user_region\":\"Central Jutland\",\"user_region_code\":\"82\",\"cf_connecting_ip\":\"83.95.119.23\",\"ip_city\":\"Risskov\",\"latitude\":null,\"longitude\":null,\"locationAccuracy\":null,\"is_precise_location\":false,\"plan_type\":\"plus\"}', create_time='2024-12-08T17:46:09.769Z', search_result='{\"url\":\"https://www.kantar.com/campaigns/lift-roi\",\"title\":\"LIFT ROI - Kantar\",\"text\":\"In this article, How LIFT ROI works for Auto, you will learn how Kantar helps the automotive industry thrive and recover from the aftermath of supply chain issues, more people replacing air travel with cars, oil price daily/weekly fluctuation, etc. Auto manufacturers need granular insights on a daily rather than a yearly basis to compete in the rapidly changing, by the minute market.\\\\nLIFT ROI LIFT ROI Maximise your marketing effectiveness with AI-powered market mix modelling Book a demo Holistic market mix modelling that gives you the full picture Our unique, AI-powered econometrics approach takes into account all factors influencing your business and your brand. With this insight, we help you understand how your campaigns performed in a holistic way, from media investment, to creative quality. LIFT ROI automatically sources data from inside and outside of your business, giving you the power to analyse your campaigns more thoroughly than ever before, whilst saving you time. Influences such as brand strength, competitor activities, distribution, interest rates, inflation, Covid-19 trends or even the weather, can now be built into your reporting. With this wealth of data in one place, you have the ability to assess the effectiveness of your campaigns, and with the power of AI, you can now predict future campaign performance too. The future of marketing mix modelling (MMM) is here. Higher optimisation potential due to hyper-granular output Always accurate It measures and optmises for direct and indirect impact It measures the power of creative Intuitive interfact with modelling powered by AI We demystify marketing measurement Get answers to questions such as... - How should I measure marketing effectiveness? - How does my marketing contribute to sales growth? - How are my channels and touchpoints driving sales? - What should the balance between my short- and long-term marketing investment be? - How should I optimise my marketing budget to reach our business target? - What should my media split look like to increase my marketing budget\\'s effectiveness? Book a demo Access deeper insights than ever before LIFT ROI enables marketing optimisation at the most granular level In a highly complex media landscape, the ability to measure and optimise at the most granular level provides marketers with the precision they need to drive marketing effectiveness. Our holistic MMM approach reliably and transparently links your marketing spend with sales KPIs at the most granular level – down to the individual publisher. Modelling runs on daily (or weekly) business data, seizing the impact of market activities on sales at the highest granularity level. Models can be updated on a frequent basis, enabling you to analyse and optimise your marketing budget to drive marketing profitability and brand growth. A user-friendly, insight rich dashboard Analyse, evaluate and optimise your marketing activities in near real-time with the intuitive, end-to-end analytics dashboard in LIFT ROI. Access historical media impact data Monitor and manage ongoing campaigns and base sales against your company’s KPIs with a unified marketing investment and ROI overview. Gather strategic business insights Get a holistic overview of all business drivers, including all internal and external factors impacting your business. Predict and optimise for future scenarios Optimise your marketing investment and predict the impact on sales based on your budgets or business goals. \\\\\"Because of the LIFT ROI model and the optimisations we\\'re running, we have been able to optimise our future media mix to improve our return on investment to incremental revenue by at least 20%. <PRIVATE_PERSON>, CMO, My Muscle Chef \\\\\"The LIFT ROI predictions helped us achieve 96.97% accuracy in sales prediction based on the recommended media mix. The predictions turned out to be quite rigorous and correct time after time.\\\\\" <PRIVATE_PERSON>, Marketing Strategy and Effectiveness, Telenor \\\\\"LIFT ROI has improved our marketing team\\'s effectiveness by providing comprehensive insights beyond media implementation. These insights help us optimise our media spend, non-media mix, and budget toward brand building, resulting in better overall performance. With LIFT ROI, we can focus on long-term brand building and planning. <PRIVATE_PERSON>, Marketing Performance and Planning Manager, TSB Bank Using Kantar’s holistic marketing effectiveness approach, integrating creative into MMMs; KFC’s campaign delivered 1.5x sales uplift and 1.4x increased ROI. The balanced mix of brand building and performance marketing is a key advantage for a global auto company which uses MMM models to predict car sales in the month ahead, based on always-on data ingestion that suits their market and their category. Case study Optimizing Brand-Building on Meta Why do the world’s top brands perform well through good times and bad? Why do their consumers show them brand love, but more importantly, buy their products even without prompting? As a marketer, how do I use my advertising spend to achieve the same result for my brand? In this case study, we’ll look at why brand equity matters and which media channels drive it most efficiently. This paper dives deep on Meta, which our research shows is a highly efficient brand-building platform. We\\'ll share tips on how marketers advertising with Meta technologies can optimize their brand-building investment for long-term brand growth. Download the case study A proven track record of success 20% increase in ROI due to optimised media mix 17% sales increase in just 6 months 42% increase in profit 9.2% reduction in annual churn across entire product portfolio Discover Kantar\\'s AI-powered market mix modelling tool which brings together data from sources inside and outside of your business, including Kantar’s world-class brand equity data, to give you near real-time access to media and marketing performance insights that enable you to make quick campaigns optimisations and accurately predict future scenarios.\",\"snippet_parts\":[\"In this article, How LIFT ROI works for Auto, you will learn how Kantar helps the automotive industry thrive and recover from the aftermath of supply chain issues, more people replacing air travel with cars, oil price daily/weekly fluctuation, etc. Auto manufacturers need granular insights on a daily rather than a yearly basis to compete in the rapidly changing, by the minute market.\\\\nLIFT ROI LIFT ROI Maximise your marketing effectiveness with AI-powered market mix modelling Book a demo Holistic market mix modelling that gives you the full picture Our unique, AI-powered econometrics approach takes into account all factors influencing your business and your brand. With this insight, we help you understand how your campaigns performed in a holistic way, from media investment, to creative quality. LIFT ROI automatically sources data from inside and outside of your business, giving you the power to analyse your campaigns more thoroughly than ever before, whilst saving you time. Influences such as brand strength, competitor activities, distribution, interest rates, inflation, Covid-19 trends or even the weather, can now be built into your reporting. With this wealth of data in one place, you have the ability to assess the effectiveness of your campaigns, and with the power of AI, you can now predict future campaign performance too. The future of marketing mix modelling (MMM) is here. Higher optimisation potential due to hyper-granular output Always accurate It measures and optmises for direct and indirect impact It measures the power of creative Intuitive interfact with modelling powered by AI We demystify marketing measurement Get answers to questions such as... - How should I measure marketing effectiveness? - How does my marketing contribute to sales growth? - How are my channels and touchpoints driving sales? - What should the balance between my short- and long-term marketing investment be? - How should I optimise my marketing budget to reach our business target? - What should my media split look like to increase my marketing budget\\'s effectiveness? Book a demo Access deeper insights than ever before LIFT ROI enables marketing optimisation at the most granular level In a highly complex media landscape, the ability to measure and optimise at the most granular level provides marketers with the precision they need to drive marketing effectiveness. Our holistic MMM approach reliably and transparently links your marketing spend with sales KPIs at the most granular level – down to the individual publisher. Modelling runs on daily (or weekly) business data, seizing the impact of market activities on sales at the highest granularity level. Models can be updated on a frequent basis, enabling you to analyse and optimise your marketing budget to drive marketing profitability and brand growth. A user-friendly, insight rich dashboard Analyse, evaluate and optimise your marketing activities in near real-time with the intuitive, end-to-end analytics dashboard in LIFT ROI. Access historical media impact data Monitor and manage ongoing campaigns and base sales against your company’s KPIs with a unified marketing investment and ROI overview. Gather strategic business insights Get a holistic overview of all business drivers, including all internal and external factors impacting your business. Predict and optimise for future scenarios Optimise your marketing investment and predict the impact on sales based on your budgets or business goals. \\\\\"Because of the LIFT ROI model and the optimisations we\\'re running, we have been able to optimise our future media mix to improve our return on investment to incremental revenue by at least 20%. <PRIVATE_PERSON>, CMO, My Muscle Chef \\\\\"The LIFT ROI predictions helped us achieve 96.97% accuracy in sales prediction based on the recommended media mix. The predictions turned out to be quite rigorous and correct time after time.\\\\\" <PRIVATE_PERSON>, Marketing Strategy and Effectiveness, Telenor \\\\\"LIFT ROI has improved our marketing team\\'s effectiveness by providing comprehensive insights beyond media implementation. These insights help us optimise our media spend, non-media mix, and budget toward brand building, resulting in better overall performance. With LIFT ROI, we can focus on long-term brand building and planning. <PRIVATE_PERSON>, Marketing Performance and Planning Manager, TSB Bank Using Kantar’s holistic marketing effectiveness approach, integrating creative into MMMs; KFC’s campaign delivered 1.5x sales uplift and 1.4x increased ROI. The balanced mix of brand building and performance marketing is a key advantage for a global auto company which uses MMM models to predict car sales in the month ahead, based on always-on data ingestion that suits their market and their category. Case study Optimizing Brand-Building on Meta Why do the world’s top brands perform well through good times and bad? Why do their consumers show them brand love, but more importantly, buy their products even without prompting? As a marketer, how do I use my advertising spend to achieve the same result for my brand? In this case study, we’ll look at why brand equity matters and which media channels drive it most efficiently. This paper dives deep on Meta, which our research shows is a highly efficient brand-building platform. We\\'ll share tips on how marketers advertising with Meta technologies can optimize their brand-building investment for long-term brand growth. Download the case study A proven track record of success 20% increase in ROI due to optimised media mix 17% sales increase in just 6 months 42% increase in profit 9.2% reduction in annual churn across entire product portfolio Discover Kantar\\'s AI-powered market mix modelling tool which brings together data from sources inside and outside of your business, including Kantar’s world-class brand equity data, to give you near real-time access to media and marketing performance insights that enable you to make quick campaigns optimisations and accurately predict future scenarios.\"],\"snippet_scores\":[7.0],\"snippet_rendered\":[true],\"position\":0,\"pub_date\":null,\"score\":null,\"result_source\":\"bing\",\"result_type\":\"webPages\",\"is_cited\":true,\"is_rendered\":true,\"fetch_query\":\"Kantar LIFT ROI product\"}'), Row(query='tell me everything about the LIFT ROI product. ', user_metadata='{\"time_zone\":\"Europe/Copenhagen\",\"user_locale\":\"en-GB\",\"user_country\":\"DK\",\"user_region\":\"Central Jutland\",\"user_region_code\":\"82\",\"cf_connecting_ip\":\"83.95.119.23\",\"ip_city\":\"Risskov\",\"latitude\":null,\"longitude\":null,\"locationAccuracy\":null,\"is_precise_location\":false,\"plan_type\":\"plus\"}', create_time='2024-12-08T17:46:09.769Z', search_result='{\"url\":\"https://www.kantar.com/uki/Campaigns/LIFT-ROI\",\"title\":\"LIFT ROI - Kantar\",\"text\":\"With our innovative AI-powered LIFT ROI econometrics approach, we help you understand how your campaigns performed in a holistic way, from media investment, to creative quality. In addition to that, we also help you understand the impact of brand strength, competitor activities, internal factors such as distribution, and macro factors such as interest rates, inflation, or Covid-19 trends.\\\\nLIFT ROI LIFT ROI Maximise your marketing effectiveness with AI-powered marketing mix modelling Find out more Book a demo How it works Holistic market mix modelling (MMM) that takes into account all influencing factors With our innovative AI-powered LIFT ROI econometrics approach, we help you understand how your campaigns performed in a holistic way, from media investment, to creative quality. In addition to that, we also help you understand the impact of brand strength, competitor activities, internal factors such as distribution, and macro factors such as interest rates, inflation, or Covid-19 trends. We have the ability to source data automatically from business data repositories through APIs, saving valuable time. By having the ability to update the model at a frequent basis, it allows you to analyse and optimise your marketing budget to drive marketing profitability and brand growth. Book a demo Higher optimisation potential due to hyper-granular output Always accurate It measures and optmises for direct and indirect impact It measures the power of creative Intuitive interfact with modelling powered by AI We demystify marketing measurement Get answers to questions such as... - How should I measure marketing effectiveness? - How does my marketing contribute to sales growth? - How are my channels and touchpoints driving sales? - What should the balance between my short- and long-term marketing investment be? - How should I optimise my marketing budget to reach our business target? - What should my media split look like to increase my marketing budget\\'s effectiveness? Book a demo Marketing optimisation at the most granular level In a highly complex media landscape, the ability to measure and optimise at the most granular level provides marketers with the precision they need to drive marketing effectiveness. Our holistic MMM approach reliably and transparently links your marketing spend with sales KPIs at the most granular level – down to the individual publisher. Modelling runs on daily (or weekly) business data, seizing the impact of market activities on sales at the highest granularity level. A user-friendly & insight rich dashboard Thanks to our user-friendly end-to-end marketing analytics tool, you can analyse, evaluate and optimise your marketing activities in near real-time. Historical media insights Unified marketing investment and ROI overview. Monitor and manage on-going campaigns and base sales against your company’s KPIs. Strategic business insights Holistic overview of all business drivers, including all internal and external effects impacting your business. Optimisations & scenario planning Optimise marketing investment and predict impact on sales based on given budgets or business goals. A proven track record of success 20% increase in ROI due to optimised media mix 17% sales increase in just 6 months 42% increase in profit 9.2% reduction in annual churn across entire product portfolio \\\\\"Because of the LIFT ROI model and the optimisations we\\'re running, we have been able to optimise our future media mix to improve our return on investment to incremental revenue by at least 20%. <PRIVATE_PERSON>, CMO, My Muscle Chef \\\\\"The LIFT ROI predictions helped us achieve 96.97% accuracy in sales prediction based on the recommended media mix. The predictions turned out to be quite rigorous and correct time after time.\\\\\" <PRIVATE_PERSON>, Marketing Strategy and Effectiveness, Telenor \\\\\"LIFT ROI has improved our marketing team\\'s effectiveness by providing comprehensive insights beyond media implementation. These insights help us optimise our media spend, non-media mix, and budget toward brand building, resulting in better overall performance. With LIFT ROI, we can focus on long-term brand building and planning. <PRIVATE_PERSON>, Marketing Performance and Planning Manager, TSB Bank Inspiration To watch Marketing Effectiveness in Action Webinar 1 hour Watch on-demand WATCH Cracking the Marketing Effectiveness Code Webinar 1 hour Watch on-demand WATCH To read Econometrics and the C-Suite Report How econometrics can help make marketing more accountable, more effective, and more profitable. Download How UMMO works for auto Article A breakthrough in predictive sales and marketing optimisation. Read Seeing the forest through the trees Article How holistic measurement creates a clear path through the marketing maze. Read Trusted by clients globally Get in touch Book a demo of LIFT ROI to discover its full capability. <PRIVATE_PERSON> Discover Kantar\\'s AI-powered market mix modelling tool which brings together data from sources inside and outside of your business, including Kantar’s world-class brand equity data, to give you near real-time access to media and marketing performance insights that enable you to make quick campaigns optimisations and accurately predict future scenarios.\",\"snippet_parts\":[\"With our innovative AI-powered LIFT ROI econometrics approach, we help you understand how your campaigns performed in a holistic way, from media investment, to creative quality. In addition to that, we also help you understand the impact of brand strength, competitor activities, internal factors such as distribution, and macro factors such as interest rates, inflation, or Covid-19 trends.\\\\nLIFT ROI LIFT ROI Maximise your marketing effectiveness with AI-powered marketing mix modelling Find out more Book a demo How it works Holistic market mix modelling (MMM) that takes into account all influencing factors With our innovative AI-powered LIFT ROI econometrics approach, we help you understand how your campaigns performed in a holistic way, from media investment, to creative quality. In addition to that, we also help you understand the impact of brand strength, competitor activities, internal factors such as distribution, and macro factors such as interest rates, inflation, or Covid-19 trends. We have the ability to source data automatically from business data repositories through APIs, saving valuable time. By having the ability to update the model at a frequent basis, it allows you to analyse and optimise your marketing budget to drive marketing profitability and brand growth. Book a demo Higher optimisation potential due to hyper-granular output Always accurate It measures and optmises for direct and indirect impact It measures the power of creative Intuitive interfact with modelling powered by AI We demystify marketing measurement Get answers to questions such as... - How should I measure marketing effectiveness? - How does my marketing contribute to sales growth? - How are my channels and touchpoints driving sales? - What should the balance between my short- and long-term marketing investment be? - How should I optimise my marketing budget to reach our business target? - What should my media split look like to increase my marketing budget\\'s effectiveness? Book a demo Marketing optimisation at the most granular level In a highly complex media landscape, the ability to measure and optimise at the most granular level provides marketers with the precision they need to drive marketing effectiveness. Our holistic MMM approach reliably and transparently links your marketing spend with sales KPIs at the most granular level – down to the individual publisher. Modelling runs on daily (or weekly) business data, seizing the impact of market activities on sales at the highest granularity level. A user-friendly & insight rich dashboard Thanks to our user-friendly end-to-end marketing analytics tool, you can analyse, evaluate and optimise your marketing activities in near real-time. Historical media insights Unified marketing investment and ROI overview. Monitor and manage on-going campaigns and base sales against your company’s KPIs. Strategic business insights Holistic overview of all business drivers, including all internal and external effects impacting your business. Optimisations & scenario planning Optimise marketing investment and predict impact on sales based on given budgets or business goals. A proven track record of success 20% increase in ROI due to optimised media mix 17% sales increase in just 6 months 42% increase in profit 9.2% reduction in annual churn across entire product portfolio \\\\\"Because of the LIFT ROI model and the optimisations we\\'re running, we have been able to optimise our future media mix to improve our return on investment to incremental revenue by at least 20%. <PRIVATE_PERSON>, CMO, My Muscle Chef \\\\\"The LIFT ROI predictions helped us achieve 96.97% accuracy in sales prediction based on the recommended media mix. The predictions turned out to be quite rigorous and correct time after time.\\\\\" <PRIVATE_PERSON>, Marketing Strategy and Effectiveness, Telenor \\\\\"LIFT ROI has improved our marketing team\\'s effectiveness by providing comprehensive insights beyond media implementation. These insights help us optimise our media spend, non-media mix, and budget toward brand building, resulting in better overall performance. With LIFT ROI, we can focus on long-term brand building and planning. <PRIVATE_PERSON>, Marketing Performance and Planning Manager, TSB Bank Inspiration To watch Marketing Effectiveness in Action Webinar 1 hour Watch on-demand WATCH Cracking the Marketing Effectiveness Code Webinar 1 hour Watch on-demand WATCH To read Econometrics and the C-Suite Report How econometrics can help make marketing more accountable, more effective, and more profitable. Download How UMMO works for auto Article A breakthrough in predictive sales and marketing optimisation. Read Seeing the forest through the trees Article How holistic measurement creates a clear path through the marketing maze. Read Trusted by clients globally Get in touch Book a demo of LIFT ROI to discover its full capability. <PRIVATE_PERSON> Discover Kantar\\'s AI-powered market mix modelling tool which brings together data from sources inside and outside of your business, including Kantar’s world-class brand equity data, to give you near real-time access to media and marketing performance insights that enable you to make quick campaigns optimisations and accurately predict future scenarios.\"],\"snippet_scores\":[6.815384615384616],\"snippet_rendered\":[true],\"position\":1,\"pub_date\":null,\"score\":null,\"result_source\":\"bing\",\"result_type\":\"webPages\",\"is_cited\":false,\"is_rendered\":true,\"fetch_query\":\"Kantar LIFT ROI product\"}'), Row(query='tell me everything about the LIFT ROI product. ', user_metadata='{\"time_zone\":\"Europe/Copenhagen\",\"user_locale\":\"en-GB\",\"user_country\":\"DK\",\"user_region\":\"Central Jutland\",\"user_region_code\":\"82\",\"cf_connecting_ip\":\"83.95.119.23\",\"ip_city\":\"Risskov\",\"latitude\":null,\"longitude\":null,\"locationAccuracy\":null,\"is_precise_location\":false,\"plan_type\":\"plus\"}', create_time='2024-12-08T17:46:09.769Z', search_result='{\"url\":\"https://www.kantar.com/Inspiration/Analytics/How-LIFT-ROI-works-for-Auto\",\"title\":\"How LIFT ROI works for Auto - kantar.com\",\"text\":\"In this article, How LIFT ROI works for Auto, you will learn how Kantar helps the automotive industry thrive and recover from the aftermath of supply chain issues, more people replacing air travel with cars, oil price daily/weekly fluctuation, etc. Auto manufacturers need granular insights on a daily rather than a yearly basis to compete in the rapidly changing, by the minute market.\\\\nHow LIFT ROI works for Auto Get more Inspiration How LIFT ROI works for Auto In this article, How LIFT ROI works for Auto, you will learn how Kantar helps the automotive industry thrive and recover from the aftermath of supply chain issues, more people replacing air travel with cars, oil price daily/weekly fluctuation, etc. Auto manufacturers need granular insights on a daily rather than a yearly basis to compete in the rapidly changing, by the minute market. 26 September 2024 <PRIVATE_PERSON> CEO,Kantar Denmark\\u200b Analytics Unified Marketing Measurement and Optimisation, LIFT ROI may sound like the latest electric vehicle to drive around the block, but it’s actually a significant new development in analytics that can help auto manufacturers predict and improve how media and marketing spend will impact sales. The automotive sector has been – and is – going through an unprecedented period of change and challenge: the pandemic which on one hand, limited commuting but on the other hand, replaced air travel with family trips to personal vehicles, severe supply chain shortages, the push to more sustainable cars, oil prices, and looming recession. Dramatic structural dynamics like this demand a new approach to analytics that answer the age-old marketing question: “what works?”, but now needed more agile, granular manner to help marketers respond quickly to consumer mindset and behaviour shifts. Why is LIFT ROI\\xa0a powerful fuel for the auto industry? LIFT ROI\\xa0provides unified media and marketing optimisation, and it harnesses the innovations of AI and machine learning – along with all your media and marketing data, in a new revolution that goes way beyond traditional media mix modelling. The benefit is the ability to identify placement-level insights on what is working to enable continuous optimisation decisions on your marketing tactics. I know you’re thinking we have been down this road before: pricey hierarchical data models that are updated once a year and grow stale before you can actually use them. Kantar’s Unified Marketing Measurement and Optimisation\\xa0capability, offers significant advantages. Auto manufacturers need insights on a daily rather than yearly basis to compete in this changing-by-the-minute market. Here’s why you need to pay attention to LIFT ROI: With privacy dictates and Walled Gardens, MTA is just not working! GDPR and CCPA, the European and Californian privacy laws, forever changed the data we have access to, moving away from user-level cookie-based approaches. MTA is built on having access to an endless amount of user-level data. Google, Amazon, and Facebook are the biggest holders of data globally and they are just not sharing. They have presented ideas for so-called “clean rooms” where data is stripped of personally identifiable information and shared in some sort of hermetically sealed environment. While there is skepticism about the practically and reality of this approach, there is acknowledgement that at least 30% of an advertiser’s data is just not available anymore. That brings up the question of how can we build models that still provides granularity of measurement to feed tactical optimisation, like MTA models did? Perhaps, go a step further and tackle some of the disadvantages of MTA in not accounting for offline media or marketing influences. Bayesian is the way to go! You have likely heard the term “Bayesian probability” and have not given it much thought. Now, with AI-based models this approach, which assigns probabilities to marketing mix levers, will give you more reliable and complex insights. Yes, Bayesian was a theory developed in 1896, but Kantar’s marketing attribution model applies it to your data. It integrates domain knowledge – the beliefs that you already have about how your marketing works and new information to form a more accurate attribution and prediction of business outcomes. This contrasts with old models which focused purely on a stated hierarchy of events: if population A was exposed to Y at X time period, Z will happen. That just isn’t useful given the extraordinary dynamics and complexity of macroeconomics and human behaviour. Hierarchical models, are still used with LIFT ROI\\xa0to determine which parameters, such as specific marketing and media channel investments cause a “trickle-down” effect to other touchpoints and how they might be interdependent. With LIFT ROI\\xa0we combine both approaches and do it with great granularity based on insertion level data, i.e., the data we gather from a specific media placement with any given media publisher. We also have developed synergy models that allow us to extract insights about what indirectly drives customer behaviour and conversion from one touchpoint to another. Additionally, we tease out the effects of uncontrollable factors such as the pandemic’s corollary effects on inventory levels, and how that impacts marketing effects. Modelling needs to incorporate Automotive marketing’s complex layers to address the long shopper journey. Given the long purchase cycle, a critical challenge for automotive brands is to ensure that marketing addresses consumers long before they enter the shopping cycle to make sure that they are intrigued and knowledgeable enough about the brand to put it into the consideration set. This means there is considerable focus on demand creation and a key question is how to allocate budget to brand building initiatives versus demand capture initiatives, and to specific touchpoints and experiences within those two buckets. Kantar’s modelling framework behind LIFT ROI\\xa0is designed to provide answers here. Even when it comes to measuring demand capture levers. Here’s what we did with a major automotive manufacturer. A global automotive manufacturer wanted to understand their marketing effectiveness over time in a specific market and be able to predict the total number of cars sold. They needed to better forecast production needs, look at how their media spend was performing and understand how they could better optimise marketing spending. They had traditionally found it difficult to link marketing activities to the number of sold cars. They had a marketing measurement model through their media agency, but it wasn’t precise enough and was a so-called “black box” analytics mystery. The data pipeline wasn’t fast enough, and the data needed more cleaning before it was usable. Campaign performance was measured on website traffic rather than actual sales. What We Accomplished Using Hamilton AI, which learns from each model update, the manufacturer was able to refit marketing on an ongoing basis. They were able to see what was happening last year, why it was happening and predict what will happen in the future- Kantar: • Established the link between marketing activities and the number of sold cars. • Defined the variables that affected sales and determined to what extent. • Increased business transparency, implementing better insights into dynamics at work • Offered a better sense of the validity of forecasts and established more security in the models succeeding. • Made it easier to test hypotheses • Presented the client with a dynamic platform that is easy to use and can be used to quickly survey media efficiency and predict how new marketing campaigns will fare. • Increased the granularity of the output, making it possible to look at several different variables. The assessment included non-media variables and external factors such as holidays, Covid-19, macroeconomics and competitor incentives. • Developed an understanding of the synergy effects of various marketing and media, creating a hierarchy. The client now understands which variables affect each other and to what extent. • Measured media performance by each auto model. • Meshed the various national branding and regional tactical media campaigns to understand the halo effects of the brand campaign on the actual number of cars sold in each region. Takeaways Kantar understands how challenging but also fundamental advanced analytics and optimisation can be. With the expertise of Kantar we help marketers globally get to the level of granularity they need in real time in an ever-changing media and economic landscape. Fast. Accurate. Science based. LIFT ROI\\xa0is a tool that will revolutionise your marketing. In this article, How LIFT ROI works for Auto, you will learn how Kantar helps the automotive industry thrive and recover from the aftermath of supply chain issues, more people replacing air travel with cars, oil price daily/weekly fluctuation, etc. Auto manufacturers need granular insights on a daily rather than a yearly basis to compete in the rapidly changing, by the minute market.\",\"snippet_parts\":[\"In this article, How LIFT ROI works for Auto, you will learn how Kantar helps the automotive industry thrive and recover from the aftermath of supply chain issues, more people replacing air travel with cars, oil price daily/weekly fluctuation, etc. Auto manufacturers need granular insights on a daily rather than a yearly basis to compete in the rapidly changing, by the minute market.\\\\nHow LIFT ROI works for Auto Get more Inspiration How LIFT ROI works for Auto In this article, How LIFT ROI works for Auto, you will learn how Kantar helps the automotive industry thrive and recover from the aftermath of supply chain issues, more people replacing air travel with cars, oil price daily/weekly fluctuation, etc. Auto manufacturers need granular insights on a daily rather than a yearly basis to compete in the rapidly changing, by the minute market. 26 September 2024 <PRIVATE_PERSON> CEO,Kantar Denmark\\u200b Analytics Unified Marketing Measurement and Optimisation, LIFT ROI may sound like the latest electric vehicle to drive around the block, but it’s actually a significant new development in analytics that can help auto manufacturers predict and improve how media and marketing spend will impact sales. The automotive sector has been – and is – going through an unprecedented period of change and challenge: the pandemic which on one hand, limited commuting but on the other hand, replaced air travel with family trips to personal vehicles, severe supply chain shortages, the push to more sustainable cars, oil prices, and looming recession. Dramatic structural dynamics like this demand a new approach to analytics that answer the age-old marketing question: “what works?”, but now needed more agile, granular manner to help marketers respond quickly to consumer mindset and behaviour shifts. Why is LIFT ROI\\xa0a powerful fuel for the auto industry? LIFT ROI\\xa0provides unified media and marketing optimisation, and it harnesses the innovations of AI and machine learning – along with all your media and marketing data, in a new revolution that goes way beyond traditional media mix modelling. The benefit is the ability to identify placement-level insights on what is working to enable continuous optimisation decisions on your marketing tactics. I know you’re thinking we have been down this road before: pricey hierarchical data models that are updated once a year and grow stale before you can actually use them. Kantar’s Unified Marketing Measurement and Optimisation\\xa0capability, offers significant advantages. Auto manufacturers need insights on a daily rather than yearly basis to compete in this changing-by-the-minute market. Here’s why you need to pay attention to LIFT ROI: With privacy dictates and Walled Gardens, MTA is just not working! GDPR and CCPA, the European and Californian privacy laws, forever changed the data we have access to, moving away from user-level cookie-based approaches. MTA is built on having access to an endless amount of user-level data. Google, Amazon, and Facebook are the biggest holders of data globally and they are just not sharing. They have presented ideas for so-called “clean rooms” where data is stripped of personally identifiable information and shared in some sort of hermetically sealed environment. While there is skepticism about the practically and reality of this approach, there is acknowledgement that at least 30% of an advertiser’s data is just not available anymore. That brings up the question of how can we build models that still provides granularity of measurement to feed tactical optimisation, like MTA models did? Perhaps, go a step further and tackle some of the disadvantages of MTA in not accounting for offline media or marketing influences. Bayesian is the way to go! You have likely heard the term “Bayesian probability” and have not given it much thought. Now, with AI-based models this approach, which assigns probabilities to marketing mix levers, will give you more reliable and complex insights. Yes, Bayesian was a theory developed in 1896, but Kantar’s marketing attribution model applies it to your data. It integrates domain knowledge – the beliefs that you already have about how your marketing works and new information to form a more accurate attribution and prediction of business outcomes. This contrasts with old models which focused purely on a stated hierarchy of events: if population A was exposed to Y at X time period, Z will happen. That just isn’t useful given the extraordinary dynamics and complexity of macroeconomics and human behaviour. Hierarchical models, are still used with LIFT ROI\\xa0to determine which parameters, such as specific marketing and media channel investments cause a “trickle-down” effect to other touchpoints and how they might be interdependent. With LIFT ROI\\xa0we combine both approaches and do it with great granularity based on insertion level data, i.e., the data we gather from a specific media placement with any given media publisher. We also have developed synergy models that allow us to extract insights about what indirectly drives customer behaviour and conversion from one touchpoint to another. Additionally, we tease out the effects of uncontrollable factors such as the pandemic’s corollary effects on inventory levels, and how that impacts marketing effects. Modelling needs to incorporate Automotive marketing’s complex layers to address the long shopper journey. Given the long purchase cycle, a critical challenge for automotive brands is to ensure that marketing addresses consumers long before they enter the shopping cycle to make sure that they are intrigued and knowledgeable enough about the brand to put it into the consideration set. This means there is considerable focus on demand creation and a key question is how to allocate budget to brand building initiatives versus demand capture initiatives, and to specific touchpoints and experiences within those two buckets. Kantar’s modelling framework behind LIFT ROI\\xa0is designed to provide answers here. Even when it comes to measuring demand capture levers. Here’s what we did with a major automotive manufacturer. A global automotive manufacturer wanted to understand their marketing effectiveness over time in a specific market and be able to predict the total number of cars sold. They needed to better forecast production needs, look at how their media spend was performing and understand how they could better optimise marketing spending. They had traditionally found it difficult to link marketing activities to the number of sold cars. They had a marketing measurement model through their media agency, but it wasn’t precise enough and was a so-called “black box” analytics mystery. The data pipeline wasn’t fast enough, and the data needed more cleaning before it was usable. Campaign performance was measured on website traffic rather than actual sales. What We Accomplished Using Hamilton AI, which learns from each model update, the manufacturer was able to refit marketing on an ongoing basis. They were able to see what was happening last year, why it was happening and predict what will happen in the future- Kantar: • Established the link between marketing activities and the number of sold cars. • Defined the variables that affected sales and determined to what extent. • Increased business transparency, implementing better insights into dynamics at work • Offered a better sense of the validity of forecasts and established more security in the models succeeding. • Made it easier to test hypotheses • Presented the client with a dynamic platform that is easy to use and can be used to quickly survey media efficiency and predict how new marketing campaigns will fare. • Increased the granularity of the output, making it possible to look at several different variables. The assessment included non-media variables and external factors such as holidays, Covid-19, macroeconomics and competitor incentives. • Developed an understanding of the synergy effects of various marketing and media, creating a hierarchy. The client now understands which variables affect each other and to what extent. • Measured media performance by each auto model. • Meshed the various national branding and regional tactical media campaigns to understand the halo effects of the brand campaign on the actual number of cars sold in each region. Takeaways Kantar understands how challenging but also fundamental advanced analytics and optimisation can be. With the expertise of Kantar we help marketers globally get to the level of granularity they need in real time in an ever-changing media and economic landscape. Fast. Accurate. Science based. LIFT ROI\\xa0is a tool that will revolutionise your marketing. In this article, How LIFT ROI works for Auto, you will learn how Kantar helps the automotive industry thrive and recover from the aftermath of supply chain issues, more people replacing air travel with cars, oil price daily/weekly fluctuation, etc. Auto manufacturers need granular insights on a daily rather than a yearly basis to compete in the rapidly changing, by the minute market.\"],\"snippet_scores\":[6.6571428571428575],\"snippet_rendered\":[true],\"position\":2,\"pub_date\":\"2024-09-26T00:00:00.0000000\",\"score\":null,\"result_source\":\"bing\",\"result_type\":\"webPages\",\"is_cited\":false,\"is_rendered\":true,\"fetch_query\":\"Kantar LIFT ROI product\"}'), Row(query='tell me everything about the LIFT ROI product. ', user_metadata='{\"time_zone\":\"Europe/Copenhagen\",\"user_locale\":\"en-GB\",\"user_country\":\"DK\",\"user_region\":\"Central Jutland\",\"user_region_code\":\"82\",\"cf_connecting_ip\":\"83.95.119.23\",\"ip_city\":\"Risskov\",\"latitude\":null,\"longitude\":null,\"locationAccuracy\":null,\"is_precise_location\":false,\"plan_type\":\"plus\"}', create_time='2024-12-08T17:46:09.769Z', search_result='{\"url\":\"https://liftroi.kantar.com/\",\"title\":\"LIFT ROI\",\"text\":\"You need to enable JavaScript to run this app. LIFT ROI. You need to enable JavaScript to run this app.\",\"snippet_parts\":[\"You need to enable JavaScript to run this app. LIFT ROI. You need to enable JavaScript to run this app.\"],\"snippet_scores\":[6.52],\"snippet_rendered\":[true],\"position\":3,\"pub_date\":null,\"score\":null,\"result_source\":\"bing\",\"result_type\":\"webPages\",\"is_cited\":false,\"is_rendered\":true,\"fetch_query\":\"Kantar LIFT ROI product\"}'), Row(query='tell me everything about the LIFT ROI product. ', user_metadata='{\"time_zone\":\"Europe/Copenhagen\",\"user_locale\":\"en-GB\",\"user_country\":\"DK\",\"user_region\":\"Central Jutland\",\"user_region_code\":\"82\",\"cf_connecting_ip\":\"83.95.119.23\",\"ip_city\":\"Risskov\",\"latitude\":null,\"longitude\":null,\"locationAccuracy\":null,\"is_precise_location\":false,\"plan_type\":\"plus\"}', create_time='2024-12-08T17:46:09.769Z', search_result='{\"url\":\"https://kantaraustralia.com/wp-content/uploads/2024/10/LIFT-ROI-One-Pager.pdf\",\"title\":\"LIFT ROI LIFT ROI provides actionable campaign insights to strengthen ...\",\"text\":\"– It can rapidly integrate Kantar’s world-class brand equity data to optimise both short and long-term. – It is delivered through a user-friendly and insightful UI platform Hamilton AI. How LIFT ROI works The modelling runs on daily (or weekly) business data, seizing the impact of market activities on sales at highest granularity level.\",\"snippet_parts\":[],\"snippet_scores\":[],\"snippet_rendered\":[],\"position\":4,\"pub_date\":null,\"score\":null,\"result_source\":\"bing\",\"result_type\":\"webPages\",\"is_cited\":false,\"is_rendered\":false,\"fetch_query\":\"Kantar LIFT ROI product\"}'), Row(query='tell me everything about the LIFT ROI product. ', user_metadata='{\"time_zone\":\"Europe/Copenhagen\",\"user_locale\":\"en-GB\",\"user_country\":\"DK\",\"user_region\":\"Central Jutland\",\"user_region_code\":\"82\",\"cf_connecting_ip\":\"83.95.119.23\",\"ip_city\":\"Risskov\",\"latitude\":null,\"longitude\":null,\"locationAccuracy\":null,\"is_precise_location\":false,\"plan_type\":\"plus\"}', create_time='2024-12-08T17:46:09.769Z', search_result='{\"url\":\"https://www.kantar.com/nl/campaigns/lift-roi-en\",\"title\":\"LIFT ROI - Kantar\",\"text\":\"With Kantar\\'s groundbreaking and validated AI solution LIFT ROI, you evaluate and optimize the effectiveness of brand and performance marketing activities. ... at the publisher, campaign, and product level. In addition to media factors, it provides insight into all other factors that influence sales. Such as brand, PR, competitor activities ...\\\\nLIFT ROI LIFT ROI With Kantar\\'s groundbreaking and validated AI solution LIFT ROI, you evaluate and optimize the effectiveness of brand and performance marketing activities. Request a demo Watch the introduction video (2 min) Why choose LIFT ROI? Up to 40% growth in marketing ROI Sales forecasts with 90% accuracy Future-proof through cookieless modeling Find the perfect balance between brand and performance marketing Insights at the most granular level 10x faster insights through continuous data input Integrates the quality of the creatives Simulate and optimize marketing budget on an intuitive platform Maximize the impact of media and marketing. To navigate successfully as a brand in an increasingly complex media landscape, it\\'s essential to map in detail how various elements contribute to sales. LIFT ROI is a holistic method to evaluate and optimize your marketing effectiveness. It enables fast and substantiated strategic decision-making in the realm of media and marketing. With LIFT ROI: You quantify the contribution of your marketing to your sales; You measure the impact of all internal and external factors on your business performance; You optimize your future campaigns using AI; You simulate scenarios and receive predictions of your business performance. Unified Marketing Measurement and Optimisation (UMMO) with Kantar Watch on Increase the ROI of your marketing efforts by up to 40% LIFT ROI maps the relative contribution of the complete marketing mix, the synergies between channels and their short and long-term impact on sales and brand equity. It encompasses every step to reach your target audience, the role of the brand, and a plethora of external variables. Why is it important to understand how media affects your brand equity? Kantar research indicates that the base sales of brands steadily decline as the allocation of the marketing mix is too heavily focused on performance marketing. Especially in challenging times, such as during a recession, a good balance between brand and performance marketing is essential for sustainable brand growth. LIFT ROI is a holistic state-of-the-art methodology that offers you detailed insights to strategically allocate budgets across various marketing instruments. Optimize your media budget through an intuitive and interactive dashboard LIFT ROI adapts to your business needs and is accessible 24/7 through an intuitive platform. In it, you optimize your media budget almost in real-time thanks to continuous data input. Users can view the data at different levels. For example, at the publisher, campaign, and product level. In addition to media factors, it provides insight into all other factors that influence sales. Such as brand, PR, competitor activities, seasonal effects, distribution, and more. LIFT ROI delivers 360° insights regarding campaign performance. It enables you to easily experiment with scenario tests and different budgetary or sales-focused goals. It\\'s a one-source-of-truth. A hub between your team, internal stakeholders, and marketing and creative agencies. Specifically, LIFT ROI offers you the following insights: Media Insights: Monitoring and management of campaigns. Business Insights: Transparent view of the effects of all internal and external factors on your business performance. Predictions: Simulation of scenarios based on specific budgets or business objectives. Activities: Overview and results of conducted simulations and scenarios. Identify your most successful campaigns and most effective media channels to optimize your media budget Measure the factors with the greatest impact on your organization. Simulate various scenarios, make accurate predictions, and optimize your campaigns. Creative quality as a success factor for your media efforts. An integral part of LIFT ROI is quantifying the impact of creative effectiveness on sales and brand value. Creative quality is often overlooked in marketing effectiveness studies, but along with media investments and media allocation, it is an essential explanatory factor for the ROI of your marketing campaigns. LIFT ROI helps shape and adjust the strategy and execution of future advertisements. Marketing Effectiveness through the wide lens Download the playbook Request your personal demo now With Kantar\\'s groundbreaking and validated AI solution LIFT ROI, you evaluate and optimize the effectiveness of brand and performance marketing activities.\",\"snippet_parts\":[\"With Kantar\\'s groundbreaking and validated AI solution LIFT ROI, you evaluate and optimize the effectiveness of brand and performance marketing activities. ... at the publisher, campaign, and product level. In addition to media factors, it provides insight into all other factors that influence sales. Such as brand, PR, competitor activities ...\\\\nLIFT ROI LIFT ROI With Kantar\\'s groundbreaking and validated AI solution LIFT ROI, you evaluate and optimize the effectiveness of brand and performance marketing activities. Request a demo Watch the introduction video (2 min) Why choose LIFT ROI? Up to 40% growth in marketing ROI Sales forecasts with 90% accuracy Future-proof through cookieless modeling Find the perfect balance between brand and performance marketing Insights at the most granular level 10x faster insights through continuous data input Integrates the quality of the creatives Simulate and optimize marketing budget on an intuitive platform Maximize the impact of media and marketing. To navigate successfully as a brand in an increasingly complex media landscape, it\\'s essential to map in detail how various elements contribute to sales. LIFT ROI is a holistic method to evaluate and optimize your marketing effectiveness. It enables fast and substantiated strategic decision-making in the realm of media and marketing. With LIFT ROI: You quantify the contribution of your marketing to your sales; You measure the impact of all internal and external factors on your business performance; You optimize your future campaigns using AI; You simulate scenarios and receive predictions of your business performance. Unified Marketing Measurement and Optimisation (UMMO) with Kantar Watch on Increase the ROI of your marketing efforts by up to 40% LIFT ROI maps the relative contribution of the complete marketing mix, the synergies between channels and their short and long-term impact on sales and brand equity. It encompasses every step to reach your target audience, the role of the brand, and a plethora of external variables. Why is it important to understand how media affects your brand equity? Kantar research indicates that the base sales of brands steadily decline as the allocation of the marketing mix is too heavily focused on performance marketing. Especially in challenging times, such as during a recession, a good balance between brand and performance marketing is essential for sustainable brand growth. LIFT ROI is a holistic state-of-the-art methodology that offers you detailed insights to strategically allocate budgets across various marketing instruments. Optimize your media budget through an intuitive and interactive dashboard LIFT ROI adapts to your business needs and is accessible 24/7 through an intuitive platform. In it, you optimize your media budget almost in real-time thanks to continuous data input. Users can view the data at different levels. For example, at the publisher, campaign, and product level. In addition to media factors, it provides insight into all other factors that influence sales. Such as brand, PR, competitor activities, seasonal effects, distribution, and more. LIFT ROI delivers 360° insights regarding campaign performance. It enables you to easily experiment with scenario tests and different budgetary or sales-focused goals. It\\'s a one-source-of-truth. A hub between your team, internal stakeholders, and marketing and creative agencies. Specifically, LIFT ROI offers you the following insights: Media Insights: Monitoring and management of campaigns. Business Insights: Transparent view of the effects of all internal and external factors on your business performance. Predictions: Simulation of scenarios based on specific budgets or business objectives. Activities: Overview and results of conducted simulations and scenarios. Identify your most successful campaigns and most effective media channels to optimize your media budget Measure the factors with the greatest impact on your organization. Simulate various scenarios, make accurate predictions, and optimize your campaigns. Creative quality as a success factor for your media efforts. An integral part of LIFT ROI is quantifying the impact of creative effectiveness on sales and brand value. Creative quality is often overlooked in marketing effectiveness studies, but along with media investments and media allocation, it is an essential explanatory factor for the ROI of your marketing campaigns. LIFT ROI helps shape and adjust the strategy and execution of future advertisements. Marketing Effectiveness through the wide lens Download the playbook Request your personal demo now With Kantar\\'s groundbreaking and validated AI solution LIFT ROI, you evaluate and optimize the effectiveness of brand and performance marketing activities.\"],\"snippet_scores\":[6.294117647058824],\"snippet_rendered\":[true],\"position\":5,\"pub_date\":null,\"score\":null,\"result_source\":\"bing\",\"result_type\":\"webPages\",\"is_cited\":true,\"is_rendered\":true,\"fetch_query\":\"Kantar LIFT ROI product\"}'), Row(query='tell me everything about the LIFT ROI product. ', user_metadata='{\"time_zone\":\"Europe/Copenhagen\",\"user_locale\":\"en-GB\",\"user_country\":\"DK\",\"user_region\":\"Central Jutland\",\"user_region_code\":\"82\",\"cf_connecting_ip\":\"83.95.119.23\",\"ip_city\":\"Risskov\",\"latitude\":null,\"longitude\":null,\"locationAccuracy\":null,\"is_precise_location\":false,\"plan_type\":\"plus\"}', create_time='2024-12-08T17:46:09.769Z', search_result='{\"url\":\"https://ummo.kantar.com/\",\"title\":\"Kantar\",\"text\":\"We have rebranded! The UMMO platform has transitioned to LIFT ROI. You will now access it through LIFTROI.Kantar.com. Click here (liftroi.kantar.com) to go directly, or simply wait 10 seconds to be automatically redirected. Please update your bookmarks to reflect this change.\",\"snippet_parts\":[\"We have rebranded! The UMMO platform has transitioned to LIFT ROI. You will now access it through LIFTROI.Kantar.com. Click here (liftroi.kantar.com) to go directly, or simply wait 10 seconds to be automatically redirected. Please update your bookmarks to reflect this change.\"],\"snippet_scores\":[6.2],\"snippet_rendered\":[true],\"position\":6,\"pub_date\":null,\"score\":null,\"result_source\":\"bing\",\"result_type\":\"webPages\",\"is_cited\":false,\"is_rendered\":true,\"fetch_query\":\"Kantar LIFT ROI product\"}'), Row(query='tell me everything about the LIFT ROI product. ', user_metadata='{\"time_zone\":\"Europe/Copenhagen\",\"user_locale\":\"en-GB\",\"user_country\":\"DK\",\"user_region\":\"Central Jutland\",\"user_region_code\":\"82\",\"cf_connecting_ip\":\"83.95.119.23\",\"ip_city\":\"Risskov\",\"latitude\":null,\"longitude\":null,\"locationAccuracy\":null,\"is_precise_location\":false,\"plan_type\":\"plus\"}', create_time='2024-12-08T17:46:09.769Z', search_result='{\"url\":\"https://www.kantar.com/Campaigns/Lift-ROI-redundant\",\"title\":\"LIFT ROI - kantar.com\",\"text\":\"“LIFT ROI Hamilton.AI has improved our marketing team’s effectiveness by providing comprehensive insights beyond media implementation. These insights help us optimise our media spend, non-media mix, and budget toward brand building, resulting in better overall performance. With LIFT ROI we can focus on long-term brand building and planning.”\\\\nLIFT ROI LIFT ROI Having the right tools and understanding of your unified marketing measurement, puts you in control of your marketing budget and allocation. Request a demo Targeting to deliver 30%+ higher Marketing ROI and 10x-20x return on your investments on Unified MMO, while synching with your marketing effectiveness journey and decision needs. 20% increase in ROI due to optimized media mix 17% Sales increase in just 6 months (recent clients have seen this) 42% increase in profit Reduction in annual churn by 9.2% across entire product portfolio Find out more 2023 09 UMMO How to address declining marketing effectiveness complete interview - YouTube 2023 09 UMMO How to address declining marketing effectiveness complete interview If playback doesn\\'t begin shortly, try restarting your device. Videos you watch may be added to the TV\\'s watch history and influence TV recommendations. To avoid this, cancel and sign in to YouTube on your computer. An error occurred while retrieving sharing information. Please try again later. Watch on You can find links to our latest thought-leadership articles below: How UMMO works for Auto In this article, How UMMO works for Auto, you will learn how Kantar helps the automotive industry thrive and recover from the aftermath of supply chain issues, more people replacing air travel with cars, oil price daily/weekly fluctuation, etc. Auto manufacturers need granular insights on a daily rather than a yearly basis to compete in the rapidly changing, by the minute market. Seeing the forest through the trees. Or how holistic measurement creates a clear path through the marketing maze Creation of a truly unified marketing measurement and optimisation framework is now highly achievable through automated data collection and applying AI. Inflation Wreaking Havoc with Your Media Projections? UMMO is The Tool that Helps Marketers Future Proof Spend Where does performance marketing meet brand building? We unravel the criticism of marketing ROI as a key metric and explore how to achieve balance between short and long-term measurement. Cracking the Marketing Effectiveness Code It’s more important than ever to protect marketing spend during this period of economic uncertainty. Why do the world’s top brands perform well through good times and bad? Why do their consumers show them brand love, but more importantly, buy their products even without prompting? As a marketer, how do I use my advertising spend to achieve the same result for my brand? In this case study, we’ll look at why brand equity matters and which media channels drive it most efficiently. This paper dives deep on Meta, which our research shows is a highly efficient brand-building platform. We\\'ll share tips on how marketers advertising with Meta technologies can optimize their brand-building investment for long-term brand growth. 2022 Silver for submission ‘Making Purpose Taste Good’ with Waitrose How AI can help you analyze the past to predict the future Request a demo First Name Last Name Company Email Please enter your business email Function Seniority Industry Country I would like to receive occasional brand, marketing and media insights from Kantar I agree to the Kantar Privacy Policy and Terms * See what our clients have to say about LIFT ROI “Because of the LIFT ROI.AI model and the optimisations we’re running, we have been able to optimise our future media mix to improve our return on investment to incremental revenue by at least 20%.” <PRIVATE_PERSON>, CMO, My Muscle Chef “The LIFT ROI Hamilton.AI predictions helped us achieve 96.97% accuracy in sales prediction based on the recommended media mix. The predictions turned out to be quite rigorous and correct time after time.” <PRIVATE_PERSON>, Marketing Strategy and Effectiveness, Telenor “LIFT ROI Hamilton.AI has improved our marketing team’s effectiveness by providing comprehensive insights beyond media implementation. These insights help us optimise our media spend, non-media mix, and budget toward brand building, resulting in better overall performance. With LIFT ROI we can focus on long-term brand building and planning.” <PRIVATE_PERSON>, Marketing Performance and Planning Manager, TSB Bank Having the right tools and understanding of your unified marketing measurement, puts you in control of your marketing budget and allocation. We deploy a unique econometric modelling approach to understand the relative contribution of all marketing mix elements, and their short and long-term impact on sales and brand equity, to calculate your unified marketing ROI.\",\"snippet_parts\":[\"“LIFT ROI Hamilton.AI has improved our marketing team’s effectiveness by providing comprehensive insights beyond media implementation. These insights help us optimise our media spend, non-media mix, and budget toward brand building, resulting in better overall performance. With LIFT ROI we can focus on long-term brand building and planning.”\\\\nLIFT ROI LIFT ROI Having the right tools and understanding of your unified marketing measurement, puts you in control of your marketing budget and allocation. Request a demo Targeting to deliver 30%+ higher Marketing ROI and 10x-20x return on your investments on Unified MMO, while synching with your marketing effectiveness journey and decision needs. 20% increase in ROI due to optimized media mix 17% Sales increase in just 6 months (recent clients have seen this) 42% increase in profit Reduction in annual churn by 9.2% across entire product portfolio Find out more 2023 09 UMMO How to address declining marketing effectiveness complete interview - YouTube 2023 09 UMMO How to address declining marketing effectiveness complete interview If playback doesn\\'t begin shortly, try restarting your device. Videos you watch may be added to the TV\\'s watch history and influence TV recommendations. To avoid this, cancel and sign in to YouTube on your computer. An error occurred while retrieving sharing information. Please try again later. Watch on You can find links to our latest thought-leadership articles below: How UMMO works for Auto In this article, How UMMO works for Auto, you will learn how Kantar helps the automotive industry thrive and recover from the aftermath of supply chain issues, more people replacing air travel with cars, oil price daily/weekly fluctuation, etc. Auto manufacturers need granular insights on a daily rather than a yearly basis to compete in the rapidly changing, by the minute market. Seeing the forest through the trees. Or how holistic measurement creates a clear path through the marketing maze Creation of a truly unified marketing measurement and optimisation framework is now highly achievable through automated data collection and applying AI. Inflation Wreaking Havoc with Your Media Projections? UMMO is The Tool that Helps Marketers Future Proof Spend Where does performance marketing meet brand building? We unravel the criticism of marketing ROI as a key metric and explore how to achieve balance between short and long-term measurement. Cracking the Marketing Effectiveness Code It’s more important than ever to protect marketing spend during this period of economic uncertainty. Why do the world’s top brands perform well through good times and bad? Why do their consumers show them brand love, but more importantly, buy their products even without prompting? As a marketer, how do I use my advertising spend to achieve the same result for my brand? In this case study, we’ll look at why brand equity matters and which media channels drive it most efficiently. This paper dives deep on Meta, which our research shows is a highly efficient brand-building platform. We\\'ll share tips on how marketers advertising with Meta technologies can optimize their brand-building investment for long-term brand growth. 2022 Silver for submission ‘Making Purpose Taste Good’ with Waitrose How AI can help you analyze the past to predict the future Request a demo First Name Last Name Company Email Please enter your business email Function Seniority Industry Country I would like to receive occasional brand, marketing and media insights from Kantar I agree to the Kantar Privacy Policy and Terms * See what our clients have to say about LIFT ROI “Because of the LIFT ROI.AI model and the optimisations we’re running, we have been able to optimise our future media mix to improve our return on investment to incremental revenue by at least 20%.” <PRIVATE_PERSON>, CMO, My Muscle Chef “The LIFT ROI Hamilton.AI predictions helped us achieve 96.97% accuracy in sales prediction based on the recommended media mix. The predictions turned out to be quite rigorous and correct time after time.” <PRIVATE_PERSON>, Marketing Strategy and Effectiveness, Telenor “LIFT ROI Hamilton.AI has improved our marketing team’s effectiveness by providing comprehensive insights beyond media implementation. These insights help us optimise our media spend, non-media mix, and budget toward brand building, resulting in better overall performance. With LIFT ROI we can focus on long-term brand building and planning.” <PRIVATE_PERSON>, Marketing Performance and Planning Manager, TSB Bank Having the right tools and understanding of your unified marketing measurement, puts you in control of your marketing budget and allocation. We deploy a unique econometric modelling approach to understand the relative contribution of all marketing mix elements, and their short and long-term impact on sales and brand equity, to calculate your unified marketing ROI.\"],\"snippet_scores\":[6.11578947368421],\"snippet_rendered\":[true],\"position\":7,\"pub_date\":null,\"score\":null,\"result_source\":\"bing\",\"result_type\":\"webPages\",\"is_cited\":false,\"is_rendered\":true,\"fetch_query\":\"Kantar LIFT ROI product\"}'), Row(query='tell me everything about the LIFT ROI product. ', user_metadata='{\"time_zone\":\"Europe/Copenhagen\",\"user_locale\":\"en-GB\",\"user_country\":\"DK\",\"user_region\":\"Central Jutland\",\"user_region_code\":\"82\",\"cf_connecting_ip\":\"83.95.119.23\",\"ip_city\":\"Risskov\",\"latitude\":null,\"longitude\":null,\"locationAccuracy\":null,\"is_precise_location\":false,\"plan_type\":\"plus\"}', create_time='2024-12-08T17:46:09.769Z', search_result='{\"url\":\"https://upg-cd-we.kantar.com/uki/Campaigns/LIFT-ROI\",\"title\":\"LIFT ROI - upg-cd-we.kantar.com\",\"text\":\"LIFT ROI automatically sources data from inside and outside of your business, giving you the power to analyse your campaigns more thoroughly than ever before, whilst saving you time. Influences such as brand strength, competitor activities, distribution, interest rates, inflation, Covid-19 trends or even the weather, can now be built into your reporting.\",\"snippet_parts\":[\"LIFT ROI automatically sources data from inside and outside of your business, giving you the power to analyse your campaigns more thoroughly than ever before, whilst saving you time. Influences such as brand strength, competitor activities, distribution, interest rates, inflation, Covid-19 trends or even the weather, can now be built into your reporting.\"],\"snippet_scores\":[6.04],\"snippet_rendered\":[true],\"position\":8,\"pub_date\":null,\"score\":null,\"result_source\":\"bing\",\"result_type\":\"webPages\",\"is_cited\":false,\"is_rendered\":true,\"fetch_query\":\"Kantar LIFT ROI product\"}'), Row(query='tell me everything about the LIFT ROI product. ', user_metadata='{\"time_zone\":\"Europe/Copenhagen\",\"user_locale\":\"en-GB\",\"user_country\":\"DK\",\"user_region\":\"Central Jutland\",\"user_region_code\":\"82\",\"cf_connecting_ip\":\"83.95.119.23\",\"ip_city\":\"Risskov\",\"latitude\":null,\"longitude\":null,\"locationAccuracy\":null,\"is_precise_location\":false,\"plan_type\":\"plus\"}', create_time='2024-12-08T17:46:09.769Z', search_result='{\"url\":\"https://careers.kantar.com/job-description?referenceID=R089240\",\"title\":\"Job Description - careers.kantar.com\",\"text\":\"We are seeking a motivated Junior Product Operations Specialist to join our dynamic team and contribute to the ongoing development and support of our LIFT ROI product. Responsibilities: Gain a thorough understanding of our product, including all features and functionalities.\\\\nJob Description Back to search results Product Operations Specialist Location: Bangalore, Prestige Technology Park Posted:More than 30 days ago Job Type:Regular Ref:R089240 Apply Now Junior Product Operations Specialist At Kantar, we’re transforming the marketing industry with our innovative unified marketing measurement and optimization product. Our goal is to deliver impactful insights that help our clients enhance growth and maximize marketing ROI. We’re a global company with a dedicated team, passionate about creating exceptional user experiences for our customers. We are seeking a motivated Junior Product Operations Specialist to join our dynamic team and contribute to the ongoing development and support of our LIFT ROI product. Responsibilities: Gain a thorough understanding of our product, including all features and functionalities. Create and maintain comprehensive documentation for product features and functionalities. Handle customer support at a managerial level by reading support requests and reaching out to the appropriate team for solutions. Ensure effective communication between customer support and internal teams to resolve issues promptly. Assist in the development and implementation of processes to improve product operations and customer support efficiency. Monitor and report on product performance and customer feedback to identify areas for improvement. Collaborate with product managers, engineers, and other team members to ensure seamless product operations. Stay updated with the latest industry trends and best practices in product operations and customer support. Qualifications: A degree in Business, Information Technology, or a related field. Experience or internships in product operations, customer support, or a related role. Strong organizational and documentation skills. Excellent communication and interpersonal skills. Excellent English reading and speaking skills. Apply Now Back to search results\",\"snippet_parts\":[\"We are seeking a motivated Junior Product Operations Specialist to join our dynamic team and contribute to the ongoing development and support of our LIFT ROI product. Responsibilities: Gain a thorough understanding of our product, including all features and functionalities.\\\\nJob Description Back to search results Product Operations Specialist Location: Bangalore, Prestige Technology Park Posted:More than 30 days ago Job Type:Regular Ref:R089240 Apply Now Junior Product Operations Specialist At Kantar, we’re transforming the marketing industry with our innovative unified marketing measurement and optimization product. Our goal is to deliver impactful insights that help our clients enhance growth and maximize marketing ROI. We’re a global company with a dedicated team, passionate about creating exceptional user experiences for our customers. We are seeking a motivated Junior Product Operations Specialist to join our dynamic team and contribute to the ongoing development and support of our LIFT ROI product. Responsibilities: Gain a thorough understanding of our product, including all features and functionalities. Create and maintain comprehensive documentation for product features and functionalities. Handle customer support at a managerial level by reading support requests and reaching out to the appropriate team for solutions. Ensure effective communication between customer support and internal teams to resolve issues promptly. Assist in the development and implementation of processes to improve product operations and customer support efficiency. Monitor and report on product performance and customer feedback to identify areas for improvement. Collaborate with product managers, engineers, and other team members to ensure seamless product operations. Stay updated with the latest industry trends and best practices in product operations and customer support. Qualifications: A degree in Business, Information Technology, or a related field. Experience or internships in product operations, customer support, or a related role. Strong organizational and documentation skills. Excellent communication and interpersonal skills. Excellent English reading and speaking skills. Apply Now Back to search results\"],\"snippet_scores\":[5.9714285714285715],\"snippet_rendered\":[true],\"position\":9,\"pub_date\":null,\"score\":null,\"result_source\":\"bing\",\"result_type\":\"webPages\",\"is_cited\":false,\"is_rendered\":true,\"fetch_query\":\"Kantar LIFT ROI product\"}')]\n"
          ]
        }
      ]
    },
    {
      "cell_type": "markdown",
      "source": [
        "# Rate!"
      ],
      "metadata": {
        "id": "_QnywbJvaRcY"
      }
    },
    {
      "cell_type": "code",
      "source": [
        "from pprint import pprint\n",
        "parsed_samples = format_samples(samples)\n",
        "print(\n",
        "    pprint(parsed_samples[0][0].dict())\n",
        ")\n",
        "print(\n",
        "    pprint(parsed_samples[0][1].dict())\n",
        ")"
      ],
      "metadata": {
        "colab": {
          "base_uri": "https://localhost:8080/"
        },
        "id": "esLinEawV54e",
        "outputId": "fd35501e-db66-40dc-cad1-8659cf1005f3"
      },
      "execution_count": null,
      "outputs": [
        {
          "output_type": "stream",
          "name": "stdout",
          "text": [
            "dict_keys(['url', 'title', 'text', 'snippet_parts', 'snippet_scores', 'snippet_rendered', 'position', 'pub_date', 'score', 'result_source', 'result_type', 'is_cited', 'is_rendered', 'fetch_query'])\n",
            "dict_keys(['url', 'title', 'text', 'snippet_parts', 'snippet_scores', 'snippet_rendered', 'position', 'pub_date', 'score', 'result_source', 'result_type', 'is_cited', 'is_rendered', 'fetch_query'])\n",
            "dict_keys(['url', 'title', 'text', 'snippet_parts', 'snippet_scores', 'snippet_rendered', 'position', 'pub_date', 'score', 'result_source', 'result_type', 'is_cited', 'is_rendered', 'fetch_query'])\n",
            "dict_keys(['url', 'title', 'text', 'snippet_parts', 'snippet_scores', 'snippet_rendered', 'position', 'pub_date', 'score', 'result_source', 'result_type', 'is_cited', 'is_rendered', 'fetch_query'])\n",
            "dict_keys(['url', 'title', 'text', 'snippet_parts', 'snippet_scores', 'snippet_rendered', 'position', 'pub_date', 'score', 'result_source', 'result_type', 'is_cited', 'is_rendered', 'fetch_query'])\n",
            "dict_keys(['url', 'title', 'text', 'snippet_parts', 'snippet_scores', 'snippet_rendered', 'position', 'pub_date', 'score', 'result_source', 'result_type', 'is_cited', 'is_rendered', 'fetch_query'])\n",
            "dict_keys(['url', 'title', 'text', 'snippet_parts', 'snippet_scores', 'snippet_rendered', 'position', 'pub_date', 'score', 'result_source', 'result_type', 'is_cited', 'is_rendered', 'fetch_query'])\n",
            "dict_keys(['url', 'title', 'text', 'snippet_parts', 'snippet_scores', 'snippet_rendered', 'position', 'pub_date', 'score', 'result_source', 'result_type', 'is_cited', 'is_rendered', 'fetch_query'])\n",
            "dict_keys(['url', 'title', 'text', 'snippet_parts', 'snippet_scores', 'snippet_rendered', 'position', 'pub_date', 'score', 'result_source', 'result_type', 'is_cited', 'is_rendered', 'fetch_query'])\n",
            "dict_keys(['url', 'title', 'text', 'snippet_parts', 'snippet_scores', 'snippet_rendered', 'position', 'pub_date', 'score', 'result_source', 'result_type', 'is_cited', 'is_rendered', 'fetch_query'])\n",
            "{'create_timestamp': datetime.datetime(2024, 12, 8, 17, 46, 9, 769000),\n",
            " 'orig_query': 'tell me everything about the LIFT ROI product. ',\n",
            " 'query': 'Kantar LIFT ROI product',\n",
            " 'user_metadata': {'cf_connecting_ip': '83.95.119.23',\n",
            "                   'ip_city': 'Risskov',\n",
            "                   'is_precise_location': False,\n",
            "                   'latitude': None,\n",
            "                   'locationAccuracy': None,\n",
            "                   'longitude': None,\n",
            "                   'plan_type': <PlanType.PLUS: 'plus'>,\n",
            "                   'time_zone': 'Europe/Copenhagen',\n",
            "                   'user_country': 'DK',\n",
            "                   'user_locale': 'en-GB',\n",
            "                   'user_region': 'Central Jutland',\n",
            "                   'user_region_code': '82'}}\n",
            "None\n",
            "{'content': 'In this article, How LIFT ROI works for Auto, you will learn how '\n",
            "            'Kantar helps the automotive industry thrive and recover from the '\n",
            "            'aftermath of supply chain issues, more people replacing air '\n",
            "            'travel with cars, oil price daily/weekly fluctuation, etc. Auto '\n",
            "            'manufacturers need granular insights on a daily rather than a '\n",
            "            'yearly basis to compete in the rapidly changing, by the minute '\n",
            "            'market.\\n'\n",
            "            'LIFT ROI LIFT ROI Maximise your marketing effectiveness with '\n",
            "            'AI-powered market mix modelling Book a demo Holistic market mix '\n",
            "            'modelling that gives you the full picture Our unique, AI-powered '\n",
            "            'econometrics approach takes into account all factors influencing '\n",
            "            'your business and your brand. With this insight, we help you '\n",
            "            'understand how your campaigns performed in a holistic way, from '\n",
            "            'media investment, to creative quality. LIFT ROI automatically '\n",
            "            'sources data from inside and outside of your business, giving you '\n",
            "            'the power to analyse your campaigns more thoroughly than ever '\n",
            "            'before, whilst saving you time. Influences such as brand '\n",
            "            'strength, competitor activities, distribution, interest rates, '\n",
            "            'inflation, Covid-19 trends or even the weather, can now be built '\n",
            "            'into your reporting. With this wealth of data in one place, you '\n",
            "            'have the ability to assess the effectiveness of your campaigns, '\n",
            "            'and with the power of AI, you can now predict future campaign '\n",
            "            'performance too. The future of marketing mix modelling (MMM) is '\n",
            "            'here. Higher optimisation potential due to hyper-granular output '\n",
            "            'Always accurate It measures and optmises for direct and indirect '\n",
            "            'impact It measures the power of creative Intuitive interfact with '\n",
            "            'modelling powered by AI We demystify marketing measurement Get '\n",
            "            'answers to questions such as... - How should I measure marketing '\n",
            "            'effectiveness? - How does my marketing contribute to sales '\n",
            "            'growth? - How are my channels and touchpoints driving sales? - '\n",
            "            'What should the balance between my short- and long-term marketing '\n",
            "            'investment be? - How should I optimise my marketing budget to '\n",
            "            'reach our business target? - What should my media split look like '\n",
            "            \"to increase my marketing budget's effectiveness? Book a demo \"\n",
            "            'Access deeper insights than ever before LIFT ROI enables '\n",
            "            'marketing optimisation at the most granular level In a highly '\n",
            "            'complex media landscape, the ability to measure and optimise at '\n",
            "            'the most granular level provides marketers with the precision '\n",
            "            'they need to drive marketing effectiveness. Our holistic MMM '\n",
            "            'approach reliably and transparently links your marketing spend '\n",
            "            'with sales KPIs at the most granular level – down to the '\n",
            "            'individual publisher. Modelling runs on daily (or weekly) '\n",
            "            'business data, seizing the impact of market activities on sales '\n",
            "            'at the highest granularity level. Models can be updated on a '\n",
            "            'frequent basis, enabling you to analyse and optimise your '\n",
            "            'marketing budget to drive marketing profitability and brand '\n",
            "            'growth. A user-friendly, insight rich dashboard Analyse, evaluate '\n",
            "            'and optimise your marketing activities in near real-time with the '\n",
            "            'intuitive, end-to-end analytics dashboard in LIFT ROI. Access '\n",
            "            'historical media impact data Monitor and manage ongoing campaigns '\n",
            "            'and base sales against your company’s KPIs with a unified '\n",
            "            'marketing investment and ROI overview. Gather strategic business '\n",
            "            'insights Get a holistic overview of all business drivers, '\n",
            "            'including all internal and external factors impacting your '\n",
            "            'business. Predict and optimise for future scenarios Optimise your '\n",
            "            'marketing investment and predict the impact on sales based on '\n",
            "            'your budgets or business goals. \"Because of the LIFT ROI model '\n",
            "            \"and the optimisations we're running, we have been able to \"\n",
            "            'optimise our future media mix to improve our return on investment '\n",
            "            'to incremental revenue by at least 20%. <PRIVATE_PERSON>, CMO, My '\n",
            "            'Muscle Chef \"The LIFT ROI predictions helped us achieve 96.97% '\n",
            "            'accuracy in sales prediction based on the recommended media mix. '\n",
            "            'The predictions turned out to be quite rigorous and correct time '\n",
            "            'after time.\" <PRIVATE_PERSON>, Marketing Strategy and '\n",
            "            'Effectiveness, Telenor \"LIFT ROI has improved our marketing '\n",
            "            \"team's effectiveness by providing comprehensive insights beyond \"\n",
            "            'media implementation. These insights help us optimise our media '\n",
            "            'spend, non-media mix, and budget toward brand building, resulting '\n",
            "            'in better overall performance. With LIFT ROI, we can focus on '\n",
            "            'long-term brand building and planning. <PRIVATE_PERSON>, '\n",
            "            'Marketing Performance and Planning Manager, TSB Bank Using '\n",
            "            'Kantar’s holistic marketing effectiveness approach, integrating '\n",
            "            'creative into MMMs; KFC’s campaign delivered 1.5x sales uplift '\n",
            "            'and 1.4x increased ROI. The balanced mix of brand building and '\n",
            "            'performance marketing is a key advantage for a global auto '\n",
            "            'company which uses MMM models to predict car sales in the month '\n",
            "            'ahead, based on always-on data ingestion that suits their market '\n",
            "            'and their category. Case study Optimizing Brand-Building on Meta '\n",
            "            'Why do the world’s top brands perform well through good times and '\n",
            "            'bad? Why do their consumers show them brand love, but more '\n",
            "            'importantly, buy their products even without prompting? As a '\n",
            "            'marketer, how do I use my advertising spend to achieve the same '\n",
            "            'result for my brand? In this case study, we’ll look at why brand '\n",
            "            'equity matters and which media channels drive it most '\n",
            "            'efficiently. This paper dives deep on Meta, which our research '\n",
            "            \"shows is a highly efficient brand-building platform. We'll share \"\n",
            "            'tips on how marketers advertising with Meta technologies can '\n",
            "            'optimize their brand-building investment for long-term brand '\n",
            "            'growth. Download the case study A proven track record of success '\n",
            "            '20% increase in ROI due to optimised media mix 17% sales increase '\n",
            "            'in just 6 months 42% increase in profit 9.2% reduction in annual '\n",
            "            \"churn across entire product portfolio Discover Kantar's \"\n",
            "            'AI-powered market mix modelling tool which brings together data '\n",
            "            'from sources inside and outside of your business, including '\n",
            "            'Kantar’s world-class brand equity data, to give you near '\n",
            "            'real-time access to media and marketing performance insights that '\n",
            "            'enable you to make quick campaigns optimisations and accurately '\n",
            "            'predict future scenarios.',\n",
            " 'pub_date': None,\n",
            " 'title': 'LIFT ROI - Kantar',\n",
            " 'url': 'https://www.kantar.com/campaigns/lift-roi'}\n",
            "None\n"
          ]
        }
      ]
    },
    {
      "cell_type": "code",
      "source": [
        "grader = ToolberryWithBrowseGrader()  # GeneralGrader(model=\"gpt-4o-mini\")\n",
        "\n",
        "r = await grader(query=parsed_samples[0][0], document=parsed_samples[0][1], rubrics=\"Rate the relevance of the the search result DOCUMENT to the user QUERY.\")\n",
        "print(r)"
      ],
      "metadata": {
        "colab": {
          "base_uri": "https://localhost:8080/",
          "height": 1000
        },
        "id": "eSdtYubdXsZd",
        "outputId": "c06d7898-a49e-4d1f-9364-684d573269fc"
      },
      "execution_count": null,
      "outputs": [
        {
          "output_type": "stream",
          "name": "stdout",
          "text": [
            "\u001b[2m2025-01-17 22:50:18\u001b[0m [\u001b[32m\u001b[1mdebug    \u001b[0m] \u001b[1mSuccessfully subscribed to berry-shared:client:bwen-quail-spart-grader-master-0-dvyFKW.\u001b[0m \u001b[36mbus\u001b[0m=\u001b[35mTrue\u001b[0m\n",
            "\u001b[2m2025-01-17 22:50:24\u001b[0m [\u001b[33m\u001b[1mwarning  \u001b[0m] \u001b[1m%s: no more outstanding/pending requests; closing requestor. %s\u001b[0m \u001b[36mbus\u001b[0m=\u001b[35mTrue\u001b[0m \u001b[36mpositional_args\u001b[0m=\u001b[35m('berry-shared:client:bwen-quail-spart-grader-master-0-dvyFKW', '0 pending/0 outstanding/13 completed/0 errors')\u001b[0m\n",
            "\u001b[2m2025-01-17 22:50:24\u001b[0m [\u001b[32m\u001b[1mdebug    \u001b[0m] \u001b[1mTopicManager(berry-shared:client:bwen-quail-spart-grader-master-0-dvyFKW): 'CancelledError - Requestor(berry-shared:client:bwen-quail-spart-grader-master-0-dvyFKW).close()' thrown; exiting.\u001b[0m \u001b[36mbus\u001b[0m=\u001b[35mTrue\u001b[0m\n"
          ]
        },
        {
          "output_type": "stream",
          "name": "stderr",
          "text": [
            "WARNING:sonic_training.experiments.tools.lean_browser_sampling:already have _tool\n",
            "WARNING:sonic_training.experiments.tools.lean_browser_sampling:already have _tool\n"
          ]
        },
        {
          "output_type": "stream",
          "name": "stdout",
          "text": [
            "\u001b[2m2025-01-17 22:50:24\u001b[0m [\u001b[32m\u001b[1mdebug    \u001b[0m] \u001b[1m_Requestor.handle_responses(berry-shared:client:bwen-quail-spart-grader-master-0-dvyFKW): 'CancelledError - Requestor(berry-shared:client:bwen-quail-spart-grader-master-0-dvyFKW).close()' thrown; exiting.\u001b[0m \u001b[36mbus\u001b[0m=\u001b[35mTrue\u001b[0m\n"
          ]
        },
        {
          "output_type": "stream",
          "name": "stderr",
          "text": [
            "WARNING:sonic_training.experiments.tools.lean_browser_sampling:Processing message with tool <class 'lean_browser.lean_browser_tool.LeanBrowserTool'>\n"
          ]
        },
        {
          "output_type": "stream",
          "name": "stdout",
          "text": [
            "\u001b[2m2025-01-17 22:50:24\u001b[0m [\u001b[32m\u001b[1mdebug    \u001b[0m] \u001b[1mHeartbeatManager(berry-shared:client:bwen-quail-spart-grader-master-0-dvyFKW:alive): 'CancelledError - HeartbeatManager(berry-shared:client:bwen-quail-spart-grader-master-0-dvyFKW:alive).stop()' thrown; exiting.\u001b[0m \u001b[36mbus\u001b[0m=\u001b[35mTrue\u001b[0m\n"
          ]
        },
        {
          "output_type": "display_data",
          "data": {
            "text/plain": [],
            "text/html": [
              "<pre style=\"white-space:pre;overflow-x:auto;line-height:normal;font-family:Menlo,'DejaVu Sans Mono',consolas,'Courier New',monospace\"></pre>\n"
            ]
          },
          "metadata": {}
        },
        {
          "output_type": "stream",
          "name": "stderr",
          "text": [
            "WARNING:sonic_training.experiments.tools.lean_browser_sampling:Yielding message tool -> all\n",
            "╭─────────────────────────────────────────────────────────────────────────────────────────────────────────────────╮\n",
            "│ content_type='system_error' name='ToolUsageError' text='No pages to access!'                                    │\n",
            "╰─────────────────────────────────────────────────────────────────────────────────────────────────────────────────╯\n",
            "Content Type: system_error\n",
            "Channel: analysis\n",
            "Weight: \u001b[1;36m1.0\u001b[0m\n",
            "End Turn: \u001b[3;35mNone\u001b[0m\n",
            "\n"
          ]
        },
        {
          "output_type": "stream",
          "name": "stdout",
          "text": [
            "\u001b[2m2025-01-17 22:50:24\u001b[0m [\u001b[32m\u001b[1minfo     \u001b[0m] \u001b[1mModel function call complete  \u001b[0m \u001b[36mcomponent\u001b[0m=\u001b[35mfunction_calling_tool\u001b[0m \u001b[36mfunction_calling_tool\u001b[0m=\u001b[35m{'tool_name': 'browser', 'call_id': 'fncall_631f09a8a2e04925a2407d7b0d259750', 'input_message': {'id': UUID('f8eb9e4e-b25b-4c6e-99e0-e143ac66b2a1'), 'author': {'role': <Role.ASSISTANT: 'assistant'>, 'name': None}, 'recipient': 'browser.open', 'channel': 'analysis', 'content': {'content_type': 'code', '__str__': '{\"cursor\": 0}'}}, 'response_message_ids': ['97fef326-97fa-46a9-ac0c-67fd0c865bf9'], 'finished_successfully': True, 'function_calling_tool_version': '1.0.2', 'function_name': 'open', 'kwargs': {'cursor': 0}, '__fn_calling_tool_fn_type__': 'function_the_model_can_call'}\u001b[0m\n",
            "\u001b[2m2025-01-17 22:50:24\u001b[0m [\u001b[32m\u001b[1mdebug    \u001b[0m] \u001b[1mSuccessfully subscribed to berry-shared:client:bwen-quail-spart-grader-master-0-dvyFKW.\u001b[0m \u001b[36mbus\u001b[0m=\u001b[35mTrue\u001b[0m\n",
            "\u001b[2m2025-01-17 22:50:25\u001b[0m [\u001b[33m\u001b[1mwarning  \u001b[0m] \u001b[1m%s: no more outstanding/pending requests; closing requestor. %s\u001b[0m \u001b[36mbus\u001b[0m=\u001b[35mTrue\u001b[0m \u001b[36mpositional_args\u001b[0m=\u001b[35m('berry-shared:client:bwen-quail-spart-grader-master-0-dvyFKW', '0 pending/0 outstanding/14 completed/0 errors')\u001b[0m\n"
          ]
        },
        {
          "output_type": "stream",
          "name": "stderr",
          "text": [
            "WARNING:sonic_training.experiments.tools.lean_browser_sampling:already have _tool\n"
          ]
        },
        {
          "output_type": "stream",
          "name": "stdout",
          "text": [
            "\u001b[2m2025-01-17 22:50:25\u001b[0m [\u001b[32m\u001b[1mdebug    \u001b[0m] \u001b[1mTopicManager(berry-shared:client:bwen-quail-spart-grader-master-0-dvyFKW): 'CancelledError - Requestor(berry-shared:client:bwen-quail-spart-grader-master-0-dvyFKW).close()' thrown; exiting.\u001b[0m \u001b[36mbus\u001b[0m=\u001b[35mTrue\u001b[0m\n"
          ]
        },
        {
          "output_type": "stream",
          "name": "stderr",
          "text": [
            "WARNING:sonic_training.experiments.tools.lean_browser_sampling:already have _tool\n",
            "WARNING:sonic_training.experiments.tools.lean_browser_sampling:Processing message with tool <class 'lean_browser.lean_browser_tool.LeanBrowserTool'>\n"
          ]
        },
        {
          "output_type": "stream",
          "name": "stdout",
          "text": [
            "\u001b[2m2025-01-17 22:50:25\u001b[0m [\u001b[32m\u001b[1mdebug    \u001b[0m] \u001b[1m_Requestor.handle_responses(berry-shared:client:bwen-quail-spart-grader-master-0-dvyFKW): 'CancelledError - Requestor(berry-shared:client:bwen-quail-spart-grader-master-0-dvyFKW).close()' thrown; exiting.\u001b[0m \u001b[36mbus\u001b[0m=\u001b[35mTrue\u001b[0m\n",
            "\u001b[2m2025-01-17 22:50:25\u001b[0m [\u001b[32m\u001b[1mdebug    \u001b[0m] \u001b[1mHeartbeatManager(berry-shared:client:bwen-quail-spart-grader-master-0-dvyFKW:alive): 'CancelledError - HeartbeatManager(berry-shared:client:bwen-quail-spart-grader-master-0-dvyFKW:alive).stop()' thrown; exiting.\u001b[0m \u001b[36mbus\u001b[0m=\u001b[35mTrue\u001b[0m\n"
          ]
        },
        {
          "output_type": "stream",
          "name": "stderr",
          "text": [
            "WARNING:tool_use.browsing.browser:Failed to parse LinkedIn snippet: https://www.linkedin.com/in/nicla-bartoli\n",
            "WARNING:tool_use.browsing.browser:Failed to parse LinkedIn snippet: https://www.linkedin.com/in/vivianavenneri\n"
          ]
        },
        {
          "output_type": "display_data",
          "data": {
            "text/plain": [],
            "text/html": [
              "<pre style=\"white-space:pre;overflow-x:auto;line-height:normal;font-family:Menlo,'DejaVu Sans Mono',consolas,'Courier New',monospace\"></pre>\n"
            ]
          },
          "metadata": {}
        },
        {
          "output_type": "stream",
          "name": "stderr",
          "text": [
            "WARNING:sonic_training.experiments.tools.lean_browser_sampling:Yielding message tool -> all\n",
            "╭─────────────────────────────────────────────────────────────────────────────────────────────────────────────────╮\n",
            "│ content_type='tether_browsing_display' result=\"L0: # 【0†LIFT ROI - Kantar†www.kantar.com】\\nL1: Discover       │\n",
            "│ Kantar's AI-powered market mix modelling tool which brings together \\nL2: data from sources inside and outside  │\n",
            "│ of your business, including Kantar’s world-\\nL3: class brand equity data, to give you near real-time access to  │\n",
            "│ media and \\nL4: marketing performance insights that enable you to make quick campaigns \\nL5: optimisations and  │\n",
            "│ accurately predict future scenarios.\\nL6: \\nL7: # 【1†LIFT ROI - kantar.com†www.kantar.com】\\nL8: Having the    │\n",
            "│ right tools and understanding of your unified marketing measurement, \\nL9: puts you in control of your          │\n",
            "│ marketing budget and allocation. We deploy a unique \\nL10: econometric modelling approach to understand the     │\n",
            "│ relative contribution of all \\nL11: marketing mix elements, and their short and long-term impact on sales and   │\n",
            "│ brand \\nL12: equity, to calculate your unified marketing ROI.\\nL13: \\nL14: # 【2†LIFT ROI -                     │\n",
            "│ Kantar†www.kantar.com】\\nL15: A modern, disruptive measurement approach changing the way marketers think,       │\n",
            "│ \\nL16: evaluate and influence their marketing performance and KPIs. LIFT ROI provides \\nL17: actionable         │\n",
            "│ campaign insights to strengthen marketing and media decisions.\\nL18: \\nL19: # 【3†LIFT                          │\n",
            "│ ROI†liftroi.kantar.com】\\nL20: You need to enable JavaScript to run this app. LIFT ROI. You need to enable      │\n",
            "│ \\nL21: JavaScript to run this app.\\nL22: \\nL23: # 【4†LIFT ROI - Kantar†www.kantar.com】\\nL24: With Kantar's    │\n",
            "│ groundbreaking and validated AI solution LIFT ROI, you evaluate \\nL25: and optimize the effectiveness of brand  │\n",
            "│ and performance marketing activities.\\nL26: \\nL27: # 【5†MEASUREMENT 1 GUIDE TO LIFT AND ROI - Amazon Web       │\n",
            "│ Services†thearf-org-\\nL28: unified-admin.s3.amazonaws.com】\\nL29: GUIDE TO LIFT AND ROI MEASUREMENT PRODUCTS |  │\n",
            "│ 6 PRODUCT DESCRIPTIONS PROVIDED BY \\nL30: THE COMPANIES 605 605 is an independent TV measurement and analytics  │\n",
            "│ ﬁrm that \\nL31: offers advertising and content measurement, full-funnel attribution, media\\nL32: \\nL33: #       │\n",
            "│ 【6†LIFT ROI - kantar-we-cd01.addison-group.net†kantar-we-cd01.addison-\\nL34: group.net】\\nL35: A modern,       │\n",
            "│ disruptive measurement approach changing the way marketeers think, \\nL36: evaluate and influence their          │\n",
            "│ marketing performance and KPIs. LIFT ROI provides \\nL37: actionable campaign insights to strengthen marketing   │\n",
            "│ and media decisions.\\nL38: \\nL39: # 【7†Measuring Multichannel Marketing Campaigns |                            │\n",
            "│ Kantar†cdwe01.kantar.com】\\nL40: LIFT measures your campaign’s true impact on your Brand equity and business    │\n",
            "│ \\nL41: growth.\\nL42: \\nL43: # 【8†Senior Software Engineer - Kantar - Built In†builtin.com】\\nL44: Kantar -     │\n",
            "│ LIFT ROI works with cutting-edge AI systems, supported by some of the \\nL45: newest tech available. Our systems │\n",
            "│ are based on a microservice architecture \\nL46: where everything runs in AWS cloud, and we have a large         │\n",
            "│ Kubernetes setup for \\nL47: running machine learning models and many other products.\\nL48: \\nL49: # 【9†23      │\n",
            "│ Obvious Ai Technology Jobs and Vacancies - Indeed†in.indeed.com】\\nL50: Kantar - LIFT ROI works with            │\n",
            "│ cutting-edge AI systems, supported by ...\" summary='Search results for query `\"Kantar LIFT ROI\"`\\n**viewing     │\n",
            "│ lines [0 - 50] of 50**\\n\\n' assets=None tether_id=0                                                             │\n",
            "╰─────────────────────────────────────────────────────────────────────────────────────────────────────────────────╯\n",
            "Content Type: tether_browsing_display\n",
            "Channel: analysis\n",
            "Weight: \u001b[1;36m1.0\u001b[0m\n",
            "End Turn: \u001b[3;35mNone\u001b[0m\n",
            "\n"
          ]
        },
        {
          "output_type": "stream",
          "name": "stdout",
          "text": [
            "\u001b[2m2025-01-17 22:50:26\u001b[0m [\u001b[32m\u001b[1minfo     \u001b[0m] \u001b[1mModel function call complete  \u001b[0m \u001b[36mcomponent\u001b[0m=\u001b[35mfunction_calling_tool\u001b[0m \u001b[36mfunction_calling_tool\u001b[0m=\u001b[35m{'tool_name': 'browser', 'call_id': 'fncall_914a676e390249edbd82ece08a6f822f', 'input_message': {'id': UUID('52f7f21b-1750-40d1-b672-bde31b98d4f4'), 'author': {'role': <Role.ASSISTANT: 'assistant'>, 'name': None}, 'recipient': 'browser.search', 'channel': 'analysis', 'content': {'content_type': 'code', '__str__': '{\"query\": \"\\\\\"Kantar LIFT ROI\\\\\"\"}'}}, 'response_message_ids': ['3a6ec1e6-5209-4a23-8cf6-e931c80dec82'], 'finished_successfully': True, 'function_calling_tool_version': '1.0.2', 'function_name': 'search', 'kwargs': {'query': '\"Kantar LIFT ROI\"'}, '__fn_calling_tool_fn_type__': 'function_the_model_can_call'}\u001b[0m\n",
            "\u001b[2m2025-01-17 22:50:26\u001b[0m [\u001b[32m\u001b[1mdebug    \u001b[0m] \u001b[1mSuccessfully subscribed to berry-shared:client:bwen-quail-spart-grader-master-0-dvyFKW.\u001b[0m \u001b[36mbus\u001b[0m=\u001b[35mTrue\u001b[0m\n",
            "\u001b[2m2025-01-17 22:50:27\u001b[0m [\u001b[33m\u001b[1mwarning  \u001b[0m] \u001b[1m%s: no more outstanding/pending requests; closing requestor. %s\u001b[0m \u001b[36mbus\u001b[0m=\u001b[35mTrue\u001b[0m \u001b[36mpositional_args\u001b[0m=\u001b[35m('berry-shared:client:bwen-quail-spart-grader-master-0-dvyFKW', '0 pending/0 outstanding/15 completed/0 errors')\u001b[0m\n",
            "\u001b[2m2025-01-17 22:50:27\u001b[0m [\u001b[32m\u001b[1mdebug    \u001b[0m] \u001b[1mTopicManager(berry-shared:client:bwen-quail-spart-grader-master-0-dvyFKW): 'CancelledError - Requestor(berry-shared:client:bwen-quail-spart-grader-master-0-dvyFKW).close()' thrown; exiting.\u001b[0m \u001b[36mbus\u001b[0m=\u001b[35mTrue\u001b[0m\n",
            "input: message=Message(id=UUID('e40b5c86-587d-487d-8722-de8be0bfc1c9'), author=Author(role=<Role.SYSTEM: 'system'>, name=None, metadata={}), create_time=None, update_time=None, content=SystemContent(content_type='system_content', model_identity_desc='You are ChatGPT, a large language model trained by OpenAI.', instructions=[], conversation_start_date=None, deprecated_knowledge_cutoff=None, knowledge_cutoff_format=None, tools_section={'browser': '// Tool for browsing.\\n// The `cursor` appears in brackets before each browsing display: `[{cursor}]`.\\n// Cite information from the tool using the following format:\\n// `【{cursor}†L{line_start}(-L{line_end})?】`, for example: `【6†L9-L11】` or `【8†L3】`.\\n// Cite images in the same way, just using L0, e.g. `【9†L0】`.\\n// Embed images in your response with `【{cursor}†embed_image】`, e.g. `【2†embed_image】`, where cursor 2 contains the image.\\n// sources=web (default: web)\\nnamespace browser {\\n\\n// Searches for information related to `query` and displays `topn` results, filtering by `recency_days` if specified.\\ntype search = (_: {\\nquery: string,\\ntopn?: number, // default: 10\\nrecency_days?: number,\\nsource?: string,\\n}) => any;\\n\\n// Opens the link `id` from the page indicated by `cursor` starting at line number `loc`, showing `num_lines` lines.\\n// Valid link ids are displayed with the formatting: `【{id}†.*】`.\\n// If `cursor` is not provided, the most recent page is implied.\\n// If `id` is a string, it is treated as a fully qualified URL associated with `source`.\\n// If `loc` is not provided, the viewport will be positioned at the beginning of the document or centered on the most relevant passage, if available.\\n// Use this function without `id` to scroll to a new location of an opened page.\\ntype open = (_: {\\nid?: number | string, // default: -1\\ncursor?: number, // default: -1\\nloc?: number, // default: -1\\nnum_lines?: number, // default: -1\\nsource?: string,\\n}) => any;\\n\\n// Finds exact matches of `pattern` in the current page, or the page given by `cursor`.\\ntype find = (_: {\\npattern: string,\\ncursor?: number, // default: -1\\n}) => any;\\n\\n} // namespace browser'}, response_formats=None, content_policy=None, output_config=None, voice_sample_config=None, channel_config=None, settings=None, metadata=SystemContentMetadata(user_specific_instructions=None, reward_multiplier=None, message_types_allowed_extra=())), status=<Status.FINISHED_SUCCESSFULLY: 'finished_successfully'>, end_turn=True, weight=0.0, metadata={}, recipient='all', channel=None)\n",
            "input: message=Message(id=UUID('ad60c054-8b1b-41d3-b42e-7676d45c993d'), author=Author(role=<Role.USER: 'user'>, name=None, metadata={}), create_time=None, update_time=None, content=Text(content_type='text', parts=['\\nYou are a professional grader that judges the quality of search results.  \\nYou need to follow the rating instruction below to rate a given QUERY - DOCUMENT pair with respect to each dimension. \\nThe QUERY contains the QUERY TEXT, DATE, and LOCATION of the searcher. The DOCUMENT contains TITLE, URL, PUBLICATION DATE, and CONTENT. \\nWrite your decision for each aspects in the markdown format. It should contain a title of the area, the rating, and detailed justification of your decision. \\nIf you have any confusion or something worth commenting, can also output them in a \"notes\". \\n\\nThe response of each aspect (dimension) is:\\n## <Aspect>\\n* rating: <rating>\\n* justification: <justification>\\n* notes: <notes>\\n\\nThe Rubrics is:\\n\\n\\nRate the relevance of the the search result DOCUMENT to the user QUERY.\\n\\n# Input Query and Document\\n\\nQUERY:\\nQUERY TEXT: Kantar LIFT ROI product\\nDATE: 2024-12-08\\nLOCATION: country - DK, region - Central Jutland, city - Risskov\\n\\nDOCUMENT:\\nTITLE: LIFT ROI - Kantar\\nURL: https://www.kantar.com/campaigns/lift-roi\\nPUBLICATION DATE: N/A\\nCONTENT: In this article, How LIFT ROI works for Auto, you will learn how Kantar helps the automotive industry thrive and recover from the aftermath of supply chain issues, more people replacing air travel with cars, oil price daily/weekly fluctuation, etc. Auto manufacturers need granular insights on a daily rather than a yearly basis to compete in the rapidly changing, by the minute market.\\nLIFT ROI LIFT ROI Maximise your marketing effectiveness with AI-powered market mix modelling Book a demo Holistic market mix modelling that gives you the full picture Our unique, AI-powered econometrics approach takes into account all factors influencing your business and your brand. With this insight, we help you understand how your campaigns performed in a holistic way, from media investment, to creative quality. LIFT ROI automatically sources data from inside and outside of your business, giving you the power to analyse your campaigns more thoroughly than ever before, whilst saving you time. Influences such as brand strength, competitor activities, distribution, interest rates, inflation, Covid-19 trends or even the weather, can now be built into your reporting. With this wealth of data in one place, you have the ability to assess the effectiveness of your campaigns, and with the power of AI, you can now predict future campaign performance too. The future of marketing mix modelling (MMM) is here. Higher optimisation potential due to hyper-granular output Always accurate It measures and optmises for direct and indirect impact It measures the power of creative Intuitive interfact with modelling powered by AI We demystify marketing measurement Get answers to questions such as... - How should I measure marketing effectiveness? - How does my marketing contribute to sales growth? - How are my channels and touchpoints driving sales? - What should the balance between my short- and long-term marketing investment be? - How should I optimise my marketing budget to reach our business target? - What should my media split look like to increase my marketing budget\\'s effectiveness? Book a demo Access deeper insights than ever before LIFT ROI enables marketing optimisation at the most granular level In a highly complex media landscape, the ability to measure and optimise at the most granular level provides marketers with the precision they need to drive marketing effectiveness. Our holistic MMM approach reliably and transparently links your marketing spend with sales KPIs at the most granular level – down to the individual publisher. Modelling runs on daily (or weekly) business data, seizing the impact of market activities on sales at the highest granularity level. Models can be updated on a frequent basis, enabling you to analyse and optimise your marketing budget to drive marketing profitability and brand growth. A user-friendly, insight rich dashboard Analyse, evaluate and optimise your marketing activities in near real-time with the intuitive, end-to-end analytics dashboard in LIFT ROI. Access historical media impact data Monitor and manage ongoing campaigns and base sales against your company’s KPIs with a unified marketing investment and ROI overview. Gather strategic business insights Get a holistic overview of all business drivers, including all internal and external factors impacting your business. Predict and optimise for future scenarios Optimise your marketing investment and predict the impact on sales based on your budgets or business goals. \"Because of the LIFT ROI model and the optimisations we\\'re running, we have been able to optimise our future media mix to improve our return on investment to incremental revenue by at least 20%. <PRIVATE_PERSON>, CMO, My Muscle Chef \"The LIFT ROI predictions helped us achieve 96.97% accuracy in sales prediction based on the recommended media mix. The predictions turned out to be quite rigorous and correct time after time.\" <PRIVATE_PERSON>, Marketing Strategy and Effectiveness, Telenor \"LIFT ROI has improved our marketing team\\'s effectiveness by providing comprehensive insights beyond media implementation. These insights help us optimise our media spend, non-media mix, and budget toward brand building, resulting in better overall performance. With LIFT ROI, we can focus on long-term brand building and planning. <PRIVATE_PERSON>, Marketing Performance and Planning Manager, TSB Bank Using Kantar’s holistic marketing effectiveness approach, integrating creative into MMMs; KFC’s campaign delivered 1.5x sales uplift and 1.4x increased ROI. The balanced mix of brand building and performance marketing is a key advantage for a global auto company which uses MMM models to predict car sales in the month ahead, based on always-on data ingestion that suits their market and their category. Case study Optimizing Brand-Building on Meta Why do the world’s top brands perform well through good times and bad? Why do their consumers show them brand love, but more importantly, buy their products even without prompting? As a marketer, how do I use my advertising spend to achieve the same result for my brand? In this case study, we’ll look at why brand equity matters and which media channels drive it most efficiently. This paper dives deep on Meta, which our research shows is a highly efficient brand-building platform. We\\'ll share tips on how marketers advertising with Meta technologies can optimize their brand-building investment for long-term brand growth. Download the case study A proven track record of success 20% increase in ROI due to optimised media mix 17% sales increase in just 6 months 42% increase in profit 9.2% reduction in annual churn across entire product portfolio Discover Kantar\\'s AI-powered market mix modelling tool which brings together data from sources inside and outside of your business, including Kantar’s world-class brand equity data, to give you near real-time access to media and marketing performance insights that enable you to make quick campaigns optimisations and accurately predict future scenarios.\\n    \\nYou can use browser.tool_call to help you grading. ']), status=<Status.FINISHED_SUCCESSFULLY: 'finished_successfully'>, end_turn=None, weight=0.0, metadata={}, recipient='all', channel=None)\n",
            "output: message=Message(id=UUID('49bc4d69-1f78-438b-a280-fae2fd4debdc'), author=Author(role=<Role.ASSISTANT: 'assistant'>, name=None, metadata={}), create_time=None, update_time=None, content=Text(content_type='text', parts=['The query: \"Kantar LIFT ROI product\" likely someone from DK looking for Kantar\\'s LIFT ROI product. Document: \"LIFT ROI - Kantar\" describes Kantar\\'s LIFT ROI product. It is from Kantar\\'s website, the page is titled LIFT ROI. It appears relevant. Query date: 2024-12-08 - time context is 2024. Document content seems directly relevant.\\n\\nThis is a perfect match likely.\\n\\nAspects probably include relevance rating for three aspects: Topicality, Freshness, Geography etc. But we only have rating instructions: \"Rate the relevance of the search result DOCUMENT to the user QUERY\".\\n\\nThus focus on how relevant. It is about Kantar LIFT ROI. Document is a product page for Kantar LIFT ROI. Good.\\n\\nNo other info.\\n\\nProbably answer like:\\n\\n## Relevance\\n* rating: Perfect (HIGH)\\n* justification: Document exactly describes LIFT ROI product by Kantar with details.illuni But content is in English, but user is in Denmark (speaks English fine). The date is 2024, but maybe content is updated? Document not dated, but relevant anyway. So rating: \"Highly Relevant\".\\n\\nOpportunity.\\n\\nThus the rating: relevant.Probably high.\\n\\nThe rubrics instruct: \"Rate the relevance of the the search result DOCUMENT to the user QUERY.\" Provide justification. So output with markdown.\\n\\nnotes: none. Let\\'s answer.']), status=<Status.FINISHED_SUCCESSFULLY: 'finished_successfully'>, end_turn=False, weight=1.0, metadata={'first_content_token_index': 3, 'first_token_time': 1737154224.6239479, 'message_content_token_count': 293, 'last_token_time': 1737154224.7037911, 'citations': [], 'content_references': []}, recipient='all', channel='analysis')\n",
            "output: message=Message(id=UUID('f8eb9e4e-b25b-4c6e-99e0-e143ac66b2a1'), author=Author(role=<Role.ASSISTANT: 'assistant'>, name=None, metadata={}), create_time=None, update_time=None, content=Code(content_type='code', language=<Language.UNKNOWN: 'unknown'>, response_format_name=None, text='{\"cursor\": 0}'), status=<Status.FINISHED_SUCCESSFULLY: 'finished_successfully'>, end_turn=False, weight=1.0, metadata={'first_content_token_index': 10, 'first_token_time': 1737154224.7041566, 'message_content_token_count': 7, 'last_token_time': 1737154224.7059727, 'citations': [], 'content_references': [], 'prefixed_with_wordlim': None}, recipient='browser.open', channel='analysis')\n",
            "output: message=Message(id=UUID('97fef326-97fa-46a9-ac0c-67fd0c865bf9'), author=Author(role=<Role.TOOL: 'tool'>, name='browser.open', metadata={}), create_time=None, update_time=None, content=SystemError(content_type='system_error', name='ToolUsageError', text='No pages to access!'), status=<Status.FINISHED_SUCCESSFULLY: 'finished_successfully'>, end_turn=None, weight=1.0, metadata={}, recipient='all', channel='analysis')\n",
            "output: message=Message(id=UUID('d9ed6132-4c11-457f-be54-467c2896e73d'), author=Author(role=<Role.ASSISTANT: 'assistant'>, name=None, metadata={}), create_time=None, update_time=None, content=Text(content_type='text', parts=[\"Let's construct.\"]), status=<Status.FINISHED_SUCCESSFULLY: 'finished_successfully'>, end_turn=False, weight=1.0, metadata={'first_content_token_index': 3, 'first_token_time': 1737154225.4732137, 'message_content_token_count': 4, 'last_token_time': 1737154225.47453, 'citations': [], 'content_references': []}, recipient='all', channel='analysis')\n",
            "output: message=Message(id=UUID('52f7f21b-1750-40d1-b672-bde31b98d4f4'), author=Author(role=<Role.ASSISTANT: 'assistant'>, name=None, metadata={}), create_time=None, update_time=None, content=Code(content_type='code', language=<Language.UNKNOWN: 'unknown'>, response_format_name=None, text='{\"query\": \"\\\\\"Kantar LIFT ROI\\\\\"\"}'), status=<Status.FINISHED_SUCCESSFULLY: 'finished_successfully'>, end_turn=False, weight=1.0, metadata={'first_content_token_index': 10, 'first_token_time': 1737154225.474855, 'message_content_token_count': 12, 'last_token_time': 1737154225.4780529, 'citations': [], 'content_references': [], 'prefixed_with_wordlim': None}, recipient='browser.search', channel='analysis')\n",
            "output: message=Message(id=UUID('3a6ec1e6-5209-4a23-8cf6-e931c80dec82'), author=Author(role=<Role.TOOL: 'tool'>, name='browser.search', metadata={}), create_time=None, update_time=None, content=TetherBrowsingDisplay(content_type='tether_browsing_display', result=\"L0: # 【0†LIFT ROI - Kantar†www.kantar.com】\\nL1: Discover Kantar's AI-powered market mix modelling tool which brings together \\nL2: data from sources inside and outside of your business, including Kantar’s world-\\nL3: class brand equity data, to give you near real-time access to media and \\nL4: marketing performance insights that enable you to make quick campaigns \\nL5: optimisations and accurately predict future scenarios.\\nL6: \\nL7: # 【1†LIFT ROI - kantar.com†www.kantar.com】\\nL8: Having the right tools and understanding of your unified marketing measurement, \\nL9: puts you in control of your marketing budget and allocation. We deploy a unique \\nL10: econometric modelling approach to understand the relative contribution of all \\nL11: marketing mix elements, and their short and long-term impact on sales and brand \\nL12: equity, to calculate your unified marketing ROI.\\nL13: \\nL14: # 【2†LIFT ROI - Kantar†www.kantar.com】\\nL15: A modern, disruptive measurement approach changing the way marketers think, \\nL16: evaluate and influence their marketing performance and KPIs. LIFT ROI provides \\nL17: actionable campaign insights to strengthen marketing and media decisions.\\nL18: \\nL19: # 【3†LIFT ROI†liftroi.kantar.com】\\nL20: You need to enable JavaScript to run this app. LIFT ROI. You need to enable \\nL21: JavaScript to run this app.\\nL22: \\nL23: # 【4†LIFT ROI - Kantar†www.kantar.com】\\nL24: With Kantar's groundbreaking and validated AI solution LIFT ROI, you evaluate \\nL25: and optimize the effectiveness of brand and performance marketing activities.\\nL26: \\nL27: # 【5†MEASUREMENT 1 GUIDE TO LIFT AND ROI - Amazon Web Services†thearf-org-\\nL28: unified-admin.s3.amazonaws.com】\\nL29: GUIDE TO LIFT AND ROI MEASUREMENT PRODUCTS | 6 PRODUCT DESCRIPTIONS PROVIDED BY \\nL30: THE COMPANIES 605 605 is an independent TV measurement and analytics ﬁrm that \\nL31: offers advertising and content measurement, full-funnel attribution, media\\nL32: \\nL33: # 【6†LIFT ROI - kantar-we-cd01.addison-group.net†kantar-we-cd01.addison-\\nL34: group.net】\\nL35: A modern, disruptive measurement approach changing the way marketeers think, \\nL36: evaluate and influence their marketing performance and KPIs. LIFT ROI provides \\nL37: actionable campaign insights to strengthen marketing and media decisions.\\nL38: \\nL39: # 【7†Measuring Multichannel Marketing Campaigns | Kantar†cdwe01.kantar.com】\\nL40: LIFT measures your campaign’s true impact on your Brand equity and business \\nL41: growth.\\nL42: \\nL43: # 【8†Senior Software Engineer - Kantar - Built In†builtin.com】\\nL44: Kantar - LIFT ROI works with cutting-edge AI systems, supported by some of the \\nL45: newest tech available. Our systems are based on a microservice architecture \\nL46: where everything runs in AWS cloud, and we have a large Kubernetes setup for \\nL47: running machine learning models and many other products.\\nL48: \\nL49: # 【9†23 Obvious Ai Technology Jobs and Vacancies - Indeed†in.indeed.com】\\nL50: Kantar - LIFT ROI works with cutting-edge AI systems, supported by ...\", summary='Search results for query `\"Kantar LIFT ROI\"`\\n**viewing lines [0 - 50] of 50**\\n\\n', assets=None, tether_id=0), status=<Status.FINISHED_SUCCESSFULLY: 'finished_successfully'>, end_turn=None, weight=1.0, metadata={'url': '', 'title': 'Search results for query `\"Kantar LIFT ROI\"`', 'source': 'web', 'og_tags': None}, recipient='all', channel='analysis')\n",
            "output: message=Message(id=UUID('863c7499-bc74-44a8-a59d-af9cf9b8865c'), author=Author(role=<Role.ASSISTANT: 'assistant'>, name=None, metadata={}), create_time=None, update_time=None, content=Text(content_type='text', parts=[\"Thus rating high. We'll produce appropriate markdown:\"]), status=<Status.FINISHED_SUCCESSFULLY: 'finished_successfully'>, end_turn=False, weight=1.0, metadata={'first_content_token_index': 3, 'first_token_time': 1737154227.4056466, 'message_content_token_count': 10, 'last_token_time': 1737154227.4084427, 'citations': [], 'content_references': []}, recipient='all', channel='analysis')\n",
            "output: message=Message(id=UUID('c0d45ef8-b973-4ee9-a6af-556d3966d708'), author=Author(role=<Role.ASSISTANT: 'assistant'>, name=None, metadata={}), create_time=None, update_time=None, content=Text(content_type='text', parts=['## Relevance\\n* rating: High\\n* justification: The document is a product page on Kantar\\'s website titled \"LIFT ROI - Kantar\" and describes Kantar’s LIFT ROI offering. The user query explicitly asks about the Kantar LIFT ROI product. The content directly matches the query.\\n* notes: None.']), status=<Status.FINISHED_SUCCESSFULLY: 'finished_successfully'>, end_turn=True, weight=1.0, metadata={'first_content_token_index': 5, 'first_token_time': 1737154227.409427, 'message_content_token_count': 69, 'last_token_time': 1737154227.4275086, 'citations': [], 'content_references': [], 'prefixed_with_wordlim': None}, recipient='all', channel='analysis')\n",
            "\u001b[2m2025-01-17 22:50:27\u001b[0m [\u001b[32m\u001b[1mdebug    \u001b[0m] \u001b[1m_Requestor.handle_responses(berry-shared:client:bwen-quail-spart-grader-master-0-dvyFKW): 'CancelledError - Requestor(berry-shared:client:bwen-quail-spart-grader-master-0-dvyFKW).close()' thrown; exiting.\u001b[0m \u001b[36mbus\u001b[0m=\u001b[35mTrue\u001b[0m\n"
          ]
        },
        {
          "output_type": "display_data",
          "data": {
            "text/plain": [],
            "text/html": [
              "<pre style=\"white-space:pre;overflow-x:auto;line-height:normal;font-family:Menlo,'DejaVu Sans Mono',consolas,'Courier New',monospace\"></pre>\n"
            ]
          },
          "metadata": {}
        },
        {
          "output_type": "stream",
          "name": "stdout",
          "text": [
            "assistant -> all\n",
            "╭─────────────────────────────────────────────────────────────────────────────────────────────────────────────────╮\n",
            "│ ## Relevance                                                                                                    │\n",
            "│ * rating: High                                                                                                  │\n",
            "│ * justification: The document is a product page on Kantar's website titled \"LIFT ROI - Kantar\" and describes    │\n",
            "│ Kantar’s LIFT ROI offering. The user query explicitly asks about the Kantar LIFT ROI product. The content       │\n",
            "│ directly matches the query.                                                                                     │\n",
            "│ * notes: None.                                                                                                  │\n",
            "╰─────────────────────────────────────────────────────────────────────────────────────────────────────────────────╯\n",
            "Content Type: text\n",
            "Channel: analysis\n",
            "Weight: \u001b[1;36m1.0\u001b[0m\n",
            "message_content_token_count: \u001b[1;36m69\u001b[0m\n",
            "content_references: \u001b[1m[\u001b[0m\u001b[1m]\u001b[0m\n",
            "End Turn: \u001b[3;92mTrue\u001b[0m\n",
            "\n",
            "\u001b[2m2025-01-17 22:50:27\u001b[0m [\u001b[32m\u001b[1mdebug    \u001b[0m] \u001b[1mHeartbeatManager(berry-shared:client:bwen-quail-spart-grader-master-0-dvyFKW:alive): 'CancelledError - HeartbeatManager(berry-shared:client:bwen-quail-spart-grader-master-0-dvyFKW:alive).stop()' thrown; exiting.\u001b[0m \u001b[36mbus\u001b[0m=\u001b[35mTrue\u001b[0m\n"
          ]
        }
      ]
    },
    {
      "cell_type": "code",
      "source": [
        "from tool_use.browsing import fetch_with_caching, page_contents\n",
        "from search_service.globals.aio import get_direct_session, get_proxied_session\n",
        "from search_service import api\n",
        "import aiohttp\n",
        "from tool_use.browsing.labrador_browse_utils import open_url\n",
        "import functools\n",
        "\n",
        "\n",
        "\n",
        "async def fetch_page(url: str, timeout: float=1000) -> api.SonicPageContents:\n",
        "  async with fetch_with_caching.create_proxied_http_client_session(\n",
        "      cookie_jar=aiohttp.DummyCookieJar(),\n",
        "  ) as session:\n",
        "    fr = await fetch_with_caching.fetch(\n",
        "        session,\n",
        "        url,\n",
        "        timeout=timeout,\n",
        "        skip_robots_check=True,\n",
        "        allowed_content_types_lengths=page_contents.ALLOWED_PAGE_CONTENT_TYPES_LENGTHS,\n",
        "    )\n",
        "    if not fr.success:\n",
        "        raise Exception(f\"Failed to fetch {url}: ({fr.error_type}) {fr.error_message}\")\n",
        "\n",
        "    if fr.content_type in [\"text/html\", \"text/plain\"]:\n",
        "        if not fr.html:\n",
        "            raise Exception(f\"Failed to fetch {url}: ({fr.error_type}) {fr.error_message}\")\n",
        "\n",
        "        pc = await page_contents.process_html(\n",
        "            html=fr.html,\n",
        "            url=fr.url,\n",
        "            title=fr.title,\n",
        "            display_urls=True,\n",
        "            display_dates=True,\n",
        "            stats_tags=[\"tool_name:sonic\"],\n",
        "            content_type=fr.content_type,\n",
        "        )\n",
        "    elif fr.content_type in page_contents.ALLOWED_PAGE_CONTENT_TYPES_LENGTHS:\n",
        "        if not fr.raw_content:\n",
        "            raise Exception(f\"Failed to fetch {url}: ({fr.error_type}) {fr.error_message}\")\n",
        "\n",
        "        pc = await page_contents.process_mime(\n",
        "            raw_content=fr.raw_content,\n",
        "            url=fr.url,\n",
        "            title=fr.title,\n",
        "            display_urls=True,\n",
        "            display_dates=True,\n",
        "            stats_tags=[\"tool_name:sonic\"],\n",
        "            content_type=fr.content_type,\n",
        "        )\n",
        "    else:\n",
        "        raise Exception(f\"Unsupposed content type from {url}: {fr.content_type}\")\n",
        "\n",
        "    if pc.failed:\n",
        "        raise Exception(f\"Failed to parse {url}: {pc.error_message}\")\n",
        "    return api.SonicPageContents(\n",
        "        url=pc.url,\n",
        "        title=pc.title,\n",
        "        text=pc.text,\n",
        "        content_type=pc.content_type,\n",
        "        pub_date=date_str_to_timestamp(pc.pub_date),\n",
        "        image_urls=pc.image_urls,\n",
        "    )\n",
        "\n",
        "\n",
        "async def fetch_labrador_page(url):\n",
        "  async with aiohttp.ClientSession() as session:\n",
        "    return await fetch_page(url, session)\n",
        "\n",
        "pc = await fetch_page(\"https://www.wikiwand.com/en/articles/Marlow_Award\")\n",
        "\n",
        "# pc = await fetch_labrador_page(\"https://www.wikiwand.com/en/articles/Marlow_Award\")\n",
        "print(pc)\n",
        "\n"
      ],
      "metadata": {
        "id": "AaozbAIVc2BI"
      },
      "execution_count": null,
      "outputs": []
    }
  ]
}